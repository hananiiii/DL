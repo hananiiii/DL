{
  "nbformat": 4,
  "nbformat_minor": 0,
  "metadata": {
    "colab": {
      "provenance": [],
      "gpuType": "T4"
    },
    "kernelspec": {
      "name": "python3",
      "display_name": "Python 3"
    },
    "language_info": {
      "name": "python"
    },
    "accelerator": "GPU",
    "widgets": {
      "application/vnd.jupyter.widget-state+json": {
        "89074715e33d4880831bf981ef1bf45e": {
          "model_module": "@jupyter-widgets/controls",
          "model_name": "HBoxModel",
          "model_module_version": "1.5.0",
          "state": {
            "_dom_classes": [],
            "_model_module": "@jupyter-widgets/controls",
            "_model_module_version": "1.5.0",
            "_model_name": "HBoxModel",
            "_view_count": null,
            "_view_module": "@jupyter-widgets/controls",
            "_view_module_version": "1.5.0",
            "_view_name": "HBoxView",
            "box_style": "",
            "children": [
              "IPY_MODEL_4c3578d4b1ce4a7689162b5583ea49ba",
              "IPY_MODEL_e919e2ba822841368d8ebb107c4ae6c7",
              "IPY_MODEL_bef3b095b51b4a18ab034c49cbb49a39"
            ],
            "layout": "IPY_MODEL_cdc0f1c6f0d6475aa61cc54303babef6"
          }
        },
        "4c3578d4b1ce4a7689162b5583ea49ba": {
          "model_module": "@jupyter-widgets/controls",
          "model_name": "HTMLModel",
          "model_module_version": "1.5.0",
          "state": {
            "_dom_classes": [],
            "_model_module": "@jupyter-widgets/controls",
            "_model_module_version": "1.5.0",
            "_model_name": "HTMLModel",
            "_view_count": null,
            "_view_module": "@jupyter-widgets/controls",
            "_view_module_version": "1.5.0",
            "_view_name": "HTMLView",
            "description": "",
            "description_tooltip": null,
            "layout": "IPY_MODEL_2f3bb418a2c2483bb0e19dc43c1d679d",
            "placeholder": "​",
            "style": "IPY_MODEL_d66fc838b9384ac798f29ad76a8e5413",
            "value": "100%"
          }
        },
        "e919e2ba822841368d8ebb107c4ae6c7": {
          "model_module": "@jupyter-widgets/controls",
          "model_name": "FloatProgressModel",
          "model_module_version": "1.5.0",
          "state": {
            "_dom_classes": [],
            "_model_module": "@jupyter-widgets/controls",
            "_model_module_version": "1.5.0",
            "_model_name": "FloatProgressModel",
            "_view_count": null,
            "_view_module": "@jupyter-widgets/controls",
            "_view_module_version": "1.5.0",
            "_view_name": "ProgressView",
            "bar_style": "success",
            "description": "",
            "description_tooltip": null,
            "layout": "IPY_MODEL_2abb182be6ef403c9b3b55d0417e2cc3",
            "max": 3,
            "min": 0,
            "orientation": "horizontal",
            "style": "IPY_MODEL_42cffb865658427bbd72c739fae4f2a1",
            "value": 3
          }
        },
        "bef3b095b51b4a18ab034c49cbb49a39": {
          "model_module": "@jupyter-widgets/controls",
          "model_name": "HTMLModel",
          "model_module_version": "1.5.0",
          "state": {
            "_dom_classes": [],
            "_model_module": "@jupyter-widgets/controls",
            "_model_module_version": "1.5.0",
            "_model_name": "HTMLModel",
            "_view_count": null,
            "_view_module": "@jupyter-widgets/controls",
            "_view_module_version": "1.5.0",
            "_view_name": "HTMLView",
            "description": "",
            "description_tooltip": null,
            "layout": "IPY_MODEL_5c3ce9f88c8e4be9a9b858f5d57fcfb8",
            "placeholder": "​",
            "style": "IPY_MODEL_fad85406886840bab30e82e46fefb15b",
            "value": " 3/3 [00:28&lt;00:00,  9.65s/it]"
          }
        },
        "cdc0f1c6f0d6475aa61cc54303babef6": {
          "model_module": "@jupyter-widgets/base",
          "model_name": "LayoutModel",
          "model_module_version": "1.2.0",
          "state": {
            "_model_module": "@jupyter-widgets/base",
            "_model_module_version": "1.2.0",
            "_model_name": "LayoutModel",
            "_view_count": null,
            "_view_module": "@jupyter-widgets/base",
            "_view_module_version": "1.2.0",
            "_view_name": "LayoutView",
            "align_content": null,
            "align_items": null,
            "align_self": null,
            "border": null,
            "bottom": null,
            "display": null,
            "flex": null,
            "flex_flow": null,
            "grid_area": null,
            "grid_auto_columns": null,
            "grid_auto_flow": null,
            "grid_auto_rows": null,
            "grid_column": null,
            "grid_gap": null,
            "grid_row": null,
            "grid_template_areas": null,
            "grid_template_columns": null,
            "grid_template_rows": null,
            "height": null,
            "justify_content": null,
            "justify_items": null,
            "left": null,
            "margin": null,
            "max_height": null,
            "max_width": null,
            "min_height": null,
            "min_width": null,
            "object_fit": null,
            "object_position": null,
            "order": null,
            "overflow": null,
            "overflow_x": null,
            "overflow_y": null,
            "padding": null,
            "right": null,
            "top": null,
            "visibility": null,
            "width": null
          }
        },
        "2f3bb418a2c2483bb0e19dc43c1d679d": {
          "model_module": "@jupyter-widgets/base",
          "model_name": "LayoutModel",
          "model_module_version": "1.2.0",
          "state": {
            "_model_module": "@jupyter-widgets/base",
            "_model_module_version": "1.2.0",
            "_model_name": "LayoutModel",
            "_view_count": null,
            "_view_module": "@jupyter-widgets/base",
            "_view_module_version": "1.2.0",
            "_view_name": "LayoutView",
            "align_content": null,
            "align_items": null,
            "align_self": null,
            "border": null,
            "bottom": null,
            "display": null,
            "flex": null,
            "flex_flow": null,
            "grid_area": null,
            "grid_auto_columns": null,
            "grid_auto_flow": null,
            "grid_auto_rows": null,
            "grid_column": null,
            "grid_gap": null,
            "grid_row": null,
            "grid_template_areas": null,
            "grid_template_columns": null,
            "grid_template_rows": null,
            "height": null,
            "justify_content": null,
            "justify_items": null,
            "left": null,
            "margin": null,
            "max_height": null,
            "max_width": null,
            "min_height": null,
            "min_width": null,
            "object_fit": null,
            "object_position": null,
            "order": null,
            "overflow": null,
            "overflow_x": null,
            "overflow_y": null,
            "padding": null,
            "right": null,
            "top": null,
            "visibility": null,
            "width": null
          }
        },
        "d66fc838b9384ac798f29ad76a8e5413": {
          "model_module": "@jupyter-widgets/controls",
          "model_name": "DescriptionStyleModel",
          "model_module_version": "1.5.0",
          "state": {
            "_model_module": "@jupyter-widgets/controls",
            "_model_module_version": "1.5.0",
            "_model_name": "DescriptionStyleModel",
            "_view_count": null,
            "_view_module": "@jupyter-widgets/base",
            "_view_module_version": "1.2.0",
            "_view_name": "StyleView",
            "description_width": ""
          }
        },
        "2abb182be6ef403c9b3b55d0417e2cc3": {
          "model_module": "@jupyter-widgets/base",
          "model_name": "LayoutModel",
          "model_module_version": "1.2.0",
          "state": {
            "_model_module": "@jupyter-widgets/base",
            "_model_module_version": "1.2.0",
            "_model_name": "LayoutModel",
            "_view_count": null,
            "_view_module": "@jupyter-widgets/base",
            "_view_module_version": "1.2.0",
            "_view_name": "LayoutView",
            "align_content": null,
            "align_items": null,
            "align_self": null,
            "border": null,
            "bottom": null,
            "display": null,
            "flex": null,
            "flex_flow": null,
            "grid_area": null,
            "grid_auto_columns": null,
            "grid_auto_flow": null,
            "grid_auto_rows": null,
            "grid_column": null,
            "grid_gap": null,
            "grid_row": null,
            "grid_template_areas": null,
            "grid_template_columns": null,
            "grid_template_rows": null,
            "height": null,
            "justify_content": null,
            "justify_items": null,
            "left": null,
            "margin": null,
            "max_height": null,
            "max_width": null,
            "min_height": null,
            "min_width": null,
            "object_fit": null,
            "object_position": null,
            "order": null,
            "overflow": null,
            "overflow_x": null,
            "overflow_y": null,
            "padding": null,
            "right": null,
            "top": null,
            "visibility": null,
            "width": null
          }
        },
        "42cffb865658427bbd72c739fae4f2a1": {
          "model_module": "@jupyter-widgets/controls",
          "model_name": "ProgressStyleModel",
          "model_module_version": "1.5.0",
          "state": {
            "_model_module": "@jupyter-widgets/controls",
            "_model_module_version": "1.5.0",
            "_model_name": "ProgressStyleModel",
            "_view_count": null,
            "_view_module": "@jupyter-widgets/base",
            "_view_module_version": "1.2.0",
            "_view_name": "StyleView",
            "bar_color": null,
            "description_width": ""
          }
        },
        "5c3ce9f88c8e4be9a9b858f5d57fcfb8": {
          "model_module": "@jupyter-widgets/base",
          "model_name": "LayoutModel",
          "model_module_version": "1.2.0",
          "state": {
            "_model_module": "@jupyter-widgets/base",
            "_model_module_version": "1.2.0",
            "_model_name": "LayoutModel",
            "_view_count": null,
            "_view_module": "@jupyter-widgets/base",
            "_view_module_version": "1.2.0",
            "_view_name": "LayoutView",
            "align_content": null,
            "align_items": null,
            "align_self": null,
            "border": null,
            "bottom": null,
            "display": null,
            "flex": null,
            "flex_flow": null,
            "grid_area": null,
            "grid_auto_columns": null,
            "grid_auto_flow": null,
            "grid_auto_rows": null,
            "grid_column": null,
            "grid_gap": null,
            "grid_row": null,
            "grid_template_areas": null,
            "grid_template_columns": null,
            "grid_template_rows": null,
            "height": null,
            "justify_content": null,
            "justify_items": null,
            "left": null,
            "margin": null,
            "max_height": null,
            "max_width": null,
            "min_height": null,
            "min_width": null,
            "object_fit": null,
            "object_position": null,
            "order": null,
            "overflow": null,
            "overflow_x": null,
            "overflow_y": null,
            "padding": null,
            "right": null,
            "top": null,
            "visibility": null,
            "width": null
          }
        },
        "fad85406886840bab30e82e46fefb15b": {
          "model_module": "@jupyter-widgets/controls",
          "model_name": "DescriptionStyleModel",
          "model_module_version": "1.5.0",
          "state": {
            "_model_module": "@jupyter-widgets/controls",
            "_model_module_version": "1.5.0",
            "_model_name": "DescriptionStyleModel",
            "_view_count": null,
            "_view_module": "@jupyter-widgets/base",
            "_view_module_version": "1.2.0",
            "_view_name": "StyleView",
            "description_width": ""
          }
        },
        "b56152d2fd424569bb0e3a10bdd4c429": {
          "model_module": "@jupyter-widgets/controls",
          "model_name": "HBoxModel",
          "model_module_version": "1.5.0",
          "state": {
            "_dom_classes": [],
            "_model_module": "@jupyter-widgets/controls",
            "_model_module_version": "1.5.0",
            "_model_name": "HBoxModel",
            "_view_count": null,
            "_view_module": "@jupyter-widgets/controls",
            "_view_module_version": "1.5.0",
            "_view_name": "HBoxView",
            "box_style": "",
            "children": [
              "IPY_MODEL_de3ba658e46b47f6afd5089de316b53a",
              "IPY_MODEL_45e6cf5b389c414494314843b6ae3a97",
              "IPY_MODEL_2db31111fe3a46be8b0d8fbe8c6d3fe8"
            ],
            "layout": "IPY_MODEL_9da6095cee5944218012c07841ebf2f6"
          }
        },
        "de3ba658e46b47f6afd5089de316b53a": {
          "model_module": "@jupyter-widgets/controls",
          "model_name": "HTMLModel",
          "model_module_version": "1.5.0",
          "state": {
            "_dom_classes": [],
            "_model_module": "@jupyter-widgets/controls",
            "_model_module_version": "1.5.0",
            "_model_name": "HTMLModel",
            "_view_count": null,
            "_view_module": "@jupyter-widgets/controls",
            "_view_module_version": "1.5.0",
            "_view_name": "HTMLView",
            "description": "",
            "description_tooltip": null,
            "layout": "IPY_MODEL_068eeabbda324b9abc9cb9a74424f3f1",
            "placeholder": "​",
            "style": "IPY_MODEL_60b1cb78ed3a46dbba14a9fc5cc1ef33",
            "value": "100%"
          }
        },
        "45e6cf5b389c414494314843b6ae3a97": {
          "model_module": "@jupyter-widgets/controls",
          "model_name": "FloatProgressModel",
          "model_module_version": "1.5.0",
          "state": {
            "_dom_classes": [],
            "_model_module": "@jupyter-widgets/controls",
            "_model_module_version": "1.5.0",
            "_model_name": "FloatProgressModel",
            "_view_count": null,
            "_view_module": "@jupyter-widgets/controls",
            "_view_module_version": "1.5.0",
            "_view_name": "ProgressView",
            "bar_style": "success",
            "description": "",
            "description_tooltip": null,
            "layout": "IPY_MODEL_dae555cf36884ca2ad74c9b22b7a42e2",
            "max": 3,
            "min": 0,
            "orientation": "horizontal",
            "style": "IPY_MODEL_7da8ccfc088342ab952e7b7cb63c8a4a",
            "value": 3
          }
        },
        "2db31111fe3a46be8b0d8fbe8c6d3fe8": {
          "model_module": "@jupyter-widgets/controls",
          "model_name": "HTMLModel",
          "model_module_version": "1.5.0",
          "state": {
            "_dom_classes": [],
            "_model_module": "@jupyter-widgets/controls",
            "_model_module_version": "1.5.0",
            "_model_name": "HTMLModel",
            "_view_count": null,
            "_view_module": "@jupyter-widgets/controls",
            "_view_module_version": "1.5.0",
            "_view_name": "HTMLView",
            "description": "",
            "description_tooltip": null,
            "layout": "IPY_MODEL_372958d5e03b4afe9a564a324770f6d4",
            "placeholder": "​",
            "style": "IPY_MODEL_059a84632a1640b89a1c3c3e3b268655",
            "value": " 3/3 [00:31&lt;00:00, 10.46s/it]"
          }
        },
        "9da6095cee5944218012c07841ebf2f6": {
          "model_module": "@jupyter-widgets/base",
          "model_name": "LayoutModel",
          "model_module_version": "1.2.0",
          "state": {
            "_model_module": "@jupyter-widgets/base",
            "_model_module_version": "1.2.0",
            "_model_name": "LayoutModel",
            "_view_count": null,
            "_view_module": "@jupyter-widgets/base",
            "_view_module_version": "1.2.0",
            "_view_name": "LayoutView",
            "align_content": null,
            "align_items": null,
            "align_self": null,
            "border": null,
            "bottom": null,
            "display": null,
            "flex": null,
            "flex_flow": null,
            "grid_area": null,
            "grid_auto_columns": null,
            "grid_auto_flow": null,
            "grid_auto_rows": null,
            "grid_column": null,
            "grid_gap": null,
            "grid_row": null,
            "grid_template_areas": null,
            "grid_template_columns": null,
            "grid_template_rows": null,
            "height": null,
            "justify_content": null,
            "justify_items": null,
            "left": null,
            "margin": null,
            "max_height": null,
            "max_width": null,
            "min_height": null,
            "min_width": null,
            "object_fit": null,
            "object_position": null,
            "order": null,
            "overflow": null,
            "overflow_x": null,
            "overflow_y": null,
            "padding": null,
            "right": null,
            "top": null,
            "visibility": null,
            "width": null
          }
        },
        "068eeabbda324b9abc9cb9a74424f3f1": {
          "model_module": "@jupyter-widgets/base",
          "model_name": "LayoutModel",
          "model_module_version": "1.2.0",
          "state": {
            "_model_module": "@jupyter-widgets/base",
            "_model_module_version": "1.2.0",
            "_model_name": "LayoutModel",
            "_view_count": null,
            "_view_module": "@jupyter-widgets/base",
            "_view_module_version": "1.2.0",
            "_view_name": "LayoutView",
            "align_content": null,
            "align_items": null,
            "align_self": null,
            "border": null,
            "bottom": null,
            "display": null,
            "flex": null,
            "flex_flow": null,
            "grid_area": null,
            "grid_auto_columns": null,
            "grid_auto_flow": null,
            "grid_auto_rows": null,
            "grid_column": null,
            "grid_gap": null,
            "grid_row": null,
            "grid_template_areas": null,
            "grid_template_columns": null,
            "grid_template_rows": null,
            "height": null,
            "justify_content": null,
            "justify_items": null,
            "left": null,
            "margin": null,
            "max_height": null,
            "max_width": null,
            "min_height": null,
            "min_width": null,
            "object_fit": null,
            "object_position": null,
            "order": null,
            "overflow": null,
            "overflow_x": null,
            "overflow_y": null,
            "padding": null,
            "right": null,
            "top": null,
            "visibility": null,
            "width": null
          }
        },
        "60b1cb78ed3a46dbba14a9fc5cc1ef33": {
          "model_module": "@jupyter-widgets/controls",
          "model_name": "DescriptionStyleModel",
          "model_module_version": "1.5.0",
          "state": {
            "_model_module": "@jupyter-widgets/controls",
            "_model_module_version": "1.5.0",
            "_model_name": "DescriptionStyleModel",
            "_view_count": null,
            "_view_module": "@jupyter-widgets/base",
            "_view_module_version": "1.2.0",
            "_view_name": "StyleView",
            "description_width": ""
          }
        },
        "dae555cf36884ca2ad74c9b22b7a42e2": {
          "model_module": "@jupyter-widgets/base",
          "model_name": "LayoutModel",
          "model_module_version": "1.2.0",
          "state": {
            "_model_module": "@jupyter-widgets/base",
            "_model_module_version": "1.2.0",
            "_model_name": "LayoutModel",
            "_view_count": null,
            "_view_module": "@jupyter-widgets/base",
            "_view_module_version": "1.2.0",
            "_view_name": "LayoutView",
            "align_content": null,
            "align_items": null,
            "align_self": null,
            "border": null,
            "bottom": null,
            "display": null,
            "flex": null,
            "flex_flow": null,
            "grid_area": null,
            "grid_auto_columns": null,
            "grid_auto_flow": null,
            "grid_auto_rows": null,
            "grid_column": null,
            "grid_gap": null,
            "grid_row": null,
            "grid_template_areas": null,
            "grid_template_columns": null,
            "grid_template_rows": null,
            "height": null,
            "justify_content": null,
            "justify_items": null,
            "left": null,
            "margin": null,
            "max_height": null,
            "max_width": null,
            "min_height": null,
            "min_width": null,
            "object_fit": null,
            "object_position": null,
            "order": null,
            "overflow": null,
            "overflow_x": null,
            "overflow_y": null,
            "padding": null,
            "right": null,
            "top": null,
            "visibility": null,
            "width": null
          }
        },
        "7da8ccfc088342ab952e7b7cb63c8a4a": {
          "model_module": "@jupyter-widgets/controls",
          "model_name": "ProgressStyleModel",
          "model_module_version": "1.5.0",
          "state": {
            "_model_module": "@jupyter-widgets/controls",
            "_model_module_version": "1.5.0",
            "_model_name": "ProgressStyleModel",
            "_view_count": null,
            "_view_module": "@jupyter-widgets/base",
            "_view_module_version": "1.2.0",
            "_view_name": "StyleView",
            "bar_color": null,
            "description_width": ""
          }
        },
        "372958d5e03b4afe9a564a324770f6d4": {
          "model_module": "@jupyter-widgets/base",
          "model_name": "LayoutModel",
          "model_module_version": "1.2.0",
          "state": {
            "_model_module": "@jupyter-widgets/base",
            "_model_module_version": "1.2.0",
            "_model_name": "LayoutModel",
            "_view_count": null,
            "_view_module": "@jupyter-widgets/base",
            "_view_module_version": "1.2.0",
            "_view_name": "LayoutView",
            "align_content": null,
            "align_items": null,
            "align_self": null,
            "border": null,
            "bottom": null,
            "display": null,
            "flex": null,
            "flex_flow": null,
            "grid_area": null,
            "grid_auto_columns": null,
            "grid_auto_flow": null,
            "grid_auto_rows": null,
            "grid_column": null,
            "grid_gap": null,
            "grid_row": null,
            "grid_template_areas": null,
            "grid_template_columns": null,
            "grid_template_rows": null,
            "height": null,
            "justify_content": null,
            "justify_items": null,
            "left": null,
            "margin": null,
            "max_height": null,
            "max_width": null,
            "min_height": null,
            "min_width": null,
            "object_fit": null,
            "object_position": null,
            "order": null,
            "overflow": null,
            "overflow_x": null,
            "overflow_y": null,
            "padding": null,
            "right": null,
            "top": null,
            "visibility": null,
            "width": null
          }
        },
        "059a84632a1640b89a1c3c3e3b268655": {
          "model_module": "@jupyter-widgets/controls",
          "model_name": "DescriptionStyleModel",
          "model_module_version": "1.5.0",
          "state": {
            "_model_module": "@jupyter-widgets/controls",
            "_model_module_version": "1.5.0",
            "_model_name": "DescriptionStyleModel",
            "_view_count": null,
            "_view_module": "@jupyter-widgets/base",
            "_view_module_version": "1.2.0",
            "_view_name": "StyleView",
            "description_width": ""
          }
        }
      }
    }
  },
  "cells": [
    {
      "cell_type": "markdown",
      "source": [
        "![image.png](data:image/png;base64,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)"
      ],
      "metadata": {
        "id": "R9hrnHtRpTef"
      }
    },
    {
      "cell_type": "code",
      "execution_count": 2,
      "metadata": {
        "colab": {
          "base_uri": "https://localhost:8080/"
        },
        "id": "Nt51DDhSpLKG",
        "outputId": "db5f7bd2-53d9-40db-e7e9-8428b71a0c89"
      },
      "outputs": [
        {
          "output_type": "stream",
          "name": "stdout",
          "text": [
            "PyTorch version: 2.6.0+cu124\n",
            "torchvision version: 0.21.0+cu124\n"
          ]
        }
      ],
      "source": [
        "# Import PyTorch\n",
        "import torch\n",
        "from torch import nn\n",
        "\n",
        "# Import torchvision\n",
        "import torchvision\n",
        "from torchvision import datasets\n",
        "from torchvision.transforms import ToTensor\n",
        "\n",
        "# Import matplotlib for visualization\n",
        "import matplotlib.pyplot as plt\n",
        "\n",
        "# Check versions\n",
        "# Note: your PyTorch version shouldn't be lower than 1.10.0 and torchvision version shouldn't be lower than 0.11\n",
        "print(f\"PyTorch version: {torch.__version__}\\ntorchvision version: {torchvision.__version__}\")"
      ]
    },
    {
      "cell_type": "markdown",
      "source": [
        "PyTorch has a bunch of common computer vision datasets stored in torchvision.datasets.\n",
        "\n",
        "Including FashionMNIST in torchvision.datasets.FashionMNIST().\n",
        "\n",
        "To download it, we provide the following parameters:\n",
        "\n",
        "root: str - which folder do you want to download the data to?\n",
        "\n",
        "train: Bool - do you want the training or test split?\n",
        "\n",
        "download: Bool - should the data be downloaded?\n",
        "\n",
        "transform: torchvision.transforms - what transformations would you like to do on the data?\n",
        "\n",
        "target_transform - you can transform the targets (labels) if you like too."
      ],
      "metadata": {
        "id": "KxS_Csswvz_k"
      }
    },
    {
      "cell_type": "code",
      "source": [
        "# Setup training data\n",
        "train_data = datasets.FashionMNIST(\n",
        "    root=\"data\", # where to download data to?\n",
        "    train=True, # get training data\n",
        "    download=True, # download data if it doesn't exist on disk\n",
        "    transform=ToTensor(), # images come as PIL format, we want to turn into Torch tensors\n",
        "    target_transform=None # you can transform labels as well\n",
        ")\n",
        "\n",
        "# Setup testing data\n",
        "test_data = datasets.FashionMNIST(\n",
        "    root=\"data\",\n",
        "    train=False, # get test data\n",
        "    download=True,\n",
        "    transform=ToTensor()\n",
        ")"
      ],
      "metadata": {
        "colab": {
          "base_uri": "https://localhost:8080/"
        },
        "id": "KsfVfgdUv3jz",
        "outputId": "c4e5bae1-50c2-410e-885a-41c486bdbb94"
      },
      "execution_count": 3,
      "outputs": [
        {
          "output_type": "stream",
          "name": "stderr",
          "text": [
            "100%|██████████| 26.4M/26.4M [00:02<00:00, 10.5MB/s]\n",
            "100%|██████████| 29.5k/29.5k [00:00<00:00, 169kB/s]\n",
            "100%|██████████| 4.42M/4.42M [00:01<00:00, 2.79MB/s]\n",
            "100%|██████████| 5.15k/5.15k [00:00<00:00, 10.9MB/s]\n"
          ]
        }
      ]
    },
    {
      "cell_type": "code",
      "source": [
        "# See first training sample\n",
        "image, label = train_data[0]\n",
        "image, label"
      ],
      "metadata": {
        "colab": {
          "base_uri": "https://localhost:8080/"
        },
        "id": "hAh6PtjdwHvC",
        "outputId": "8ef47988-c932-4bce-96e6-5753422352b5"
      },
      "execution_count": 4,
      "outputs": [
        {
          "output_type": "execute_result",
          "data": {
            "text/plain": [
              "(tensor([[[0.0000, 0.0000, 0.0000, 0.0000, 0.0000, 0.0000, 0.0000, 0.0000,\n",
              "           0.0000, 0.0000, 0.0000, 0.0000, 0.0000, 0.0000, 0.0000, 0.0000,\n",
              "           0.0000, 0.0000, 0.0000, 0.0000, 0.0000, 0.0000, 0.0000, 0.0000,\n",
              "           0.0000, 0.0000, 0.0000, 0.0000],\n",
              "          [0.0000, 0.0000, 0.0000, 0.0000, 0.0000, 0.0000, 0.0000, 0.0000,\n",
              "           0.0000, 0.0000, 0.0000, 0.0000, 0.0000, 0.0000, 0.0000, 0.0000,\n",
              "           0.0000, 0.0000, 0.0000, 0.0000, 0.0000, 0.0000, 0.0000, 0.0000,\n",
              "           0.0000, 0.0000, 0.0000, 0.0000],\n",
              "          [0.0000, 0.0000, 0.0000, 0.0000, 0.0000, 0.0000, 0.0000, 0.0000,\n",
              "           0.0000, 0.0000, 0.0000, 0.0000, 0.0000, 0.0000, 0.0000, 0.0000,\n",
              "           0.0000, 0.0000, 0.0000, 0.0000, 0.0000, 0.0000, 0.0000, 0.0000,\n",
              "           0.0000, 0.0000, 0.0000, 0.0000],\n",
              "          [0.0000, 0.0000, 0.0000, 0.0000, 0.0000, 0.0000, 0.0000, 0.0000,\n",
              "           0.0000, 0.0000, 0.0000, 0.0000, 0.0039, 0.0000, 0.0000, 0.0510,\n",
              "           0.2863, 0.0000, 0.0000, 0.0039, 0.0157, 0.0000, 0.0000, 0.0000,\n",
              "           0.0000, 0.0039, 0.0039, 0.0000],\n",
              "          [0.0000, 0.0000, 0.0000, 0.0000, 0.0000, 0.0000, 0.0000, 0.0000,\n",
              "           0.0000, 0.0000, 0.0000, 0.0000, 0.0118, 0.0000, 0.1412, 0.5333,\n",
              "           0.4980, 0.2431, 0.2118, 0.0000, 0.0000, 0.0000, 0.0039, 0.0118,\n",
              "           0.0157, 0.0000, 0.0000, 0.0118],\n",
              "          [0.0000, 0.0000, 0.0000, 0.0000, 0.0000, 0.0000, 0.0000, 0.0000,\n",
              "           0.0000, 0.0000, 0.0000, 0.0000, 0.0235, 0.0000, 0.4000, 0.8000,\n",
              "           0.6902, 0.5255, 0.5647, 0.4824, 0.0902, 0.0000, 0.0000, 0.0000,\n",
              "           0.0000, 0.0471, 0.0392, 0.0000],\n",
              "          [0.0000, 0.0000, 0.0000, 0.0000, 0.0000, 0.0000, 0.0000, 0.0000,\n",
              "           0.0000, 0.0000, 0.0000, 0.0000, 0.0000, 0.0000, 0.6078, 0.9255,\n",
              "           0.8118, 0.6980, 0.4196, 0.6118, 0.6314, 0.4275, 0.2510, 0.0902,\n",
              "           0.3020, 0.5098, 0.2824, 0.0588],\n",
              "          [0.0000, 0.0000, 0.0000, 0.0000, 0.0000, 0.0000, 0.0000, 0.0000,\n",
              "           0.0000, 0.0000, 0.0000, 0.0039, 0.0000, 0.2706, 0.8118, 0.8745,\n",
              "           0.8549, 0.8471, 0.8471, 0.6392, 0.4980, 0.4745, 0.4784, 0.5725,\n",
              "           0.5529, 0.3451, 0.6745, 0.2588],\n",
              "          [0.0000, 0.0000, 0.0000, 0.0000, 0.0000, 0.0000, 0.0000, 0.0000,\n",
              "           0.0000, 0.0039, 0.0039, 0.0039, 0.0000, 0.7843, 0.9098, 0.9098,\n",
              "           0.9137, 0.8980, 0.8745, 0.8745, 0.8431, 0.8353, 0.6431, 0.4980,\n",
              "           0.4824, 0.7686, 0.8980, 0.0000],\n",
              "          [0.0000, 0.0000, 0.0000, 0.0000, 0.0000, 0.0000, 0.0000, 0.0000,\n",
              "           0.0000, 0.0000, 0.0000, 0.0000, 0.0000, 0.7176, 0.8824, 0.8471,\n",
              "           0.8745, 0.8941, 0.9216, 0.8902, 0.8784, 0.8706, 0.8784, 0.8667,\n",
              "           0.8745, 0.9608, 0.6784, 0.0000],\n",
              "          [0.0000, 0.0000, 0.0000, 0.0000, 0.0000, 0.0000, 0.0000, 0.0000,\n",
              "           0.0000, 0.0000, 0.0000, 0.0000, 0.0000, 0.7569, 0.8941, 0.8549,\n",
              "           0.8353, 0.7765, 0.7059, 0.8314, 0.8235, 0.8275, 0.8353, 0.8745,\n",
              "           0.8627, 0.9529, 0.7922, 0.0000],\n",
              "          [0.0000, 0.0000, 0.0000, 0.0000, 0.0000, 0.0000, 0.0000, 0.0000,\n",
              "           0.0000, 0.0039, 0.0118, 0.0000, 0.0471, 0.8588, 0.8627, 0.8314,\n",
              "           0.8549, 0.7529, 0.6627, 0.8902, 0.8157, 0.8549, 0.8784, 0.8314,\n",
              "           0.8863, 0.7725, 0.8196, 0.2039],\n",
              "          [0.0000, 0.0000, 0.0000, 0.0000, 0.0000, 0.0000, 0.0000, 0.0000,\n",
              "           0.0000, 0.0000, 0.0235, 0.0000, 0.3882, 0.9569, 0.8706, 0.8627,\n",
              "           0.8549, 0.7961, 0.7765, 0.8667, 0.8431, 0.8353, 0.8706, 0.8627,\n",
              "           0.9608, 0.4667, 0.6549, 0.2196],\n",
              "          [0.0000, 0.0000, 0.0000, 0.0000, 0.0000, 0.0000, 0.0000, 0.0000,\n",
              "           0.0000, 0.0157, 0.0000, 0.0000, 0.2157, 0.9255, 0.8941, 0.9020,\n",
              "           0.8941, 0.9412, 0.9098, 0.8353, 0.8549, 0.8745, 0.9176, 0.8510,\n",
              "           0.8510, 0.8196, 0.3608, 0.0000],\n",
              "          [0.0000, 0.0000, 0.0039, 0.0157, 0.0235, 0.0275, 0.0078, 0.0000,\n",
              "           0.0000, 0.0000, 0.0000, 0.0000, 0.9294, 0.8863, 0.8510, 0.8745,\n",
              "           0.8706, 0.8588, 0.8706, 0.8667, 0.8471, 0.8745, 0.8980, 0.8431,\n",
              "           0.8549, 1.0000, 0.3020, 0.0000],\n",
              "          [0.0000, 0.0118, 0.0000, 0.0000, 0.0000, 0.0000, 0.0000, 0.0000,\n",
              "           0.0000, 0.2431, 0.5686, 0.8000, 0.8941, 0.8118, 0.8353, 0.8667,\n",
              "           0.8549, 0.8157, 0.8275, 0.8549, 0.8784, 0.8745, 0.8588, 0.8431,\n",
              "           0.8784, 0.9569, 0.6235, 0.0000],\n",
              "          [0.0000, 0.0000, 0.0000, 0.0000, 0.0706, 0.1725, 0.3216, 0.4196,\n",
              "           0.7412, 0.8941, 0.8627, 0.8706, 0.8510, 0.8863, 0.7843, 0.8039,\n",
              "           0.8275, 0.9020, 0.8784, 0.9176, 0.6902, 0.7373, 0.9804, 0.9725,\n",
              "           0.9137, 0.9333, 0.8431, 0.0000],\n",
              "          [0.0000, 0.2235, 0.7333, 0.8157, 0.8784, 0.8667, 0.8784, 0.8157,\n",
              "           0.8000, 0.8392, 0.8157, 0.8196, 0.7843, 0.6235, 0.9608, 0.7569,\n",
              "           0.8078, 0.8745, 1.0000, 1.0000, 0.8667, 0.9176, 0.8667, 0.8275,\n",
              "           0.8627, 0.9098, 0.9647, 0.0000],\n",
              "          [0.0118, 0.7922, 0.8941, 0.8784, 0.8667, 0.8275, 0.8275, 0.8392,\n",
              "           0.8039, 0.8039, 0.8039, 0.8627, 0.9412, 0.3137, 0.5882, 1.0000,\n",
              "           0.8980, 0.8667, 0.7373, 0.6039, 0.7490, 0.8235, 0.8000, 0.8196,\n",
              "           0.8706, 0.8941, 0.8824, 0.0000],\n",
              "          [0.3843, 0.9137, 0.7765, 0.8235, 0.8706, 0.8980, 0.8980, 0.9176,\n",
              "           0.9765, 0.8627, 0.7608, 0.8431, 0.8510, 0.9451, 0.2549, 0.2863,\n",
              "           0.4157, 0.4588, 0.6588, 0.8588, 0.8667, 0.8431, 0.8510, 0.8745,\n",
              "           0.8745, 0.8784, 0.8980, 0.1137],\n",
              "          [0.2941, 0.8000, 0.8314, 0.8000, 0.7569, 0.8039, 0.8275, 0.8824,\n",
              "           0.8471, 0.7255, 0.7725, 0.8078, 0.7765, 0.8353, 0.9412, 0.7647,\n",
              "           0.8902, 0.9608, 0.9373, 0.8745, 0.8549, 0.8314, 0.8196, 0.8706,\n",
              "           0.8627, 0.8667, 0.9020, 0.2627],\n",
              "          [0.1882, 0.7961, 0.7176, 0.7608, 0.8353, 0.7725, 0.7255, 0.7451,\n",
              "           0.7608, 0.7529, 0.7922, 0.8392, 0.8588, 0.8667, 0.8627, 0.9255,\n",
              "           0.8824, 0.8471, 0.7804, 0.8078, 0.7294, 0.7098, 0.6941, 0.6745,\n",
              "           0.7098, 0.8039, 0.8078, 0.4510],\n",
              "          [0.0000, 0.4784, 0.8588, 0.7569, 0.7020, 0.6706, 0.7176, 0.7686,\n",
              "           0.8000, 0.8235, 0.8353, 0.8118, 0.8275, 0.8235, 0.7843, 0.7686,\n",
              "           0.7608, 0.7490, 0.7647, 0.7490, 0.7765, 0.7529, 0.6902, 0.6118,\n",
              "           0.6549, 0.6941, 0.8235, 0.3608],\n",
              "          [0.0000, 0.0000, 0.2902, 0.7412, 0.8314, 0.7490, 0.6863, 0.6745,\n",
              "           0.6863, 0.7098, 0.7255, 0.7373, 0.7412, 0.7373, 0.7569, 0.7765,\n",
              "           0.8000, 0.8196, 0.8235, 0.8235, 0.8275, 0.7373, 0.7373, 0.7608,\n",
              "           0.7529, 0.8471, 0.6667, 0.0000],\n",
              "          [0.0078, 0.0000, 0.0000, 0.0000, 0.2588, 0.7843, 0.8706, 0.9294,\n",
              "           0.9373, 0.9490, 0.9647, 0.9529, 0.9569, 0.8667, 0.8627, 0.7569,\n",
              "           0.7490, 0.7020, 0.7137, 0.7137, 0.7098, 0.6902, 0.6510, 0.6588,\n",
              "           0.3882, 0.2275, 0.0000, 0.0000],\n",
              "          [0.0000, 0.0000, 0.0000, 0.0000, 0.0000, 0.0000, 0.0000, 0.1569,\n",
              "           0.2392, 0.1725, 0.2824, 0.1608, 0.1373, 0.0000, 0.0000, 0.0000,\n",
              "           0.0000, 0.0000, 0.0000, 0.0000, 0.0000, 0.0000, 0.0000, 0.0000,\n",
              "           0.0000, 0.0000, 0.0000, 0.0000],\n",
              "          [0.0000, 0.0000, 0.0000, 0.0000, 0.0000, 0.0000, 0.0000, 0.0000,\n",
              "           0.0000, 0.0000, 0.0000, 0.0000, 0.0000, 0.0000, 0.0000, 0.0000,\n",
              "           0.0000, 0.0000, 0.0000, 0.0000, 0.0000, 0.0000, 0.0000, 0.0000,\n",
              "           0.0000, 0.0000, 0.0000, 0.0000],\n",
              "          [0.0000, 0.0000, 0.0000, 0.0000, 0.0000, 0.0000, 0.0000, 0.0000,\n",
              "           0.0000, 0.0000, 0.0000, 0.0000, 0.0000, 0.0000, 0.0000, 0.0000,\n",
              "           0.0000, 0.0000, 0.0000, 0.0000, 0.0000, 0.0000, 0.0000, 0.0000,\n",
              "           0.0000, 0.0000, 0.0000, 0.0000]]]),\n",
              " 9)"
            ]
          },
          "metadata": {},
          "execution_count": 4
        }
      ]
    },
    {
      "cell_type": "code",
      "source": [
        "# What's the shape of the image?\n",
        "image.shape"
      ],
      "metadata": {
        "colab": {
          "base_uri": "https://localhost:8080/"
        },
        "id": "GJTzchH6xWiQ",
        "outputId": "a939fa57-2f37-4b8e-ad5d-ba9545a40763"
      },
      "execution_count": 5,
      "outputs": [
        {
          "output_type": "execute_result",
          "data": {
            "text/plain": [
              "torch.Size([1, 28, 28])"
            ]
          },
          "metadata": {},
          "execution_count": 5
        }
      ]
    },
    {
      "cell_type": "code",
      "source": [
        "# How many samples are there?\n",
        "len(train_data.data), len(train_data.targets), len(test_data.data), len(test_data.targets)"
      ],
      "metadata": {
        "colab": {
          "base_uri": "https://localhost:8080/"
        },
        "id": "3KjuGOqXx9A6",
        "outputId": "67e5c35e-ba9a-4a3e-9d7f-25d30519007f"
      },
      "execution_count": 6,
      "outputs": [
        {
          "output_type": "execute_result",
          "data": {
            "text/plain": [
              "(60000, 60000, 10000, 10000)"
            ]
          },
          "metadata": {},
          "execution_count": 6
        }
      ]
    },
    {
      "cell_type": "code",
      "source": [
        "classes_name=train_data.classes\n",
        "class_idx=train_data.class_to_idx\n",
        "classes_name ,class_idx ,classes_name[label]"
      ],
      "metadata": {
        "colab": {
          "base_uri": "https://localhost:8080/"
        },
        "id": "LB5IEkBpzgBQ",
        "outputId": "27c7b06c-5498-4921-9ba9-d777736db2d6"
      },
      "execution_count": 7,
      "outputs": [
        {
          "output_type": "execute_result",
          "data": {
            "text/plain": [
              "(['T-shirt/top',\n",
              "  'Trouser',\n",
              "  'Pullover',\n",
              "  'Dress',\n",
              "  'Coat',\n",
              "  'Sandal',\n",
              "  'Shirt',\n",
              "  'Sneaker',\n",
              "  'Bag',\n",
              "  'Ankle boot'],\n",
              " {'T-shirt/top': 0,\n",
              "  'Trouser': 1,\n",
              "  'Pullover': 2,\n",
              "  'Dress': 3,\n",
              "  'Coat': 4,\n",
              "  'Sandal': 5,\n",
              "  'Shirt': 6,\n",
              "  'Sneaker': 7,\n",
              "  'Bag': 8,\n",
              "  'Ankle boot': 9},\n",
              " 'Ankle boot')"
            ]
          },
          "metadata": {},
          "execution_count": 7
        }
      ]
    },
    {
      "cell_type": "code",
      "source": [
        "import matplotlib.pyplot as plt\n",
        "image, label = train_data[0]\n",
        "print(f\"Image shape: {image.shape}\")\n",
        "plt.imshow(image.squeeze()) # image shape is [1, 28, 28] (colour channels, height, width)\n",
        "plt.title(label);"
      ],
      "metadata": {
        "colab": {
          "base_uri": "https://localhost:8080/",
          "height": 469
        },
        "id": "1ht50Yz20Uq5",
        "outputId": "46d46ef6-f2d0-49bb-d77c-5fe77dd2c8dd"
      },
      "execution_count": 8,
      "outputs": [
        {
          "output_type": "stream",
          "name": "stdout",
          "text": [
            "Image shape: torch.Size([1, 28, 28])\n"
          ]
        },
        {
          "output_type": "display_data",
          "data": {
            "text/plain": [
              "<Figure size 640x480 with 1 Axes>"
            ],
            "image/png": "[encoded data removed]"
          },
          "metadata": {}
        }
      ]
    },
    {
      "cell_type": "code",
      "source": [
        "plt.imshow(image.squeeze(), cmap=\"gray\")  #convert it into gray image using cmap\n",
        "plt.title(classes_name[label]);"
      ],
      "metadata": {
        "colab": {
          "base_uri": "https://localhost:8080/",
          "height": 452
        },
        "id": "WpNfeINK0hOm",
        "outputId": "de2696e7-1db7-48e9-a7eb-9c73ad749bb8"
      },
      "execution_count": 9,
      "outputs": [
        {
          "output_type": "display_data",
          "data": {
            "text/plain": [
              "<Figure size 640x480 with 1 Axes>"
            ],
            "image/png": "[encoded data removed]"
          },
          "metadata": {}
        }
      ]
    },
    {
      "cell_type": "code",
      "source": [
        "# Plot more images\n",
        "torch.manual_seed(42)\n",
        "fig = plt.figure(figsize=(9, 9))\n",
        "rows, cols = 4, 4\n",
        "for i in range(1, rows * cols + 1):\n",
        "    random_idx = torch.randint(0, len(train_data), size=[1]).item()\n",
        "    img, label = train_data[random_idx]\n",
        "    fig.add_subplot(rows, cols, i)\n",
        "    plt.imshow(img.squeeze(), cmap=\"gray\")\n",
        "    plt.title(classes_name[label])\n",
        "    plt.axis(False);"
      ],
      "metadata": {
        "colab": {
          "base_uri": "https://localhost:8080/",
          "height": 752
        },
        "id": "w9MVgCIn1Q0d",
        "outputId": "ca79a485-1b1e-49f9-a6c1-594f43b041f1"
      },
      "execution_count": 10,
      "outputs": [
        {
          "output_type": "display_data",
          "data": {
            "text/plain": [
              "<Figure size 900x900 with 16 Axes>"
            ],
            "image/png": "[encoded data removed]"
          },
          "metadata": {}
        }
      ]
    },
    {
      "cell_type": "code",
      "source": [
        "from torch.utils.data import DataLoader\n",
        "\n",
        "# Setup the batch size hyperparameter\n",
        "BATCH_SIZE = 32\n",
        "\n",
        "# Turn datasets into iterables (batches)\n",
        "train_dataloader = DataLoader(train_data, # dataset to turn into iterable\n",
        "    batch_size=BATCH_SIZE, # how many samples per batch?\n",
        "    shuffle=True # shuffle data every epoch?\n",
        ")\n",
        "\n",
        "test_dataloader = DataLoader(test_data,\n",
        "    batch_size=BATCH_SIZE,\n",
        "    shuffle=False # don't necessarily have to shuffle the testing data\n",
        ")\n",
        "\n",
        "# Let's check out what we've created\n",
        "print(f\"Dataloaders: {train_dataloader, test_dataloader}\")\n",
        "print(f\"Length of train dataloader: {len(train_dataloader)} batches of {BATCH_SIZE}\")\n",
        "print(f\"Length of test dataloader: {len(test_dataloader)} batches of {BATCH_SIZE}\")"
      ],
      "metadata": {
        "colab": {
          "base_uri": "https://localhost:8080/"
        },
        "id": "JyrSiAUX7jqt",
        "outputId": "f24bbac3-525c-478a-b870-422033416347"
      },
      "execution_count": 11,
      "outputs": [
        {
          "output_type": "stream",
          "name": "stdout",
          "text": [
            "Dataloaders: (<torch.utils.data.dataloader.DataLoader object at 0x7bfed476c390>, <torch.utils.data.dataloader.DataLoader object at 0x7bfed49d1790>)\n",
            "Length of train dataloader: 1875 batches of 32\n",
            "Length of test dataloader: 313 batches of 32\n"
          ]
        }
      ]
    },
    {
      "cell_type": "code",
      "source": [
        "# Check out what's inside the training dataloader\n",
        "train_features_batch, train_labels_batch = next(iter(train_dataloader))\n",
        "train_features_batch.shape, train_labels_batch.shape\n"
      ],
      "metadata": {
        "colab": {
          "base_uri": "https://localhost:8080/"
        },
        "id": "XGZ0hAvd8Ci7",
        "outputId": "acfbb329-0318-479b-c6cd-f2b286416e12"
      },
      "execution_count": 12,
      "outputs": [
        {
          "output_type": "execute_result",
          "data": {
            "text/plain": [
              "(torch.Size([32, 1, 28, 28]), torch.Size([32]))"
            ]
          },
          "metadata": {},
          "execution_count": 12
        }
      ]
    },
    {
      "cell_type": "code",
      "source": [
        "# Show a sample\n",
        "torch.manual_seed(42)\n",
        "random_idx = torch.randint(0, len(train_features_batch), size=[1]).item()\n",
        "img, label = train_features_batch[random_idx], train_labels_batch[random_idx]\n",
        "plt.imshow(img.squeeze(), cmap=\"gray\")\n",
        "plt.title(classes_name[label])\n",
        "plt.axis(\"Off\");\n",
        "print(f\"Image size: {img.shape}\")\n",
        "print(f\"Label: {label}, label size: {label.shape}\")"
      ],
      "metadata": {
        "colab": {
          "base_uri": "https://localhost:8080/",
          "height": 463
        },
        "id": "QLuL_cPk8JH_",
        "outputId": "53ee2a50-d51c-478b-ff1e-d72593ce07b1"
      },
      "execution_count": 13,
      "outputs": [
        {
          "output_type": "stream",
          "name": "stdout",
          "text": [
            "Image size: torch.Size([1, 28, 28])\n",
            "Label: 6, label size: torch.Size([])\n"
          ]
        },
        {
          "output_type": "display_data",
          "data": {
            "text/plain": [
              "<Figure size 640x480 with 1 Axes>"
            ],
            "image/png": "[encoded data removed]"
          },
          "metadata": {}
        }
      ]
    },
    {
      "cell_type": "markdown",
      "source": [
        "# Build the baseline model"
      ],
      "metadata": {
        "id": "J38Z6u8uL5S3"
      }
    },
    {
      "cell_type": "code",
      "source": [
        "# Create a flatten layer\n",
        "flatten_model = nn.Flatten() # all nn modules function as a model (can do a forward pass)\n",
        "\n",
        "# Get a single sample\n",
        "x = train_features_batch[0]\n",
        "\n",
        "# Flatten the sample\n",
        "output = flatten_model(x) # perform forward pass\n",
        "\n",
        "# Print out what happened\n",
        "print(f\"Shape before flattening: {x.shape} -> [color_channels, height, width]\")\n",
        "print(f\"Shape after flattening: {output.shape} -> [color_channels, height*width]\")\n",
        "\n",
        "# Try uncommenting below and see what happens\n",
        "#print(x)\n",
        "#print(output)"
      ],
      "metadata": {
        "colab": {
          "base_uri": "https://localhost:8080/"
        },
        "id": "MdDWjHdkL4hQ",
        "outputId": "abbbd387-22e0-451e-e8df-7169018a6125"
      },
      "execution_count": 14,
      "outputs": [
        {
          "output_type": "stream",
          "name": "stdout",
          "text": [
            "Shape before flattening: torch.Size([1, 28, 28]) -> [color_channels, height, width]\n",
            "Shape after flattening: torch.Size([1, 784]) -> [color_channels, height*width]\n"
          ]
        }
      ]
    },
    {
      "cell_type": "code",
      "source": [
        "from torch import nn\n",
        "class FashionMNISTModelV0(nn.Module):\n",
        "    def __init__(self, input_shape: int, hidden_units: int, output_shape: int):\n",
        "        super().__init__()\n",
        "        self.layer_stack = nn.Sequential(\n",
        "            nn.Flatten(), # neural networks like their inputs in vector form\n",
        "            nn.Linear(in_features=input_shape, out_features=hidden_units), # in_features = number of features in a data sample (784 pixels)\n",
        "            nn.Linear(in_features=hidden_units, out_features=output_shape)\n",
        "        )\n",
        "\n",
        "    def forward(self, x):\n",
        "        return self.layer_stack(x)"
      ],
      "metadata": {
        "id": "B3hidtCpNUp-"
      },
      "execution_count": 15,
      "outputs": []
    },
    {
      "cell_type": "code",
      "source": [
        "torch.manual_seed(42)\n",
        "\n",
        "# Need to setup model with input parameters\n",
        "model_0 = FashionMNISTModelV0(input_shape=784, # one for every pixel (28x28)\n",
        "    hidden_units=10, # how many units in the hidden layer\n",
        "    output_shape=len(classes_name) # one for every class\n",
        ")\n",
        "model_0.to(\"cpu\") # keep model on CPU to begin with"
      ],
      "metadata": {
        "colab": {
          "base_uri": "https://localhost:8080/"
        },
        "id": "t6ZMoZJ8NhwG",
        "outputId": "40b06385-82f2-4e22-f01e-a84938714712"
      },
      "execution_count": 16,
      "outputs": [
        {
          "output_type": "execute_result",
          "data": {
            "text/plain": [
              "FashionMNISTModelV0(\n",
              "  (layer_stack): Sequential(\n",
              "    (0): Flatten(start_dim=1, end_dim=-1)\n",
              "    (1): Linear(in_features=784, out_features=10, bias=True)\n",
              "    (2): Linear(in_features=10, out_features=10, bias=True)\n",
              "  )\n",
              ")"
            ]
          },
          "metadata": {},
          "execution_count": 16
        }
      ]
    },
    {
      "cell_type": "code",
      "source": [
        "import requests\n",
        "from pathlib import Path\n",
        "\n",
        "# Download helper functions from Learn PyTorch repo (if not already downloaded)\n",
        "if Path(\"helper_functions.py\").is_file():\n",
        "  print(\"helper_functions.py already exists, skipping download\")\n",
        "else:\n",
        "  print(\"Downloading helper_functions.py\")\n",
        "  # Note: you need the \"raw\" GitHub URL for this to work\n",
        "  request = requests.get(\"https://raw.githubusercontent.com/mrdbourke/pytorch-deep-learning/main/helper_functions.py\")\n",
        "  with open(\"helper_functions.py\", \"wb\") as f:\n",
        "    f.write(request.content)"
      ],
      "metadata": {
        "colab": {
          "base_uri": "https://localhost:8080/"
        },
        "id": "Hc-qEsEAQ2gm",
        "outputId": "66bbbac7-d239-4fa1-e107-3c66b25af132"
      },
      "execution_count": 17,
      "outputs": [
        {
          "output_type": "stream",
          "name": "stdout",
          "text": [
            "Downloading helper_functions.py\n"
          ]
        }
      ]
    },
    {
      "cell_type": "code",
      "source": [
        "# Import accuracy metric\n",
        "from helper_functions import accuracy_fn # Note: could also use torchmetrics.Accuracy(task = 'multiclass', num_classes=len(class_names)).to(device)\n",
        "\n",
        "# Setup loss function and optimizer\n",
        "loss_fn = nn.CrossEntropyLoss() # this is also called \"criterion\"/\"cost function\" in some places\n",
        "optimizer = torch.optim.SGD(params=model_0.parameters(), lr=0.1)"
      ],
      "metadata": {
        "id": "Hsm2IjyCQ7kP"
      },
      "execution_count": 18,
      "outputs": []
    },
    {
      "cell_type": "markdown",
      "source": [
        "let's make a timing function to measure the time it takes our model to train on CPU versus using a GPU.\n",
        "\n",
        "We'll train this model on the CPU but the next one on the GPU and see what happens.\n",
        "\n",
        "Our timing function will import the timeit.default_timer() function from the Python timeit module."
      ],
      "metadata": {
        "id": "WF1rvbnuSBkE"
      }
    },
    {
      "cell_type": "code",
      "source": [
        "from timeit import default_timer as timer\n",
        "def print_train_time(start: float, end: float, device: torch.device = None):\n",
        "    \"\"\"Prints difference between start and end time.\n",
        "\n",
        "    Args:\n",
        "        start (float): Start time of computation (preferred in timeit format).\n",
        "        end (float): End time of computation.\n",
        "        device ([type], optional): Device that compute is running on. Defaults to None.\n",
        "\n",
        "    Returns:\n",
        "        float: time between start and end in seconds (higher is longer).\n",
        "    \"\"\"\n",
        "    total_time = end - start\n",
        "    print(f\"Train time on {device}: {total_time:.3f} seconds\")\n",
        "    return total_time"
      ],
      "metadata": {
        "id": "lyQiWnA3SD4v"
      },
      "execution_count": 19,
      "outputs": []
    },
    {
      "cell_type": "code",
      "source": [
        "# Import tqdm for progress bar\n",
        "from tqdm.auto import tqdm # progress bar\n",
        "\n",
        "# Set the seed and start the timer\n",
        "torch.manual_seed(42)\n",
        "train_time_start_on_cpu = timer()\n",
        "\n",
        "# Set the number of epochs (we'll keep this small for faster training times)\n",
        "epochs = 3\n",
        "\n",
        "# Create training and testing loop\n",
        "for epoch in tqdm(range(epochs)):\n",
        "    print(f\"Epoch: {epoch}\\n-------\")\n",
        "    ### Training\n",
        "    train_loss = 0\n",
        "    # Add a loop to loop through training batches\n",
        "    for batch, (X, y) in enumerate(train_dataloader):\n",
        "        model_0.train()\n",
        "        # 1. Forward pass\n",
        "        y_pred = model_0(X)\n",
        "\n",
        "        # 2. Calculate loss (per batch)\n",
        "        loss = loss_fn(y_pred, y)\n",
        "        train_loss += loss # accumulatively add up the loss per epoch\n",
        "\n",
        "        # 3. Optimizer zero grad\n",
        "        optimizer.zero_grad()\n",
        "\n",
        "        # 4. Loss backward\n",
        "        loss.backward()\n",
        "\n",
        "        # 5. Optimizer step\n",
        "        optimizer.step()\n",
        "\n",
        "        # Print out how many samples have been seen\n",
        "        if batch % 400 == 0:\n",
        "            print(f\"Looked at {batch * len(X)}/{len(train_dataloader.dataset)} samples\")\n",
        "\n",
        "    # Divide total train loss by length of train dataloader (average loss per batch per epoch)\n",
        "    train_loss /= len(train_dataloader)\n",
        "\n",
        "    ### Testing\n",
        "    # Setup variables for accumulatively adding up loss and accuracy\n",
        "    test_loss, test_acc = 0, 0\n",
        "    model_0.eval()\n",
        "    with torch.inference_mode():\n",
        "        for X, y in test_dataloader:\n",
        "            # 1. Forward pass\n",
        "            test_pred = model_0(X)\n",
        "\n",
        "            # 2. Calculate loss (accumulatively)\n",
        "            test_loss += loss_fn(test_pred, y) # accumulatively add up the loss per epoch\n",
        "\n",
        "            # 3. Calculate accuracy (preds need to be same as y_true)\n",
        "            test_acc += accuracy_fn(y_true=y, y_pred=test_pred.argmax(dim=1))\n",
        "\n",
        "        # Calculations on test metrics need to happen inside torch.inference_mode()\n",
        "        # Divide total test loss by length of test dataloader (per batch)\n",
        "        test_loss /= len(test_dataloader)\n",
        "\n",
        "        # Divide total accuracy by length of test dataloader (per batch)\n",
        "        test_acc /= len(test_dataloader)\n",
        "\n",
        "    ## Print out what's happening\n",
        "    print(f\"\\nTrain loss: {train_loss:.5f} | Test loss: {test_loss:.5f}, Test acc: {test_acc:.2f}%\\n\")\n",
        "\n",
        "# Calculate training time\n",
        "train_time_end_on_cpu = timer()\n",
        "total_train_time_model_0 = print_train_time(start=train_time_start_on_cpu,\n",
        "                                           end=train_time_end_on_cpu,\n",
        "                                           device=str(next(model_0.parameters()).device))"
      ],
      "metadata": {
        "colab": {
          "base_uri": "https://localhost:8080/",
          "height": 587,
          "referenced_widgets": [
            "89074715e33d4880831bf981ef1bf45e",
            "4c3578d4b1ce4a7689162b5583ea49ba",
            "e919e2ba822841368d8ebb107c4ae6c7",
            "bef3b095b51b4a18ab034c49cbb49a39",
            "cdc0f1c6f0d6475aa61cc54303babef6",
            "2f3bb418a2c2483bb0e19dc43c1d679d",
            "d66fc838b9384ac798f29ad76a8e5413",
            "2abb182be6ef403c9b3b55d0417e2cc3",
            "42cffb865658427bbd72c739fae4f2a1",
            "5c3ce9f88c8e4be9a9b858f5d57fcfb8",
            "fad85406886840bab30e82e46fefb15b"
          ]
        },
        "id": "FXGwPD9ISh7N",
        "outputId": "0469073e-ad8e-4c35-8073-ba70e9804be9"
      },
      "execution_count": 20,
      "outputs": [
        {
          "output_type": "display_data",
          "data": {
            "text/plain": [
              "  0%|          | 0/3 [00:00<?, ?it/s]"
            ],
            "application/vnd.jupyter.widget-view+json": {
              "version_major": 2,
              "version_minor": 0,
              "model_id": "89074715e33d4880831bf981ef1bf45e"
            }
          },
          "metadata": {}
        },
        {
          "output_type": "stream",
          "name": "stdout",
          "text": [
            "Epoch: 0\n",
            "-------\n",
            "Looked at 0/60000 samples\n",
            "Looked at 12800/60000 samples\n",
            "Looked at 25600/60000 samples\n",
            "Looked at 38400/60000 samples\n",
            "Looked at 51200/60000 samples\n",
            "\n",
            "Train loss: 0.59039 | Test loss: 0.50954, Test acc: 82.04%\n",
            "\n",
            "Epoch: 1\n",
            "-------\n",
            "Looked at 0/60000 samples\n",
            "Looked at 12800/60000 samples\n",
            "Looked at 25600/60000 samples\n",
            "Looked at 38400/60000 samples\n",
            "Looked at 51200/60000 samples\n",
            "\n",
            "Train loss: 0.47633 | Test loss: 0.47989, Test acc: 83.20%\n",
            "\n",
            "Epoch: 2\n",
            "-------\n",
            "Looked at 0/60000 samples\n",
            "Looked at 12800/60000 samples\n",
            "Looked at 25600/60000 samples\n",
            "Looked at 38400/60000 samples\n",
            "Looked at 51200/60000 samples\n",
            "\n",
            "Train loss: 0.45503 | Test loss: 0.47664, Test acc: 83.43%\n",
            "\n",
            "Train time on cpu: 28.927 seconds\n"
          ]
        }
      ]
    },
    {
      "cell_type": "code",
      "source": [
        "torch.manual_seed(42)\n",
        "def eval_model(model: torch.nn.Module,\n",
        "               data_loader: torch.utils.data.DataLoader,\n",
        "               loss_fn: torch.nn.Module,\n",
        "               accuracy_fn):\n",
        "    \"\"\"Returns a dictionary containing the results of model predicting on data_loader.\n",
        "\n",
        "    Args:\n",
        "        model (torch.nn.Module): A PyTorch model capable of making predictions on data_loader.\n",
        "        data_loader (torch.utils.data.DataLoader): The target dataset to predict on.\n",
        "        loss_fn (torch.nn.Module): The loss function of model.\n",
        "        accuracy_fn: An accuracy function to compare the models predictions to the truth labels.\n",
        "\n",
        "    Returns:\n",
        "        (dict): Results of model making predictions on data_loader.\n",
        "    \"\"\"\n",
        "    loss, acc = 0, 0\n",
        "    model.eval()\n",
        "    with torch.inference_mode():\n",
        "        for X, y in data_loader:\n",
        "            # Make predictions with the model\n",
        "            y_pred = model(X)\n",
        "\n",
        "            # Accumulate the loss and accuracy values per batch\n",
        "            loss += loss_fn(y_pred, y)\n",
        "            acc += accuracy_fn(y_true=y,\n",
        "                                y_pred=y_pred.argmax(dim=1)) # For accuracy, need the prediction labels (logits -> pred_prob -> pred_labels)\n",
        "\n",
        "        # Scale loss and acc to find the average loss/acc per batch\n",
        "        loss /= len(data_loader)\n",
        "        acc /= len(data_loader)\n",
        "\n",
        "    return {\"model_name\": model.__class__.__name__, # only works when model was created with a class\n",
        "            \"model_loss\": loss.item(),\n",
        "            \"model_acc\": acc}\n",
        "\n",
        "# Calculate model 0 results on test dataset\n",
        "model_0_results = eval_model(model=model_0, data_loader=test_dataloader,\n",
        "    loss_fn=loss_fn, accuracy_fn=accuracy_fn\n",
        ")\n",
        "model_0_results"
      ],
      "metadata": {
        "colab": {
          "base_uri": "https://localhost:8080/"
        },
        "id": "R_UinGQJY9cU",
        "outputId": "efd4e4e1-6cc8-41e4-b3e7-0c0403397a26"
      },
      "execution_count": 21,
      "outputs": [
        {
          "output_type": "execute_result",
          "data": {
            "text/plain": [
              "{'model_name': 'FashionMNISTModelV0',\n",
              " 'model_loss': 0.47663888335227966,\n",
              " 'model_acc': 83.42651757188499}"
            ]
          },
          "metadata": {},
          "execution_count": 21
        }
      ]
    },
    {
      "cell_type": "code",
      "source": [
        "# Setup device agnostic code\n",
        "import torch\n",
        "device = \"cuda\" if torch.cuda.is_available() else \"cpu\"\n",
        "device"
      ],
      "metadata": {
        "colab": {
          "base_uri": "https://localhost:8080/",
          "height": 36
        },
        "id": "Hvc8MDKua8rY",
        "outputId": "d971f14b-6b9d-4618-af58-6a90ca8d3b8d"
      },
      "execution_count": 22,
      "outputs": [
        {
          "output_type": "execute_result",
          "data": {
            "text/plain": [
              "'cuda'"
            ],
            "application/vnd.google.colaboratory.intrinsic+json": {
              "type": "string"
            }
          },
          "metadata": {},
          "execution_count": 22
        }
      ]
    },
    {
      "cell_type": "markdown",
      "source": [
        "#  Building a better model with non-linearity¶\n"
      ],
      "metadata": {
        "id": "PKxrlUYkc_Vz"
      }
    },
    {
      "cell_type": "code",
      "source": [
        "# Create a model with non-linear and linear layers\n",
        "class FashionMNISTModelV1(nn.Module):\n",
        "    def __init__(self, input_shape: int, hidden_units: int, output_shape: int):\n",
        "        super().__init__()\n",
        "        self.layer_stack = nn.Sequential(\n",
        "            nn.Flatten(), # flatten inputs into single vector\n",
        "            nn.Linear(in_features=input_shape, out_features=hidden_units),\n",
        "            nn.ReLU(),\n",
        "            nn.Linear(in_features=hidden_units, out_features=output_shape),\n",
        "            nn.ReLU()\n",
        "        )\n",
        "\n",
        "    def forward(self, x: torch.Tensor):\n",
        "        return self.layer_stack(x)"
      ],
      "metadata": {
        "id": "5XLPFekYdBwo"
      },
      "execution_count": 23,
      "outputs": []
    },
    {
      "cell_type": "code",
      "source": [
        "torch.manual_seed(42)\n",
        "model_1 = FashionMNISTModelV1(input_shape=784, # number of input features\n",
        "    hidden_units=10,\n",
        "    output_shape=len(classes_name) # number of output classes desired\n",
        ").to(device) # send model to GPU if it's available\n",
        "next(model_1.parameters()).device # check model device"
      ],
      "metadata": {
        "colab": {
          "base_uri": "https://localhost:8080/"
        },
        "id": "UwPDO7-DdKwy",
        "outputId": "1106d2ca-2f1b-4dc1-972a-1f404cde2112"
      },
      "execution_count": 24,
      "outputs": [
        {
          "output_type": "execute_result",
          "data": {
            "text/plain": [
              "device(type='cuda', index=0)"
            ]
          },
          "metadata": {},
          "execution_count": 24
        }
      ]
    },
    {
      "cell_type": "code",
      "source": [
        "from helper_functions import accuracy_fn\n",
        "loss_fn = nn.CrossEntropyLoss()\n",
        "optimizer = torch.optim.SGD(params=model_1.parameters(),\n",
        "                            lr=0.1)"
      ],
      "metadata": {
        "id": "pRAdqCrUdMaS"
      },
      "execution_count": 25,
      "outputs": []
    },
    {
      "cell_type": "code",
      "source": [
        "def train_step(model: torch.nn.Module,\n",
        "               data_loader: torch.utils.data.DataLoader,\n",
        "               loss_fn: torch.nn.Module,\n",
        "               optimizer: torch.optim.Optimizer,\n",
        "               accuracy_fn,\n",
        "               device: torch.device = device):\n",
        "    train_loss, train_acc = 0, 0\n",
        "    model.to(device)\n",
        "    for batch, (X, y) in enumerate(data_loader):\n",
        "        # Send data to GPU\n",
        "        X, y = X.to(device), y.to(device)\n",
        "\n",
        "        # 1. Forward pass\n",
        "        y_pred = model(X)\n",
        "\n",
        "        # 2. Calculate loss\n",
        "        loss = loss_fn(y_pred, y)\n",
        "        train_loss += loss\n",
        "        train_acc += accuracy_fn(y_true=y,\n",
        "                                 y_pred=y_pred.argmax(dim=1)) # Go from logits -> pred labels\n",
        "\n",
        "        # 3. Optimizer zero grad\n",
        "        optimizer.zero_grad()\n",
        "\n",
        "        # 4. Loss backward\n",
        "        loss.backward()\n",
        "\n",
        "        # 5. Optimizer step\n",
        "        optimizer.step()\n",
        "\n",
        "    # Calculate loss and accuracy per epoch and print out what's happening\n",
        "    train_loss /= len(data_loader)\n",
        "    train_acc /= len(data_loader)\n",
        "    print(f\"Train loss: {train_loss:.5f} | Train accuracy: {train_acc:.2f}%\")\n",
        "\n",
        "def test_step(data_loader: torch.utils.data.DataLoader,\n",
        "              model: torch.nn.Module,\n",
        "              loss_fn: torch.nn.Module,\n",
        "              accuracy_fn,\n",
        "              device: torch.device = device):\n",
        "    test_loss, test_acc = 0, 0\n",
        "    model.to(device)\n",
        "    model.eval() # put model in eval mode\n",
        "    # Turn on inference context manager\n",
        "    with torch.inference_mode():\n",
        "        for X, y in data_loader:\n",
        "            # Send data to GPU\n",
        "            X, y = X.to(device), y.to(device)\n",
        "\n",
        "            # 1. Forward pass\n",
        "            test_pred = model(X)\n",
        "\n",
        "            # 2. Calculate loss and accuracy\n",
        "            test_loss += loss_fn(test_pred, y)\n",
        "            test_acc += accuracy_fn(y_true=y,\n",
        "                y_pred=test_pred.argmax(dim=1) # Go from logits -> pred labels\n",
        "            )\n",
        "\n",
        "        # Adjust metrics and print out\n",
        "        test_loss /= len(data_loader)\n",
        "        test_acc /= len(data_loader)\n",
        "        print(f\"Test loss: {test_loss:.5f} | Test accuracy: {test_acc:.2f}%\\n\")"
      ],
      "metadata": {
        "id": "i6uFeP7Hddzy"
      },
      "execution_count": 26,
      "outputs": []
    },
    {
      "cell_type": "code",
      "source": [
        "torch.manual_seed(42)\n",
        "\n",
        "# Measure time\n",
        "from timeit import default_timer as timer\n",
        "train_time_start_on_gpu = timer()\n",
        "\n",
        "epochs = 3\n",
        "for epoch in tqdm(range(epochs)):\n",
        "    print(f\"Epoch: {epoch}\\n---------\")\n",
        "    train_step(data_loader=train_dataloader,\n",
        "        model=model_1,\n",
        "        loss_fn=loss_fn,\n",
        "        optimizer=optimizer,\n",
        "        accuracy_fn=accuracy_fn\n",
        "    )\n",
        "    test_step(data_loader=test_dataloader,\n",
        "        model=model_1,\n",
        "        loss_fn=loss_fn,\n",
        "        accuracy_fn=accuracy_fn\n",
        "    )\n",
        "\n",
        "train_time_end_on_gpu = timer()\n",
        "total_train_time_model_1 = print_train_time(start=train_time_start_on_gpu,\n",
        "                                            end=train_time_end_on_gpu,\n",
        "                                            device=device)"
      ],
      "metadata": {
        "colab": {
          "base_uri": "https://localhost:8080/",
          "height": 327,
          "referenced_widgets": [
            "b56152d2fd424569bb0e3a10bdd4c429",
            "de3ba658e46b47f6afd5089de316b53a",
            "45e6cf5b389c414494314843b6ae3a97",
            "2db31111fe3a46be8b0d8fbe8c6d3fe8",
            "9da6095cee5944218012c07841ebf2f6",
            "068eeabbda324b9abc9cb9a74424f3f1",
            "60b1cb78ed3a46dbba14a9fc5cc1ef33",
            "dae555cf36884ca2ad74c9b22b7a42e2",
            "7da8ccfc088342ab952e7b7cb63c8a4a",
            "372958d5e03b4afe9a564a324770f6d4",
            "059a84632a1640b89a1c3c3e3b268655"
          ]
        },
        "id": "6_vhUJfHd88h",
        "outputId": "8008b245-2bad-4e81-a6b3-3f93b69ab996"
      },
      "execution_count": 27,
      "outputs": [
        {
          "output_type": "display_data",
          "data": {
            "text/plain": [
              "  0%|          | 0/3 [00:00<?, ?it/s]"
            ],
            "application/vnd.jupyter.widget-view+json": {
              "version_major": 2,
              "version_minor": 0,
              "model_id": "b56152d2fd424569bb0e3a10bdd4c429"
            }
          },
          "metadata": {}
        },
        {
          "output_type": "stream",
          "name": "stdout",
          "text": [
            "Epoch: 0\n",
            "---------\n",
            "Train loss: 1.09199 | Train accuracy: 61.34%\n",
            "Test loss: 0.95636 | Test accuracy: 65.00%\n",
            "\n",
            "Epoch: 1\n",
            "---------\n",
            "Train loss: 0.78101 | Train accuracy: 71.93%\n",
            "Test loss: 0.72227 | Test accuracy: 73.91%\n",
            "\n",
            "Epoch: 2\n",
            "---------\n",
            "Train loss: 0.67027 | Train accuracy: 75.94%\n",
            "Test loss: 0.68500 | Test accuracy: 75.02%\n",
            "\n",
            "Train time on cuda: 31.505 seconds\n"
          ]
        }
      ]
    },
    {
      "cell_type": "code",
      "source": [
        "# Move values to device\n",
        "torch.manual_seed(42)\n",
        "def eval_model(model: torch.nn.Module,\n",
        "               data_loader: torch.utils.data.DataLoader,\n",
        "               loss_fn: torch.nn.Module,\n",
        "               accuracy_fn,\n",
        "               device: torch.device = device):\n",
        "    \"\"\"Evaluates a given model on a given dataset.\n",
        "\n",
        "    Args:\n",
        "        model (torch.nn.Module): A PyTorch model capable of making predictions on data_loader.\n",
        "        data_loader (torch.utils.data.DataLoader): The target dataset to predict on.\n",
        "        loss_fn (torch.nn.Module): The loss function of model.\n",
        "        accuracy_fn: An accuracy function to compare the models predictions to the truth labels.\n",
        "        device (str, optional): Target device to compute on. Defaults to device.\n",
        "\n",
        "    Returns:\n",
        "        (dict): Results of model making predictions on data_loader.\n",
        "    \"\"\"\n",
        "    loss, acc = 0, 0\n",
        "    model.eval()\n",
        "    with torch.inference_mode():\n",
        "        for X, y in data_loader:\n",
        "            # Send data to the target device\n",
        "            X, y = X.to(device), y.to(device)\n",
        "            y_pred = model(X)\n",
        "            loss += loss_fn(y_pred, y)\n",
        "            acc += accuracy_fn(y_true=y, y_pred=y_pred.argmax(dim=1))\n",
        "\n",
        "        # Scale loss and acc\n",
        "        loss /= len(data_loader)\n",
        "        acc /= len(data_loader)\n",
        "    return {\"model_name\": model.__class__.__name__, # only works when model was created with a class\n",
        "            \"model_loss\": loss.item(),\n",
        "            \"model_acc\": acc}\n",
        "\n",
        "# Calculate model 1 results with device-agnostic code\n",
        "model_1_results = eval_model(model=model_1, data_loader=test_dataloader,\n",
        "    loss_fn=loss_fn, accuracy_fn=accuracy_fn,\n",
        "    device=device\n",
        ")\n",
        "model_1_results"
      ],
      "metadata": {
        "colab": {
          "base_uri": "https://localhost:8080/"
        },
        "id": "_f8dSTHtj8cV",
        "outputId": "d02041d1-d13f-4bf0-f7ce-806ec91f9cc3"
      },
      "execution_count": 28,
      "outputs": [
        {
          "output_type": "execute_result",
          "data": {
            "text/plain": [
              "{'model_name': 'FashionMNISTModelV1',\n",
              " 'model_loss': 0.6850008964538574,\n",
              " 'model_acc': 75.01996805111821}"
            ]
          },
          "metadata": {},
          "execution_count": 28
        }
      ]
    },
    {
      "cell_type": "code",
      "source": [
        "# Check baseline results\n",
        "model_0_results"
      ],
      "metadata": {
        "colab": {
          "base_uri": "https://localhost:8080/"
        },
        "id": "F57Bx0b1j-ml",
        "outputId": "ddc18700-f6b5-4eb1-8254-b94ab65380bd"
      },
      "execution_count": 29,
      "outputs": [
        {
          "output_type": "execute_result",
          "data": {
            "text/plain": [
              "{'model_name': 'FashionMNISTModelV0',\n",
              " 'model_loss': 0.47663888335227966,\n",
              " 'model_acc': 83.42651757188499}"
            ]
          },
          "metadata": {},
          "execution_count": 29
        }
      ]
    }
  ]
}