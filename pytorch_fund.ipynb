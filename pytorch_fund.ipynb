{
  "nbformat": 4,
  "nbformat_minor": 0,
  "metadata": {
    "colab": {
      "provenance": []
    },
    "kernelspec": {
      "name": "python3",
      "display_name": "Python 3"
    },
    "language_info": {
      "name": "python"
    }
  },
  "cells": [
    {
      "cell_type": "markdown",
      "source": [
        "ressource: https://www.learnpytorch.io/00_pytorch_fundamentals/"
      ],
      "metadata": {
        "id": "I1vYHhlDnUTa"
      }
    },
    {
      "cell_type": "code",
      "execution_count": 2,
      "metadata": {
        "colab": {
          "base_uri": "https://localhost:8080/"
        },
        "id": "mK85mycLiVxX",
        "outputId": "62b54bbb-af85-4871-c48c-d2fedd64e464"
      },
      "outputs": [
        {
          "output_type": "stream",
          "name": "stdout",
          "text": [
            "2.6.0+cu124\n"
          ]
        }
      ],
      "source": [
        "import torch\n",
        "print(torch.__version__)"
      ]
    },
    {
      "cell_type": "code",
      "source": [
        "#scaler\n",
        "scaler=torch.tensor(7)\n",
        "scaler"
      ],
      "metadata": {
        "colab": {
          "base_uri": "https://localhost:8080/"
        },
        "id": "Emzcv2pelGBy",
        "outputId": "7fe34688-ddf4-4a3c-f70c-4d2428b94dd0"
      },
      "execution_count": 3,
      "outputs": [
        {
          "output_type": "execute_result",
          "data": {
            "text/plain": [
              "tensor(7)"
            ]
          },
          "metadata": {},
          "execution_count": 3
        }
      ]
    },
    {
      "cell_type": "code",
      "source": [
        "scaler.ndim\n",
        "#ndim is dimension ( number of square brackets)"
      ],
      "metadata": {
        "colab": {
          "base_uri": "https://localhost:8080/"
        },
        "id": "B_5mJAimlkFx",
        "outputId": "01ccc5ed-651a-4c7e-a689-6e96d4af08bc"
      },
      "execution_count": 6,
      "outputs": [
        {
          "output_type": "execute_result",
          "data": {
            "text/plain": [
              "0"
            ]
          },
          "metadata": {},
          "execution_count": 6
        }
      ]
    },
    {
      "cell_type": "code",
      "source": [
        "scaler.item()"
      ],
      "metadata": {
        "colab": {
          "base_uri": "https://localhost:8080/"
        },
        "id": "Q4qHRYstlKfQ",
        "outputId": "85345180-49d2-40bc-8b92-e4b37e88cf17"
      },
      "execution_count": 4,
      "outputs": [
        {
          "output_type": "execute_result",
          "data": {
            "text/plain": [
              "7"
            ]
          },
          "metadata": {},
          "execution_count": 4
        }
      ]
    },
    {
      "cell_type": "code",
      "source": [
        "#vector\n",
        "vector=torch.tensor([7,7])\n",
        "vector"
      ],
      "metadata": {
        "colab": {
          "base_uri": "https://localhost:8080/"
        },
        "id": "Umq8EZIClN8C",
        "outputId": "6e2be398-d353-489d-9e3f-b1eee227ec04"
      },
      "execution_count": 5,
      "outputs": [
        {
          "output_type": "execute_result",
          "data": {
            "text/plain": [
              "tensor([7, 7])"
            ]
          },
          "metadata": {},
          "execution_count": 5
        }
      ]
    },
    {
      "cell_type": "code",
      "source": [
        "vector.ndim\n"
      ],
      "metadata": {
        "colab": {
          "base_uri": "https://localhost:8080/"
        },
        "id": "Pmq6MyQWli8A",
        "outputId": "66bb2a8a-b098-4a06-a559-54069d00ea93"
      },
      "execution_count": 8,
      "outputs": [
        {
          "output_type": "execute_result",
          "data": {
            "text/plain": [
              "1"
            ]
          },
          "metadata": {},
          "execution_count": 8
        }
      ]
    },
    {
      "cell_type": "code",
      "source": [
        "vector.shape"
      ],
      "metadata": {
        "colab": {
          "base_uri": "https://localhost:8080/"
        },
        "id": "JEdAN6m3lsNZ",
        "outputId": "735140c8-2d7b-468b-bc9f-7c5aee830fba"
      },
      "execution_count": 9,
      "outputs": [
        {
          "output_type": "execute_result",
          "data": {
            "text/plain": [
              "torch.Size([2])"
            ]
          },
          "metadata": {},
          "execution_count": 9
        }
      ]
    },
    {
      "cell_type": "code",
      "source": [
        "#matrix\n",
        "matrix =torch.tensor([[7,8],[1,2]])\n",
        "matrix"
      ],
      "metadata": {
        "colab": {
          "base_uri": "https://localhost:8080/"
        },
        "id": "2gYvw6EJlvaN",
        "outputId": "3345ec44-bff0-4f5d-b54a-62c3d0d96982"
      },
      "execution_count": 11,
      "outputs": [
        {
          "output_type": "execute_result",
          "data": {
            "text/plain": [
              "tensor([[7, 8],\n",
              "        [1, 2]])"
            ]
          },
          "metadata": {},
          "execution_count": 11
        }
      ]
    },
    {
      "cell_type": "code",
      "source": [
        "matrix.ndim"
      ],
      "metadata": {
        "colab": {
          "base_uri": "https://localhost:8080/"
        },
        "id": "6Zf-WJTrmD2r",
        "outputId": "6ebd577b-97a8-4353-c129-ac425afc03c0"
      },
      "execution_count": 12,
      "outputs": [
        {
          "output_type": "execute_result",
          "data": {
            "text/plain": [
              "2"
            ]
          },
          "metadata": {},
          "execution_count": 12
        }
      ]
    },
    {
      "cell_type": "code",
      "source": [
        "matrix.shape"
      ],
      "metadata": {
        "colab": {
          "base_uri": "https://localhost:8080/"
        },
        "id": "XG31MLnfmF4z",
        "outputId": "22dacb00-787d-4a19-a887-cb60f3df53e6"
      },
      "execution_count": 13,
      "outputs": [
        {
          "output_type": "execute_result",
          "data": {
            "text/plain": [
              "torch.Size([2, 2])"
            ]
          },
          "metadata": {},
          "execution_count": 13
        }
      ]
    },
    {
      "cell_type": "code",
      "source": [
        "#Tensor\n",
        "tensor=torch.tensor([[[1,2,3],[3,5,6],[8,6,9],[8,7,8]]])\n",
        "tensor"
      ],
      "metadata": {
        "colab": {
          "base_uri": "https://localhost:8080/"
        },
        "id": "yRGq2qInmNjR",
        "outputId": "07ea26d0-f55d-4e91-bebc-16e42403a0d2"
      },
      "execution_count": 17,
      "outputs": [
        {
          "output_type": "execute_result",
          "data": {
            "text/plain": [
              "tensor([[[1, 2, 3],\n",
              "         [3, 5, 6],\n",
              "         [8, 6, 9],\n",
              "         [8, 7, 8]]])"
            ]
          },
          "metadata": {},
          "execution_count": 17
        }
      ]
    },
    {
      "cell_type": "code",
      "source": [
        "tensor.ndim"
      ],
      "metadata": {
        "colab": {
          "base_uri": "https://localhost:8080/"
        },
        "id": "v5vIM_cJmoOr",
        "outputId": "ec3da2b5-a819-4700-e15d-2f3a602aa585"
      },
      "execution_count": 18,
      "outputs": [
        {
          "output_type": "execute_result",
          "data": {
            "text/plain": [
              "3"
            ]
          },
          "metadata": {},
          "execution_count": 18
        }
      ]
    },
    {
      "cell_type": "markdown",
      "source": [
        "![image.png](data:image/png;base64,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)"
      ],
      "metadata": {
        "id": "eEQayco7oJSu"
      }
    },
    {
      "cell_type": "code",
      "source": [
        "tensor.shape"
      ],
      "metadata": {
        "colab": {
          "base_uri": "https://localhost:8080/"
        },
        "id": "JJLVY7jqmqOj",
        "outputId": "bfd1d84c-4b87-479e-ea13-b5228e5d5483"
      },
      "execution_count": 19,
      "outputs": [
        {
          "output_type": "execute_result",
          "data": {
            "text/plain": [
              "torch.Size([1, 4, 3])"
            ]
          },
          "metadata": {},
          "execution_count": 19
        }
      ]
    },
    {
      "cell_type": "code",
      "source": [
        "#random tensors cuz NN start with random numbers and then update and ....\n",
        "random_tensor=torch.rand(3,4)\n",
        "random_tensor\n"
      ],
      "metadata": {
        "colab": {
          "base_uri": "https://localhost:8080/"
        },
        "id": "U034vqm2ocA3",
        "outputId": "b2f7a447-cb51-4cd8-be22-73fca2d020ed"
      },
      "execution_count": 20,
      "outputs": [
        {
          "output_type": "execute_result",
          "data": {
            "text/plain": [
              "tensor([[0.3120, 0.9320, 0.8091, 0.4483],\n",
              "        [0.5839, 0.9223, 0.4681, 0.3848],\n",
              "        [0.5463, 0.9488, 0.7064, 0.1012]])"
            ]
          },
          "metadata": {},
          "execution_count": 20
        }
      ]
    },
    {
      "cell_type": "code",
      "source": [
        "#random tensors with similar shape to image tensor\n",
        "random_image_size_tensor=torch.rand(size=(244,244,3)) #h,w,color channel ( 3= red green blue)\n",
        "random_image_size_tensor.shape , random_image_size_tensor.ndim"
      ],
      "metadata": {
        "colab": {
          "base_uri": "https://localhost:8080/"
        },
        "id": "3Yno3nQ-v1Sl",
        "outputId": "f997b6a5-96b4-45ec-9319-0f6e645e0be4"
      },
      "execution_count": 21,
      "outputs": [
        {
          "output_type": "execute_result",
          "data": {
            "text/plain": [
              "(torch.Size([244, 244, 3]), 3)"
            ]
          },
          "metadata": {},
          "execution_count": 21
        }
      ]
    },
    {
      "cell_type": "code",
      "source": [
        "#zeros and ones\n",
        "# Create a tensor of all zeros\n",
        "zeros = torch.zeros(size=(3, 4))\n",
        "zeros, zeros.dtype\n"
      ],
      "metadata": {
        "colab": {
          "base_uri": "https://localhost:8080/"
        },
        "id": "WjsQae6d1e-r",
        "outputId": "e4a181d8-83cc-4c7e-9b3a-4c2406f86f0a"
      },
      "execution_count": 23,
      "outputs": [
        {
          "output_type": "execute_result",
          "data": {
            "text/plain": [
              "(tensor([[0., 0., 0., 0.],\n",
              "         [0., 0., 0., 0.],\n",
              "         [0., 0., 0., 0.]]),\n",
              " torch.float32)"
            ]
          },
          "metadata": {},
          "execution_count": 23
        }
      ]
    },
    {
      "cell_type": "code",
      "source": [
        "# Create a tensor of all ones\n",
        "ones = torch.ones(size=(3, 4))\n",
        "ones, ones.dtype"
      ],
      "metadata": {
        "colab": {
          "base_uri": "https://localhost:8080/"
        },
        "id": "OgwdIW521qtT",
        "outputId": "6d109919-92e1-4806-bfb3-95284daa85cf"
      },
      "execution_count": 24,
      "outputs": [
        {
          "output_type": "execute_result",
          "data": {
            "text/plain": [
              "(tensor([[1., 1., 1., 1.],\n",
              "         [1., 1., 1., 1.],\n",
              "         [1., 1., 1., 1.]]),\n",
              " torch.float32)"
            ]
          },
          "metadata": {},
          "execution_count": 24
        }
      ]
    },
    {
      "cell_type": "code",
      "source": [
        "#range tensors ( start , end,step)\n",
        "range_tensor=torch.range(start=2 , end=8 , step=2)\n",
        "range_tensor"
      ],
      "metadata": {
        "colab": {
          "base_uri": "https://localhost:8080/"
        },
        "id": "jTm5d1L0A07Z",
        "outputId": "235b54b7-9d4c-4c98-f664-b44675177638"
      },
      "execution_count": 28,
      "outputs": [
        {
          "output_type": "stream",
          "name": "stderr",
          "text": [
            "/tmp/ipython-input-28-358438144.py:2: UserWarning: torch.range is deprecated and will be removed in a future release because its behavior is inconsistent with Python's range builtin. Instead, use torch.arange, which produces values in [start, end).\n",
            "  range_tensor=torch.range(start=2 , end=8 , step=2)\n"
          ]
        },
        {
          "output_type": "execute_result",
          "data": {
            "text/plain": [
              "tensor([2., 4., 6., 8.])"
            ]
          },
          "metadata": {},
          "execution_count": 28
        }
      ]
    },
    {
      "cell_type": "code",
      "source": [
        "#tensors_like tensor like another one in shape\n",
        "like_tensor =torch.zeros_like(input=range_tensor)\n",
        "like_tensor"
      ],
      "metadata": {
        "colab": {
          "base_uri": "https://localhost:8080/"
        },
        "id": "CyEgAakKBl6y",
        "outputId": "110e9cdf-fa88-495f-d337-d0dbede7d04a"
      },
      "execution_count": 30,
      "outputs": [
        {
          "output_type": "execute_result",
          "data": {
            "text/plain": [
              "tensor([0., 0., 0., 0.])"
            ]
          },
          "metadata": {},
          "execution_count": 30
        }
      ]
    },
    {
      "cell_type": "markdown",
      "source": [
        "ressource :  [tensor datatypes available in PyTorch ](https://)\n",
        "\n",
        "//\n",
        " [PyTorch documentation for a list of all available tensor datatypes](https://).\n"
      ],
      "metadata": {
        "id": "PlNFaXbSE4-I"
      }
    },
    {
      "cell_type": "code",
      "source": [
        "#data types default ( float32 32 bits )\n",
        "float_32_tensor=torch.tensor([3.0,6.0,9.0],\n",
        "                             dtype=None, #data type default torch.float32\n",
        "                             device=None , # default tensor type\n",
        "                             requires_grad=False) #  to record operation on tensor ( if true)\n",
        "float_32_tensor.shape , float_32_tensor.device ,float_32_tensor.dtype"
      ],
      "metadata": {
        "colab": {
          "base_uri": "https://localhost:8080/"
        },
        "id": "tv7y68IUC0-0",
        "outputId": "d378b5f1-7cbb-4c84-f1c0-d7d89ded248f"
      },
      "execution_count": 34,
      "outputs": [
        {
          "output_type": "execute_result",
          "data": {
            "text/plain": [
              "(torch.Size([3]), device(type='cpu'), torch.float32)"
            ]
          },
          "metadata": {},
          "execution_count": 34
        }
      ]
    },
    {
      "cell_type": "code",
      "source": [
        "float_16_tensor = torch.tensor([3.0, 6.0, 9.0],\n",
        "                               dtype=torch.float16) # torch.half would also work\n",
        "\n",
        "float_16_tensor.dtype"
      ],
      "metadata": {
        "colab": {
          "base_uri": "https://localhost:8080/"
        },
        "id": "mryqNOqwEOtw",
        "outputId": "0d8bffd4-844d-45ed-981a-94c0b24802f0"
      },
      "execution_count": 35,
      "outputs": [
        {
          "output_type": "execute_result",
          "data": {
            "text/plain": [
              "torch.float16"
            ]
          },
          "metadata": {},
          "execution_count": 35
        }
      ]
    }
  ]
}