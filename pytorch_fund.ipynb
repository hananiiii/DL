{
  "cells": [
    {
      "cell_type": "markdown",
      "metadata": {
        "id": "I1vYHhlDnUTa"
      },
      "source": [
        "ressource: https://www.learnpytorch.io/00_pytorch_fundamentals/"
      ]
    },
    {
      "cell_type": "code",
      "execution_count": 4,
      "metadata": {
        "colab": {
          "base_uri": "https://localhost:8080/"
        },
        "id": "mK85mycLiVxX",
        "outputId": "28963cf4-e17f-49a5-e474-f0d037063647"
      },
      "outputs": [
        {
          "name": "stdout",
          "output_type": "stream",
          "text": [
            "2.6.0+cu124\n"
          ]
        }
      ],
      "source": [
        "import torch\n",
        "print(torch.__version__)"
      ]
    },
    {
      "cell_type": "code",
      "execution_count": 5,
      "metadata": {
        "colab": {
          "base_uri": "https://localhost:8080/"
        },
        "id": "Emzcv2pelGBy",
        "outputId": "d0152558-ea99-4ee7-d53e-ee313e6f06e2"
      },
      "outputs": [
        {
          "data": {
            "text/plain": [
              "tensor(7)"
            ]
          },
          "execution_count": 5,
          "metadata": {},
          "output_type": "execute_result"
        }
      ],
      "source": [
        "#scaler\n",
        "scaler=torch.tensor(7)\n",
        "scaler"
      ]
    },
    {
      "cell_type": "code",
      "execution_count": 6,
      "metadata": {
        "colab": {
          "base_uri": "https://localhost:8080/"
        },
        "id": "B_5mJAimlkFx",
        "outputId": "b58db216-857d-4788-bb5f-5fbd6005959f"
      },
      "outputs": [
        {
          "data": {
            "text/plain": [
              "0"
            ]
          },
          "execution_count": 6,
          "metadata": {},
          "output_type": "execute_result"
        }
      ],
      "source": [
        "scaler.ndim\n",
        "#ndim is dimension ( number of square brackets)"
      ]
    },
    {
      "cell_type": "code",
      "execution_count": 7,
      "metadata": {
        "colab": {
          "base_uri": "https://localhost:8080/"
        },
        "id": "Q4qHRYstlKfQ",
        "outputId": "4e48a27f-040d-465d-a8f8-a542aa0cf40d"
      },
      "outputs": [
        {
          "data": {
            "text/plain": [
              "7"
            ]
          },
          "execution_count": 7,
          "metadata": {},
          "output_type": "execute_result"
        }
      ],
      "source": [
        "scaler.item()"
      ]
    },
    {
      "cell_type": "code",
      "execution_count": 8,
      "metadata": {
        "colab": {
          "base_uri": "https://localhost:8080/"
        },
        "id": "Umq8EZIClN8C",
        "outputId": "baec9fe9-1419-44e8-f853-ee759aeb9e0e"
      },
      "outputs": [
        {
          "data": {
            "text/plain": [
              "tensor([7, 7])"
            ]
          },
          "execution_count": 8,
          "metadata": {},
          "output_type": "execute_result"
        }
      ],
      "source": [
        "#vector\n",
        "vector=torch.tensor([7,7])\n",
        "vector"
      ]
    },
    {
      "cell_type": "code",
      "execution_count": 9,
      "metadata": {
        "colab": {
          "base_uri": "https://localhost:8080/"
        },
        "id": "Pmq6MyQWli8A",
        "outputId": "cb43447d-6720-4039-d994-55d4de6224b6"
      },
      "outputs": [
        {
          "data": {
            "text/plain": [
              "1"
            ]
          },
          "execution_count": 9,
          "metadata": {},
          "output_type": "execute_result"
        }
      ],
      "source": [
        "vector.ndim\n"
      ]
    },
    {
      "cell_type": "code",
      "execution_count": 10,
      "metadata": {
        "colab": {
          "base_uri": "https://localhost:8080/"
        },
        "id": "JEdAN6m3lsNZ",
        "outputId": "94deef84-c294-4817-e9b1-76435adb6483"
      },
      "outputs": [
        {
          "data": {
            "text/plain": [
              "torch.Size([2])"
            ]
          },
          "execution_count": 10,
          "metadata": {},
          "output_type": "execute_result"
        }
      ],
      "source": [
        "vector.shape"
      ]
    },
    {
      "cell_type": "code",
      "execution_count": 11,
      "metadata": {
        "colab": {
          "base_uri": "https://localhost:8080/"
        },
        "id": "2gYvw6EJlvaN",
        "outputId": "cdbcb564-4879-41f7-a28d-31c2a0a0dedd"
      },
      "outputs": [
        {
          "data": {
            "text/plain": [
              "tensor([[7, 8],\n",
              "        [1, 2]])"
            ]
          },
          "execution_count": 11,
          "metadata": {},
          "output_type": "execute_result"
        }
      ],
      "source": [
        "#matrix\n",
        "matrix =torch.tensor([[7,8],[1,2]])\n",
        "matrix"
      ]
    },
    {
      "cell_type": "code",
      "execution_count": 12,
      "metadata": {
        "colab": {
          "base_uri": "https://localhost:8080/"
        },
        "id": "6Zf-WJTrmD2r",
        "outputId": "a376c1b5-ac63-4c62-f7a3-b6061343024a"
      },
      "outputs": [
        {
          "data": {
            "text/plain": [
              "2"
            ]
          },
          "execution_count": 12,
          "metadata": {},
          "output_type": "execute_result"
        }
      ],
      "source": [
        "matrix.ndim"
      ]
    },
    {
      "cell_type": "code",
      "execution_count": 13,
      "metadata": {
        "colab": {
          "base_uri": "https://localhost:8080/"
        },
        "id": "XG31MLnfmF4z",
        "outputId": "df4f6b4e-56cb-4c31-8537-eac68d048b23"
      },
      "outputs": [
        {
          "data": {
            "text/plain": [
              "torch.Size([2, 2])"
            ]
          },
          "execution_count": 13,
          "metadata": {},
          "output_type": "execute_result"
        }
      ],
      "source": [
        "matrix.shape"
      ]
    },
    {
      "cell_type": "code",
      "execution_count": 14,
      "metadata": {
        "colab": {
          "base_uri": "https://localhost:8080/"
        },
        "id": "yRGq2qInmNjR",
        "outputId": "e9a56130-450d-4220-b3a6-4367a9596577"
      },
      "outputs": [
        {
          "data": {
            "text/plain": [
              "tensor([[[1, 2, 3],\n",
              "         [3, 5, 6],\n",
              "         [8, 6, 9],\n",
              "         [8, 7, 8]]])"
            ]
          },
          "execution_count": 14,
          "metadata": {},
          "output_type": "execute_result"
        }
      ],
      "source": [
        "#Tensor\n",
        "tensor=torch.tensor([[[1,2,3],[3,5,6],[8,6,9],[8,7,8]]])\n",
        "tensor"
      ]
    },
    {
      "cell_type": "code",
      "execution_count": 15,
      "metadata": {
        "colab": {
          "base_uri": "https://localhost:8080/"
        },
        "id": "v5vIM_cJmoOr",
        "outputId": "ec32705a-238e-4c5e-9ba1-7baf7ac161f6"
      },
      "outputs": [
        {
          "data": {
            "text/plain": [
              "3"
            ]
          },
          "execution_count": 15,
          "metadata": {},
          "output_type": "execute_result"
        }
      ],
      "source": [
        "tensor.ndim"
      ]
    },
    {
      "cell_type": "markdown",
      "metadata": {
        "id": "eEQayco7oJSu"
      },
      "source": [
        "![image.png](data:image/png;base64,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)"
      ]
    },
    {
      "cell_type": "code",
      "execution_count": 16,
      "metadata": {
        "colab": {
          "base_uri": "https://localhost:8080/"
        },
        "id": "JJLVY7jqmqOj",
        "outputId": "9c6f465d-f74c-4c7d-f961-4ba63c40a52e"
      },
      "outputs": [
        {
          "data": {
            "text/plain": [
              "torch.Size([1, 4, 3])"
            ]
          },
          "execution_count": 16,
          "metadata": {},
          "output_type": "execute_result"
        }
      ],
      "source": [
        "tensor.shape"
      ]
    },
    {
      "cell_type": "code",
      "execution_count": 17,
      "metadata": {
        "colab": {
          "base_uri": "https://localhost:8080/"
        },
        "id": "U034vqm2ocA3",
        "outputId": "45d05768-d486-489c-d5fb-97e7bf2c5874"
      },
      "outputs": [
        {
          "data": {
            "text/plain": [
              "tensor([[0.9636, 0.3944, 0.7881, 0.9936],\n",
              "        [0.8466, 0.0571, 0.2237, 0.9987],\n",
              "        [0.6283, 0.3470, 0.3443, 0.4740]])"
            ]
          },
          "execution_count": 17,
          "metadata": {},
          "output_type": "execute_result"
        }
      ],
      "source": [
        "#random tensors cuz NN start with random numbers and then update and ....\n",
        "random_tensor=torch.rand(3,4)\n",
        "random_tensor\n"
      ]
    },
    {
      "cell_type": "code",
      "execution_count": 18,
      "metadata": {
        "colab": {
          "base_uri": "https://localhost:8080/"
        },
        "id": "3Yno3nQ-v1Sl",
        "outputId": "9f951f2f-5d0c-4090-ea02-95be49198fca"
      },
      "outputs": [
        {
          "data": {
            "text/plain": [
              "(torch.Size([244, 244, 3]), 3)"
            ]
          },
          "execution_count": 18,
          "metadata": {},
          "output_type": "execute_result"
        }
      ],
      "source": [
        "#random tensors with similar shape to image tensor\n",
        "random_image_size_tensor=torch.rand(size=(244,244,3)) #h,w,color channel ( 3= red green blue)\n",
        "random_image_size_tensor.shape , random_image_size_tensor.ndim"
      ]
    },
    {
      "cell_type": "code",
      "execution_count": 19,
      "metadata": {
        "colab": {
          "base_uri": "https://localhost:8080/"
        },
        "id": "WjsQae6d1e-r",
        "outputId": "0b43fe14-15a2-4de0-abc9-0b0ea4f7ecc6"
      },
      "outputs": [
        {
          "data": {
            "text/plain": [
              "(tensor([[0., 0., 0., 0.],\n",
              "         [0., 0., 0., 0.],\n",
              "         [0., 0., 0., 0.]]),\n",
              " torch.float32)"
            ]
          },
          "execution_count": 19,
          "metadata": {},
          "output_type": "execute_result"
        }
      ],
      "source": [
        "#zeros and ones\n",
        "# Create a tensor of all zeros\n",
        "zeros = torch.zeros(size=(3, 4))\n",
        "zeros, zeros.dtype\n"
      ]
    },
    {
      "cell_type": "code",
      "execution_count": 20,
      "metadata": {
        "colab": {
          "base_uri": "https://localhost:8080/"
        },
        "id": "OgwdIW521qtT",
        "outputId": "64e2d649-711a-438a-b43b-00b22998000f"
      },
      "outputs": [
        {
          "data": {
            "text/plain": [
              "(tensor([[1., 1., 1., 1.],\n",
              "         [1., 1., 1., 1.],\n",
              "         [1., 1., 1., 1.]]),\n",
              " torch.float32)"
            ]
          },
          "execution_count": 20,
          "metadata": {},
          "output_type": "execute_result"
        }
      ],
      "source": [
        "# Create a tensor of all ones\n",
        "ones = torch.ones(size=(3, 4))\n",
        "ones, ones.dtype"
      ]
    },
    {
      "cell_type": "code",
      "execution_count": 21,
      "metadata": {
        "colab": {
          "base_uri": "https://localhost:8080/"
        },
        "id": "jTm5d1L0A07Z",
        "outputId": "56fc2d02-4525-44e0-fea8-4dd7826b8ba8"
      },
      "outputs": [
        {
          "name": "stderr",
          "output_type": "stream",
          "text": [
            "/tmp/ipython-input-21-358438144.py:2: UserWarning: torch.range is deprecated and will be removed in a future release because its behavior is inconsistent with Python's range builtin. Instead, use torch.arange, which produces values in [start, end).\n",
            "  range_tensor=torch.range(start=2 , end=8 , step=2)\n"
          ]
        },
        {
          "data": {
            "text/plain": [
              "tensor([2., 4., 6., 8.])"
            ]
          },
          "execution_count": 21,
          "metadata": {},
          "output_type": "execute_result"
        }
      ],
      "source": [
        "#range tensors ( start , end,step)\n",
        "range_tensor=torch.range(start=2 , end=8 , step=2)\n",
        "range_tensor"
      ]
    },
    {
      "cell_type": "code",
      "execution_count": 22,
      "metadata": {
        "colab": {
          "base_uri": "https://localhost:8080/"
        },
        "id": "CyEgAakKBl6y",
        "outputId": "8401e1d5-eb04-4843-c135-95f85b937ed4"
      },
      "outputs": [
        {
          "data": {
            "text/plain": [
              "tensor([0., 0., 0., 0.])"
            ]
          },
          "execution_count": 22,
          "metadata": {},
          "output_type": "execute_result"
        }
      ],
      "source": [
        "#tensors_like tensor like another one in shape\n",
        "like_tensor =torch.zeros_like(input=range_tensor)\n",
        "like_tensor"
      ]
    },
    {
      "cell_type": "markdown",
      "metadata": {
        "id": "PlNFaXbSE4-I"
      },
      "source": [
        "ressource :  [tensor datatypes available in PyTorch ](https://)\n",
        "\n",
        "//\n",
        " [PyTorch documentation for a list of all available tensor datatypes](https://).\n"
      ]
    },
    {
      "cell_type": "code",
      "execution_count": 23,
      "metadata": {
        "colab": {
          "base_uri": "https://localhost:8080/"
        },
        "id": "tv7y68IUC0-0",
        "outputId": "0ada9fe3-096f-499f-f9d5-61d2f68b72d1"
      },
      "outputs": [
        {
          "data": {
            "text/plain": [
              "(torch.Size([3]), device(type='cpu'), torch.float32)"
            ]
          },
          "execution_count": 23,
          "metadata": {},
          "output_type": "execute_result"
        }
      ],
      "source": [
        "#data types default ( float32 32 bits )\n",
        "float_32_tensor=torch.tensor([3.0,6.0,9.0],\n",
        "                             dtype=None, #data type default torch.float32\n",
        "                             device=None , # default tensor type\n",
        "                             requires_grad=False) #  to record operation on tensor ( if true)\n",
        "float_32_tensor.shape , float_32_tensor.device ,float_32_tensor.dtype"
      ]
    },
    {
      "cell_type": "code",
      "execution_count": 24,
      "metadata": {
        "colab": {
          "base_uri": "https://localhost:8080/"
        },
        "id": "mryqNOqwEOtw",
        "outputId": "e7591bcd-7c92-4e23-cfe9-a9091c9d9e3f"
      },
      "outputs": [
        {
          "data": {
            "text/plain": [
              "torch.float16"
            ]
          },
          "execution_count": 24,
          "metadata": {},
          "output_type": "execute_result"
        }
      ],
      "source": [
        "float_16_tensor = torch.tensor([3.0, 6.0, 9.0],\n",
        "                               dtype=torch.float16) # torch.half would also work\n",
        "\n",
        "float_16_tensor.dtype"
      ]
    },
    {
      "cell_type": "code",
      "execution_count": 25,
      "metadata": {
        "colab": {
          "base_uri": "https://localhost:8080/"
        },
        "id": "S7S1Gb9T1gxX",
        "outputId": "402d41b4-bea8-4e1f-c76d-66d3f0d0adb8"
      },
      "outputs": [
        {
          "name": "stdout",
          "output_type": "stream",
          "text": [
            "tensor([[0.8267, 0.8780, 0.0041, 0.4993],\n",
            "        [0.5517, 0.1058, 0.8422, 0.4011],\n",
            "        [0.2203, 0.6011, 0.4953, 0.7615]])\n",
            "Shape of tensor: torch.Size([3, 4])\n",
            "Datatype of tensor: torch.float32\n",
            "Device tensor is stored on: cpu\n"
          ]
        }
      ],
      "source": [
        "#getting infos from tensors\n",
        "some_tensor = torch.rand(3, 4)\n",
        "print(some_tensor) #the tensor\n",
        "print(f\"Shape of tensor: {some_tensor.shape}\")\n",
        "print(f\"Datatype of tensor: {some_tensor.dtype}\")\n",
        "print(f\"Device tensor is stored on: {some_tensor.device}\")"
      ]
    },
    {
      "cell_type": "markdown",
      "metadata": {
        "id": "KGvjaHUS3It_"
      },
      "source": [
        "#manipulating tensor\n",
        "#In deep learning, data (images, text, video, audio, protein structures, etc) gets represented as tensors.\n",
        "these operations are often a wonderful dance between:\n",
        "\n",
        "Addition\n",
        "Substraction\n",
        "Multiplication (element-wise)\n",
        "Division\n",
        "Matrix multiplication"
      ]
    },
    {
      "cell_type": "code",
      "execution_count": 26,
      "metadata": {
        "colab": {
          "base_uri": "https://localhost:8080/"
        },
        "id": "vRnqPkx72Mfv",
        "outputId": "aaa22458-693a-40d7-9a8f-062a64ced2f7"
      },
      "outputs": [
        {
          "data": {
            "text/plain": [
              "tensor([11, 12, 13])"
            ]
          },
          "execution_count": 26,
          "metadata": {},
          "output_type": "execute_result"
        }
      ],
      "source": [
        "#addition\n",
        "# Create a tensor of values and add a number to it\n",
        "tensor = torch.tensor([1, 2, 3])\n",
        "tensor + 10  # / - / *"
      ]
    },
    {
      "cell_type": "code",
      "execution_count": 27,
      "metadata": {
        "colab": {
          "base_uri": "https://localhost:8080/"
        },
        "id": "FCkBPU6Q352O",
        "outputId": "e5751fa4-3f58-4406-ce50-2ac03e72d277"
      },
      "outputs": [
        {
          "data": {
            "text/plain": [
              "tensor([ 9., 36., 81.])"
            ]
          },
          "execution_count": 27,
          "metadata": {},
          "output_type": "execute_result"
        }
      ],
      "source": [
        "float_16_tensor * float_32_tensor #can multipy float * float *int ...."
      ]
    },
    {
      "cell_type": "code",
      "execution_count": 28,
      "metadata": {
        "colab": {
          "base_uri": "https://localhost:8080/"
        },
        "id": "JtcvliK04ufL",
        "outputId": "a5fb8792-7efe-46d5-aae1-a104c8ee69a3"
      },
      "outputs": [
        {
          "data": {
            "text/plain": [
              "tensor([10, 20, 30])"
            ]
          },
          "execution_count": 28,
          "metadata": {},
          "output_type": "execute_result"
        }
      ],
      "source": [
        "#build in functions\n",
        "torch.multiply(tensor, 10)\n"
      ]
    },
    {
      "cell_type": "code",
      "execution_count": 29,
      "metadata": {
        "colab": {
          "base_uri": "https://localhost:8080/"
        },
        "id": "6wbrXd-H4ype",
        "outputId": "7d284c44-1097-4676-94b1-3416344b778d"
      },
      "outputs": [
        {
          "data": {
            "text/plain": [
              "tensor([1, 2, 3])"
            ]
          },
          "execution_count": 29,
          "metadata": {},
          "output_type": "execute_result"
        }
      ],
      "source": [
        "tensor"
      ]
    },
    {
      "cell_type": "markdown",
      "metadata": {
        "id": "gzfOdvsM44vW"
      },
      "source": [
        "Matrix multiplication  \n",
        "PyTorch implements matrix multiplication functionality in the torch.matmul() method.\n",
        "The inner dimensions must match\n",
        "The resulting matrix has the shape of the outer dimensions\n",
        "torch.matmul() in [the PyTorch documentation.](https://)"
      ]
    },
    {
      "cell_type": "markdown",
      "metadata": {
        "id": "FvkzPAi85z-G"
      },
      "source": [
        "![image.png](data:image/png;base64,iVBORw0KGgoAAAANSUhEUgAAAyAAAADpCAYAAADcf1OJAAAAAXNSR0IArs4c6QAAAARnQU1BAACxjwv8YQUAAAAJcEhZcwAADsMAAA7DAcdvqGQAAG7oSURBVHhe7d13fMz3H8Dx113WJWRISOxxiSixWokG0Vo1u+y9a1O0Ss0OStHWKo1Re1Nao0p/1BYSewSR2COJ7HWRy93vD8nVXRKCuAbv5+Nxjwffz+e++e77vD/rq9Dr9XqEEEIIIYQQwgyUpguEEEIIIYQQ4kWRAEQIIYQQQghhNhKACCGEEEIIIcxGAhAhhBBCCCGE2UgAIoQQQgghhDAbCUCEEEIIIYQQZiMBiBBCCCGEEMJsFPIekLyj0+l48OABOp3ONOm1pVQqsba2RqmUWFe8uuTez1/kuSOEEPmbPJ3zkBRAssosmAnxKpN7P3+R544QQuRvEoDkISmAZE+Oi3jVyTWe/8g5EUKI/EsCEPHaCAkJoUaNGgwaNIjU1FTT5CcaMWIEXl5enDt3zjQpi3PnzuHl5cWIESNMk8xOr9czceJEPD09OXr0qGlyFrt370atVuPv72+a9J+IiIjAz8+Pjh07kpycbJoshBBCiJfMcwcg/v7+qNXqx352795t+jUhzE6hUGBpaYlKpcLS0tI0+ZWmVCqxsbHB2traNEmYwZWr1+n56Rd06DuEnp9+wZWr102ziFyYvXApHfoOoUPfIcxeuNQ0WQghxEviuQOQTH5+fnTo0CHbT7FixUyzC2F2Hh4eHD16lB9//BELCwvT5FeWQqFg7NixnD17ljfffNOwPLPyQCoIXrw0rZbIqCjeqVWTHh3a4FrYxTTLfy4xKYn7UdHExsdjzrlJ9Ho9sfHx3I+KJjEpyTTZSIO6tenRoQ3W1lbEJyaaJgshhHhJ5FkA0r17dyZPnpztp1KlSqbZX0spGg3RsbHSN1mI11TlihV4t/bbONgXNE2CjML4jVt3mLVgCb2GjuR+VLRpljwXFR3DmO+m81HXPrT9ZBAtu/ej++DPuRx61TRrnrtzL5xBX06gZfd+tP1kEB90+YSBo8YTcT/KNCsAld/w5N3ab+Pk6Gia9FgJCQlotVrTxUIIIf4jeRaA5FZISAi9evXCw8MDtVpN3bp12bp1K+np6Ub5Mvvb//HHH7Ru3Rq1Ws2vv/5qlMdUYmIiU6dOpXr16qjVaipXrszEiRNJNKkpy6mPe3JyMh07dsTPz4+IiAijvD/99BMTJ07Ew8ODLl26PFNf9I1bdzBw5ASiY2JNk15LmTXw//vf/4yW6/V6Ro4cmWW8hem14+Pjw4IFC9BoNIY8mWMvPv30UxYtWkSlSpWoV68e9+/fz3FchkajYdmyZdSqVQu1Wo2HhwcdOnQgJCTEKF+miIgIhgwZYtiOJk2a5GpsBRn7duzYMcM1rVarad++fY5/K9M333xDpUqVOHPmjNHyH374gQoVKnDixAmj5fPmzcPd3Z1Dhw6ByfiVzGt62rRpAPTp0yfblhCdTsfWrVsNx8XT05Np06YZHW9TL+KcZienc8ljxuqY/q0mTZpw5MiRLLX9pvlq1arF8uXLX2gBVqtNZ9feA3QdOJzuQz7n9x27SE55/DHIC6mpD5j283yu37rNL9O/Y8+m1Syd8wN6YPLMuUTHvrhnVWJSMhN/nIMmNZXlc39iz6bVzP9hMnHxCcxbsgKt1vg34VmdOHECb29vevXq9UzPbSGEEHnPrAHIzp07adGiBQEBAXTo0IERI0ZgZ2fH0KFDGT9+fJYf+JSUFD777DMuXbpEsWLFUKlURumPun37Nq1bt2b+/PlUqVKFMWPG4Ofnx5IlS/jwww+5ffu26Veeyty5c1m2bBmurq44OzubJue51NQHue4KkaLRPLHrQmY3h5QnFOzI6IqRm3yZUlMfEBUTS9pTFtAaNGiAg4MDu3btMtrP8PBwjhw5go+PDx4eHgAEBQXx8ccfExQURJ8+ffj+++9Rq9V8//33fPfdd1kC2O3btzNlyhQcHBxwdXVFoVAYpWfSaDSMHTuWb775hnLlyvH999/Tu3dvzp49S9u2bTl//rxR/pSUFPr06cPly5dp164djRo1IjQ0lM6dO3Pw4EGjvNnZuXMnnTp1Ijw8nOHDh9OjRw+Cg4Np27Ytp0+fNs1uUKdOHTQajVGhOjk5mePHj5OWlsaxY8cMy1NTUwkKCqJ48eK4u7sblmfy8vJi7ty5fPjhhwD069ePuXPn4uXlZZRv4cKFjB49Gm9vb9q2bYurqyv+/v4sXZpz3/sXeU6fx+nTp2nbtq3hbw0cOJCkpCS6du3Kzp07s83XrVs3RowYgYODA19//TXffPNNnm7To9K0aew5cJiqXhVZPHMaDerWNs3yQoTduMn5S5fp2rYlnu7lUCgUlClZgl6d2nL73r0XOlYl9Np1rt28Rde2LSlVvBgKhQJP93K8964fwZev5FnwY2trS8GCBbG3t3+tul4KIUR+ZrYAJCoqip9++glnZ2e2bt3KpEmTGDhwINu3b6dDhw6sXbuWHTt2mH7NUBg4dOgQnTt3Nk2GjML14sWLCQkJYdq0aSxfvpxPPvkEf39/5s2bx40bN5g2bdpzFR7KlCnD7t27OXz4MLNnz8bOzs40S7ZSNBo+HfsN9Vt2ZPHq9YRHRtL2k0HUb9mR+i07smLDZqP8md0hmnfsQcvu/Xi/c282bPnTqNtWcEgoHfoO4UBAIJ9NmMT7nXrxQZdP6DJgWJZuE2laLYtWraNFp1607N6P5h170m3QZ5w4Y1w7rNfrORAQSKue/fmgyyc55gPYH3CM9zv34ujxU3w9fSbNO/WkTa8BfP7Vd08VuJQuXZrq1atz8uRJoqL+7XJx6dIl7ty5Q4MGDVCpVKSmpjJv3jysrKzYuHEjo0aNol27dixbtox33nmH7du3c/Wq8X7b29uzYcMGAgICWL9+PS4u2fe5P378OL///jtdu3Zl1apVtGvXjtGjRzNv3jwSEhLYuHGj6Vdo374927dvZ/LkySxYsIAVK1ZgYWHBokWLHltzHxISwtixY6lRowY7duxgyJAhTJgwgeXLl5OWlsbixYtzvEY9PT0pUqQIx44dMxTsw8LCOHfuHAqFgoCAAMPfjomJISQkhCpVqlCkSBGTNUHRokVp1qwZb7zxBgDe3t40a9aMokWLGuUrVKgQ27dvZ86cOUydOpVVq1bh6urKjh07iIuLM8qb6UWe02cVFRXFyJEjcXJy4s8//2TUqFGMGDGCtWvXUrJkSRYsWEBCQgIAa9asISkpifnz5zNhwgQGDhzIxo0b8fHxydNtMmWrUvH9+FGMHNyPcmVK5Rgw57XCzoX4rP8n1KhWxWi5OQrq1bwqsmPtUurXqWW03MLCgvT0dNLS0oyWP6uKFSty/Phx5s6di42NjWmyEEKI/0CeBSDLli1jzJgxWT4XLlwA4OTJk4SEhNCxY0ejWllLS0t69OiBg4MDmzdvNpoe1dbWli5dujy25YOM2tVdu3ZRvXp1mjRpYvTjXa9ePfz8/Dhw4MBzFR7atWtHmTJlTBc/kcrGhm9HDWfDorl0aPkBRVycmf/DZDYsmsuGRXNp80EzQ96I+1EMHz+R8Mj7/Dx1IusW/kz7j99n8er17Np7wGi9iUlJ/DBvAY3eqcO6hT/zwzdj0QMz/H8lMenfbgYbtvzJpm1/MahXNzYsmsviWdNwdLBn6hx/bt8LN+Q7EHCMyTPnUtvnLVb7z2LxrGkUL+rGNz/M4vyly4Z8mZKSU5gw9Sfi4hP4YlBfxn82hNYtmqJ6ih94lUpFgwYNCAsL49KlS4ble/fuxd7eHl9fXwCsra358ccf2b17t9G1o1KpqFmzJnFxcYSH/7svAI0aNeKtt94yWpYdb29vjhw5wqhRo4yumwoVKuDm5sb169ezXJOdOnUymkWrZs2aNGzYkDNnznDr1i3DclO7d+8mJiaGLl26YG9vb1hepUoV3n33XQIDA4mMjDT6TiY3Nze8vLwIDg4mNqNm+MyZM9jZ2dGzZ0+jvx0aGsqdO3fw8/N7roKk6TVfpEgRypUrR1RUVI7TGL/Ic/qsMp89LVu2pGTJkoblJUuW5P333+fixYuGZ4NpKywZwezChQvZtWsXZcuWNU1+qRVxcaZB3doUcfm3VVev1xN8+QrFXF1xL/v0z7zncfP2XXbtPUBFz/K4FilsmiyEEOIVkWcByMGDB1m7dm2Wz927dwG4cuUKCoUCb29v069SokQJPD09CQsLM9REPo379+8THR1NtWrVjAp2PFKgiY2NfWzh8EVRKBQ4OThQ2MUZO1tblEoLnJ0cKeziTGEXZ2wfCa7++OtvkjUavv5iGBXLu+Na2IVOrT7i7RrV+XP33iytC326dqR5o/oUdnGmRtXKtPmgGbfu3uPOI4FF2PUbeKjL0qBuLQq7OFOudClGDemPb403ScoIVFI0GjZu+4tKFcozpHcPirm5Uq50Kb4Y3A9He3s2bPkz2/7Y79SqybSvRtO0wbs0qFubd2u//dQ1t7Vr18bR0dEwZiAuLo4TJ07w1ltvGQq/CoUCJycnbt68Sd++ffH09DSMn/jhhx/Q6/WPbXl4HBsbG+zs7FixYgV169Y1rLd27drcu3ePlJSUHFslMllYWFC5cuUnXmNXrlzBwsKC27dvs2PHDsNn165dREVFERcXx/37902/BhnbWbNmTcLCwggNDSU1NZX//e9/1KhRg1atWqHT6Qzdxc6ePYtKpaJq1aqmqzGL//qcmrpy5QpkdLd79Ljv2LGDW7duodFoDIHfxx9/jF6vp3fv3owbN45Dhw6RmpqKg4MDhQsXfi2mb/7nUAC//7mLj5s3xqWQk2lynouOjWXwl1/RpvdAenw6guJurnwxqC9Wr8GxFkKI11WeBSALFy4kLCwsy6dhw4aQUQhQqVQ4ZjN7iUKhwMLCAq1W+0wzRIWHh5OSkoKbm5tpEmS8AwF4YkHyv5Si0XDhUgiO9vZcvHKFPQcOs+fAYfYfOYpSoSQiMsoQMGQynUnHxbkQer2O9EeOYSVPD4IvhzBrwRLCrt8gTaulZPFiDO/fG0/3cgBEx8Ry5+49vKtXwcbm3/dEuBRy4s0qXly9cTPbMSZ1a9V87kJCqVKlqF69OocPHzZ0Hbpw4QKNGjUy6i6xc+dO2rRpw61bt5gyZQp79uwhICCAwYMHG63vaSUkJNC/f3+mT59Ow4YNWb16NQEBAWzfvj3H6yk7T7rGkpOTuX37Nunp6UybNo1BgwYZfQIDA02/kkVm8H758mXCw8M5f/48fn5+lC1blooVK7Jnzx40Gg1nzpzBw8ODUqVKma7CLP7rc2oqMwCZP39+luO+ZcsWo7x+fn7s2LEDX19f1q5dS9euXalYsSKDBw/m3r17RnlfRecvXWbWgsXUq+PLB00amSa/EAVs7ejU6kM6fvwBFct7cObCRXb+sz9X49+EEEK8nPIsAHkSDw8PNBpNtn3H9Xo96enpWFpaGgpyT8PNzQ1bW9scu2xkBjXP0x3FHNJ1OsKu32DyzHlM/GmO4fPPoSOmWXOtZfMmfDViKBdDQukz/Euatu/OkNFfcfX6TUOe+MQkNKmplChmPAYAoLCLM6mpadl2TckLNjY2fPTRR4aa/UOHDmFvb0/NmjUNeWJiYpgxYwblypVj1apVtG7dmrJly+Lq6prrsTg52bp1K4cPH2bChAl8/fXX+Pr64urqiouLy1NdL0+6xmxtbXFzc8PJyYldu3ZlCdTDwsI4f/48lStXNv2qgbu7O2q1moMHD3LhwgWSk5OpWrUqdnZ2+Pr6cuLECa5cucKFCxd46623sg32zeG/Pqem1Go1CoWCFStWZDnmphUlAOXLl2fx4sVcvHiRnTt30q1bN/766y+6du36Sgchd8Mj+H62P+oypRnUq9tzVy7klo2NNbVr1qD1B82YM+VrPm7emLWbt3Lj9h3TrEIIIV4RT1/af0YeHh7o9XqCgoJMk7h9+zaXL19GrVZn6UKVG4ULF8bZ2ZnTp09n6cKl0Wg4duwYTk5ORv2/86vaNWvw94aV/LN5jdFn7YLZFH6kn3ZuKRQK/N72YemcH/hzzVJ+/GYsD9LSGDb+Wy5dCQNAZWONlaUVt+9mLVzdj4rGwkKJ4hkCw9x68803DZMTBAQE4OvrS7lyD1tnAO7du8edO3fw8vLKMpj8WVrMHnXmzBlUKhXVq1c3Wq7T6XK97sxZpx53jSkUCkqWLElsbCzBwcGmybni5OREtWrVCAkJYe3atVSuXBm1Wg0Zs2RFR0ezc+dO7t69S506dUy/blb/5Tk1VaJEiRyfPY/SaDTs3buXgIAAQ4VI+fLl+frrr+nfvz+hoaFZZkV7VURFxzB55lwKOxdi4pefU7BA3gaB2clu9jyFQkFFTw9i4+K4fSfr80gIIcSr4cWVKk28+eablC9fnjVr1hAaGmpYrtVqWbp0KfHx8bRs2fKZZilxc3OjcePGnDp1ip07dxo13e/du5eDBw9St25dQwGoePHiFChQwGjmIDJmKXrWwmFuWFpakJScTHRs1lYgW5WK8uXKcuFSCDdMpgxO02p58AwzwmT2rV7/x3bIqGmsXrkSw/r1Jj09nRNnH85wVdS1CKVKFifo1FlSUx8Yvh8bH8/5SyGUV5fF8RkCw9wqUaIEvr6+rFy5kqNHj9KkSROjloQiRYrg4uLCqVOnjKZTPnHiBAsWLDD8/1mUL18ejUbDoUOHDNeNRqNh5syZ2dZ2p6SksHr1aqMWoRMnTnDo0CGqVq2aYwAC0LRpU2xtbfH39zdat16vZ+vWraxatSrHLlxkFM7q1KlDaGgo+/fvp0aNGobWgvLly+Ph4cGSJUtwcnLC09PT9Os5ehGtWy/6nBYtWpQiRYpw+vRpo3Ezt2/fzvJOlJo1a1KmTBlWrFiR5f4+cuQIc+fORaPRkJKSwpQpU/jyyy8NY9d4pIVWoVA8cUKMl1FiUjKTZvxMQmISIwf3M0vwAXD89Fm6DhrOmfPG5yQ5OQU7O7tnqnDJibyIUAgh8hezBSAuLi6MHTuWhIQEPvjgA8aNG8e8efNo0aIFa9eupUOHDjRr9u+MUE9DoVDQr18/qlWrxsiRI+nWrRuLFi2if//+DBw4kNKlSzNy5EhDAahcuXK8/fbb7N+/n27dujFmzBj69u1L69atiY+PN119nvF0V/PgwQO2/72HiPtRRNyPMuoK1eaDZhQsUIDvZswlOCSUhMQkLode5fMJkxgzaRrJKSlG63sSh4L2lCjmxqrffudAQCCa1FQio6LZfeAQej1UrvCwkGqrUtHm/aZcuBTC0nUbiY2PJyomltkLlhIZFUXbD5tjaZl916K8YGFhQaNGjdDr9RQtWjTL7FUuLi58+OGH3Lhxg48//pgRI0bQu3dv2rZt+9SD3k01atQIV1dXpk+fTqdOnRg1ahSNGjVi69atOXYHXLduHS1atGDMmDEMGjSI7t27Y2try/Dhwx9bQPXy8mL48OEEBwfTuHFjpk6dysqVK2nfvj1Dhw7l/PnzT+z37uXlhZOTEwqFglq1/p2+1NHRkbfeeovk5GS8vLxyNX6lSpUqKBQKJk6cyKhRowwz1uWFF31OXVxcaNiwoeEdLGPGjGHIkCG89957XLt2zShvsWLF+PLLL4mPj+ejjz5izJgxrF69mv79+9O5c2eOHDlCWloahQoVYvjw4dy6dYvmzZszduxYfv31Vzp16sT8+fOpU6cOb775ptG6/0ubtv9Fz0+/eK53daRptcxdvJzbd+/x+YBPsLK05H5UtOGT3buIMis2Zi/M+X0wufGGpzuuLi7MW7KSi1dCSU5J4dzFy6zYsJlKnh6UKVnC9CvPJCAggDfffJPBgwfnOHubEEII88q+hPWCvPPOO/z++++GAZ4//PAD8fHxTJs2jW+//fa5ZphxdXVlxYoV9OvXj7NnzzJ58mT27NlD165d+e233yhR4t8fM5VKxZQpU2jRogUnTpxg7dq1hIWFMWPGDJo0aWK03rxUtdIbfNTsPbb9vYf2fQbTvs9gFqxYgybjR7GYmyvfjR6BjbUVg0eN58OunzBg5DgcHRwYPXQgdra2pqt8LEtLC4b17UUDv9pM+mkOzTr0oN0ng9hz4DDD+/emcsUKhrx1fWvy+cA+bP97Dy2796NNrwFcDg3jqxFD8coIVF6k6tWrU7RoUXx8fChevLhRmkKh4NNPP2XMmDFotVo2bdrEhQsXmDlzJuPHj4eM1qtnUaZMGdasWYOPjw9Hjx7lt99+48033+S3337Dy8uLW7duGQWlRYoUYf369Xh6erJ+/Xp27NhBuXLlmD9/PtWqVTNatymFQkHv3r1Zu3Yt5cuXN7xr4u7du8yaNYuJEyc+8R4oXrw4FSpUwMPDg0qVKhmlNWrUCIVCQc2aNXPVkvj222/Tr18/7t27x4YNG3KcAvhZvchzqlAo+Pzzz+nVqxdXr15l7dq1BAUF8eWXX/LJJ5+YZqdJkyZs374dPz8/1q9fz7hx4zh+/DhffvklixYtMnT9bNq0KevWraNChQqsW7eO7777jitXrtCvXz/mzZuX5+NTnkdScgqRUVFP/QLQR8XFxXPy7AUio6L5dOw3tP1kkNFnwtQZhudTJl26jvvRMcQnJhotf1rOTk5MHvsFdrYqBo0cT4tOvRg69hvUZUozcnA/owkxnoeNjQ02NjYUKVLkifeXEEII81DoTau3xDNLTjaepSonqakPSEhMxL5gwRx/ZFM0GpKSkh+b52mkabXEJyRiY21FwQIFTJMN9Ho9cRnjaBzt7XNVG50b+angJkRee9K9HxwSyhdff8fIIf15x/ffwfjP45elq9i9/yCzvvsq2wkkXpTbd+8xdOw3NHzHjwE9sn857NN6muddikbDqIlTcS3swrjhj58xTZ47QgiRP5m1BUQ8ZGNjTWEX58f+0NqqVE/M8zSsLC1xKeT02OCDR95b4uTgkGfBhxDioc3bdzJz/mKjd/U8i9TUB1y5eo3KFSvgls3b7l+kG7fvkPogDb+aNUyTnllun3dbdv6Pn35ZxE2ZIUsIIV5qEoAIIcQL5mhfkEbv+FHUNW+CheSUFMqVKUW/bp1e6Pis7KSkaOjRoY1RF05zsrS0xLfGm1St9IZpkhBCiJeEdMHKQxqNJs+nEH0VKJXKxw7OFuJlJ/d+/iPPHSGEyL+kBSQPWVtb5zhz0utKqVRibf34bhVCvOzk3s9f5LkjhBD5m7SACCGEEEIIIcxGquyEEEIIIYQQZiMBiBBCCCGEEMJsJAARQgghhBBCmI0EIEIIIYQQQgizkQBECCGEEEIIYTYSgAghhBBCCCHMRgIQIYQQQgghhNlIACKEEEIIIYQwGwlAhBBCCCGEEGYjAYgQQgghhBDCbCQAEUIIIYQQQpiNBCBCCCGEEEIIs5EARAghhBBCCGE2EoAIIYQQQgghzEYCECGEEEIIIYTZKPR6vd504X/lwYMHREdHk5qaapokhBBCCCGEeEY2NjY4OztjbW1tmmR2+SoAuXfvHjY2Njg6OqJUSuOMEEIIIYQQz0un0xEXF0dqaipFixY1TTa7fFXKT01NxcnJSYIPIYQQQggh8ohSqcTJySnf9DLKdyV9hUJhukgIIYQQQgjxHPJTGTvfBSBCCCGEEEKIV5cEIEIIIYQQQgizkQBECCGEEEIIYTYSgAghhBBCCCHMRgIQIYQQQgghhNlIACKEEEIIIYQwGwlAhBBCCCGEEGYjAYgQQgghhBDCbCQAEUIIIYQQQpiNBCBCCCGEEEIIs5EARAghhBBCCGE2EoAIIYQQQgghzEYCECGEEEIIIYTZSAAihBBCCCGEMBsJQIQQQgghhBBmIwGIEEIIIYQQwmwkABFCCCGEEEKYjQQgL4H4+HhiYmLQ6/WmSUKIV0hqair3799Hq9WaJgkhhBCvjNcmALl37x6jR4/G09MTtVqNj48PCxYsQKPRmGbNV8LCwmjYsCHe3t4cPnzYNFmI14JWq2X58uXUqlULtVqNh4cHbdu25fjx46ZZH8vf3x+1Wk3Hjh1JTk42TX4mERER+Pn5oVar2b17t2lyrqWmpjJ06FBq1qzJd999Z5oshHgKkZGRRr/5lStXZvTo0URGRppmfWojRoxArVYzYsQI0yQhRC69FgHI2bNnadGiBevWrUOn01GoUCGioqL4/vvvGTBgAAkJCaZf+U+cO3cOLy8v/Pz8iIiIAMDR0ZGiRYvi5OSEs7Oz6VeEeOVptVomTJjA119/TXh4OM7OziiVSo4fP0779u3566+/TL+S7yUnJ9OxY0ejoMXa2ppSpUqhUCgoVaqU6VeEELl0+/Zt2rdvb/jNL1KkCMnJyaxbt4727dtz+/Zt068IIczslQ9ANBoNs2bNIiYmhlq1ahEUFMTx48fZuHEjDg4O7Nu3j1WrVpl+Ld9wcXFh69atHD9+nIoVK5omC/HK2717N+vWrcPBwYGNGzcSFBREcHAwn332GTqdjtmzZxMTE2P6tZeOQqFg7NixhIaG0qtXL9NkIUQupKenM2fOHK5du2b4zT969CgnTpzA29uba9eusXTpUtOvCSHM7JUPQC5cuMCBAwewsrLi888/x8nJCYC33nqL/v37A7Bjxw7i4uLYvXs3arWaVq1aMX78eDw8PPDw8GDcuHFGrSTJyclMmzaNSpUqoVarqVWrFtu2bTOM0chsnp02bRq9e/emSpUqnDt3jnv37jFkyBA8PDyyfG/37t18+OGHpKSkcOfOHXx9ffH398+xe8fRo0dp0qSJoTvKkCFDuHfvnmH7MmtXFy9eTKdOnVCr1VSqVIlVq1bJWBLx0khPT+ePP/5Ar9fz0Ucf8eabbwJgYWFB06ZNcXJyIiQkhNDQUABCQkJo3749arUatVpNkyZNOHr0qMlajUVGRjJq1CjDfVmvXj3++usv9Hp9tq2Smcu8vLw4d+6c6eogo+JjwYIFVK9eHbVajaenJ5MmTSI5OZmIiAgaN25s2K4+ffoYuoRl17Xjcfc6jzxvpkyZwrBhwwzPrWnTpslYEvHauX37Nv/88w8KhYK+ffsafvOdnJz4+OOPATh27BhxcXEAXL161eiZ0b59e0JCQgzr0+v1bNu2DW9vb9RqNd27d+fOnTuG9ExXr16lZ8+eRuu5evWqaTYhRIZXPgC5efMmaWlpFCtWjNKlSxuleXt7Y2Fhwc2bN436hZ46dYp169ZRuHBhdDodq1evZtq0aaSnp6PVahk9ejT+/v5otVpcXV0JDw/n008/5Y8//jBa//z58/nnn3/Q6XTExsbSvXt3tm/fjru7O/Xr1yc8PJxhw4axe/duihUrRuPGjVEoFFhZWfHhhx/yxhtvGK0v0//+9z86d+5MSEgIzs7OqFQqtm/fTqdOnbI0LU+aNInLly/j6OiIRqPh22+/5eTJk0Z5hMiv4uPjDcFFhQoVUCgUhjQPDw9OnDhBSEgI3t7ehISE0KFDBwIDA/H29jYs69evH+fPn39krf9KSEhg+PDhbNiwAZVKhaurKzdu3GDw4MHPPJ5Dr9czffp0vv/+e3Q6HS1atEClUrF48WKmTJmClZUVzZo1o1ChQgD4+flRv359LCwsTFf1VPf6woUL2bdvH05OTuh0Ovz9/dmxY4dRHiFedTdv3uT+/fs4OjpSokQJo7ROnToRFhbGH3/8gaOjI+fPn6dly5YEBgbi6OiIo6MjgYGBtG3bltOnTwNw6NAhhg0bRnR0NI6Ojpw5c4aAgACj9d64cYMuXbqwb98+o/V07NiR69evG+UVQjz0ygcgd+/eBaBYsWLY2dkZpalUKqytrUlNTTUajO7s7MyuXbsICAhg9uzZKBQKdu3axe3btzl69Cjbtm3D1dWVv//+2yjPunXrjAa2lipVik2bNrFv3z4KFSqEj48P/fr1Y+3atSxatIiuXbui0+n43//+R6VKlRg8eDAqlYoiRYowZswY6tWrZ1hXJo1Gw8qVK9HpdAwePJjAwECOHDmCj48P165dY+PGjUb5v/jiCwIDA9mzZw9eXl6kpaVx8eJFozxC5FdpaWkkJSUB4ObmZppsJDw8nCZNmjBy5EiWL1/O8uXLeeedd4iPj89SYMi0d+9eDh8+jLu7O3v37uXIkSN88cUX6HQ6o1bNp5GUlESBAgXo0KEDK1euZM6cOcyZMweFQsGBAwdIT09n+PDheHp6AtC9e3f69u2LjY2N0Xqe9l5v06YNgYGBBAQE0LhxYwBOnDhhlEeIV51Go0Gv12NnZ4eDg4NpsoFer2f9+vXEx8fTvHlzAgMDCQwMpE2bNsTHx7N48WIePHjAhg0b0Ol0hvvryJEjNGrUyGhdS5Ys4e7du1nWExERIZUAQuTglQ9AnoVKpTIEK97e3ri5uXH//n1u3rzJ2bNn0ev1pKWlMXfuXMaMGcO2bdsgo+YlMTHRsB5vb2+qV69O4cKF8fLyYtKkSYwaNYpChQqhUCgoVqwYZAyyza1bt25x5swZVCoVjRo1QqFQYG9vT/369QEIDAw0CoI8PT1RKBTY2NhQsGBByKhVFuJV4+fnx+TJk+nfvz8qlQqVSkXhwoUhI5DJTmYBvVq1ahQuXBiFQsGAAQMICwtj5syZRi0uuVWwYEE+++wzJk+eTNWqVSFjLJdKpUKr1aLT6Uy/kq2nvdfVajWWlpZYWloa7vX8MsGGEPlNbGysoWLigw8+MNw7TZo0AeD06dPcunWLa9euAdCwYUMsLS1RqVRGgU1ycrKhUu/GjRtMmDCBCRMmGJZduXLFkFcI8a9XPgDJLOTfvXs3y7SbGo2GBw8eYGNjg0qlMkrLpFQqUSqV6PV6NBqN4WESExPDxo0bWbt2Lbt27XpiTaler+fYsWO0bdvW0Nd82rRpptmeSKPRkJqaikKhQKn89/SVL18eMvrMC/GqsLKyokCBApDRwvE46enpbN++3TBeQq1Ws2nTJtNsRl5UAT1z2u/KlSujVqsN47uehtzrQjw9lUqFQqEgOTn5sZVtj7auWlpaGpa7ublha2uLVqtFo9EQFRWVJc+jEhMTuXnzJmSMD1u7di1r167NcXyYEOKhVz4AcXd3x9bWltu3bxtqMjIFBQWRnp5OqVKlKFKkiFFaJp1Oh06nQ6FQoFKpUKvVADRt2pSQkBDCwsIMn4MHD+Lq6mq6CgBOnjxJ165dOXPmDGPGjGHPnj0MHjzYNNsTqVQqbGxs0Ov1RjWpmYPmsutHLsTLysHBAXd3dwAuXbpkFOgHBwdTpUoVypcvT1BQEH/++SdDhgwhLi6OadOmceDAAZo1a/bI2rKyt7c3XfTcEhISGDhwIOvWraNp06Zs3ryZpUuX5ljJkRO514V4eqVKlaJw4cLExcVlGSf166+/olar+eijj0hJSTFUbjzaCyE8PJyUlBRDa4eLi0uWPI8qUKAAxYsXB2DGjBlGZYKwsDB++OEH068IIV6HAMTDw4NatWqRnp7OjBkziI2NhYzCy8qVKwFo1qwZjo6Ohu9oNBpDa0lQUBDh4eG4ublRunRpvLy8UCgU7Nu3j1OnTkFGTeS+ffuMZqYxdezYMdLS0qhWrRrt27enTJkyOXYLSUtLy/EFiSVLlqRq1apoNBoOHTqEXq8nISGBf/75BwAfH58sY12EeFlZWFgYgog//vjDMIGCRqNh48aNJCUlUbZsWcqWLcu+ffsA8PX1pXXr1ri5uT2xleCtt96CjO4W9+/fR6/X88svv6BWqxk2bJihBTQyMtIwmDQhIYEHDx6YrOlf169f59KlS6hUKrp160a1atWwsrLK8X5/tNvmo+ReF+LplShRAl9fX/R6PQsWLDD85t+6dcvQIlq9enVKlSqFr68vZEz1rdVq0Wq17Ny5EzK6ZZYsWZKyZcsa5dFoNEYtK3Z2doYp8letWmX4e4mJifz11185Bi5CvO5e+QBEpVIxdOhQChUqxJEjR/D29qZGjRq0aNGCO3fuULt2bTp37mz0nejoaBo3boyvry+ffvoper2eZs2aUbJkSerUqUP79u1JSUmhbdu2+Pr64u3tTc+ePfnpp59yLPBUrlwZpVJJUFAQrVq14r333mP+/PmQUbOi1+sNs2dERkby0UcfMWnSJNPVoFKp6NKlC0qlkunTp+Pj40OtWrUIDAykbNmytGnTxvQrQrzUmjVrRocOHYiPj6dNmzZ4e3tTtWpVlixZglKp5PPPP6dw4cKGKXq3bNlC69atqVu3Lrt27YKMlszs1KtXj9q1axMaGkq9evXw8fFh+vTpKJVK3n//fUqVKkX58uVJS0ujc+fO+Pr60rlz5xzvczK6fZYsWRKNRkOvXr1o06YNXbt2JT093dCiamNjY2gt/eKLL2jXrp2hq0cmudeFeHoWFhaMHDmSsmXLGn7z3377bd555x2Cg4MpW7Ysffv2RalU0q5dO8P7hXx8fPDx8TG8I6xXr15YW1vTtm1blEqlIY+3tzf/+9//DH9PkTHdb9myZQkKCqJmzZrUqVOHt956i4EDBz7zbHpCvOpe+QAEoEqVKmzfvp327dujVCqJiYnBxcWFL7/8kkWLFmXphuHs7Ezz5s25f/8+SqWSnj178vnnn6NQKLC0tGTChAl8+eWXODg4EBERQVJSEj179mTChAk5douoU6cOU6ZMwdnZmZCQEBwdHRk4cCBkzB8eHx9PyZIlGTRoECqViri4uBxrTBs1asSqVasoX7480dHRaDQaWrRowerVq7NMOyjEyy7znvvqq69wc3MjOjoanU5HzZo12bx5M02bNgWgffv2DBs2DJVKxalTp6hRowatWrWCjL7Z2QUN9vb2zJgxg/bt2/PgwQOio6MpX748K1asoGHDhtjb2zNp0iTKly9vqCEdO3YsRYsWNV2VgYuLC7NmzaJq1apER0dz7do1hg0bhrOzM5GRkdy6dQsLCwv69euHu7s7Wq3W8E4CU3KvC/H0SpQowerVqw2/+ZGRkdjZ2dG1a1d+++03w73j5eXF5s2b8fHxIS4ujri4OHx8fNiwYQPVqlWDjN/umTNn4uzsTFxcHDVq1KB79+7Z/r0WLVqg0+m4e/eu4TlgOmOWEOIhhf5Jo6fN6Pr165QpU8Z0sdns3r2bPn36ULx4cTZt2pTjeA4hhBBCCCFeNv91WTvTa9ECIoQQQgghhMgfJAARQgghhBBCmI10wRJCCCGEEOI1kF/K2tICIoQQQgghhDAbCUCEEEIIIYQQZiMBiBBCCCGEEMJsJAARQgghhBBCmI0EIEIIIYQQQgizkQBECCGEEEIIYTYSgAghhBBCCCHMRgIQIYQQQgghhNlIACKEEEIIIYQwGwlAhBBCCCGEEGYjAYgQQgghhBDCbCQAEUIIIYQQQpiNBCBCCCGEEEIIs5EARAghhBBCCGE2EoAIIYQQQgghzEYCECGEEEIIIYTZSAAihBBCCCGEMBsJQIQQQgghhBBmIwGIEEIIIYQQwmwUer1eb7rwv3L9+nXTRUIIIYQQQojnUKZMGcgoa2f++7+U7wKQ/HBQhBBCCCGEeNXkl7K2dMESQgghhBBCmI0EIEIIIYQQQgizkQBECCGEEEIIYTYSgAghhBBCCCHMRgIQIYQQQgghhNlIACKEEEIIIYQwGwlAhBBCCCGEEGYjAYgQQgghhBDCbCQAEUIIIYQQQpiNBCBCCCGEEEIIs5EARAghhBBCCGE2EoAIIYQQQgghzEYCECGEEEIIIYTZSAAihBBCCCGEMBsJQIQQQgghhBBmIwGIEEIIIYQQwmwkABFCCCGEEEKYjQQgQgghhBBCCLNR6PV6venC/8r169cpU6aM6WIhxGtKp9Px4MEDdDqdaZJ4TSiVSqytrVEqn7++TK6nZ5eX5+FFknP8entZrtP/Un4pa8sZEllotVru379PamqqadIrJT4+npiYGJ4nBjfnscqL7X3ZSEFCZBYo84JcT88uL8/DiyTn+PX2slyn4jUIQM6dO4eXlxdqtTrbj7+/vyGPl5cX586dM13Fa2fq1KnUrFmTAQMGmKVgndf8/f1Rq9V07NiR5ORk02QAwsLCaNiwId7e3hw+fNg0OUcjRoxArVYzYsQIMOOxetbtfdnlVJDQatM5fuYcew4c5vCx46Smyg/Oy+rcxctPPI85XQdPK6f1ZG7DvsNHiU9INE1+LURGRbPnwGH2HDhMZFS0aTI85vjlJy/DNooXS66Bl8MrH4A8ytnZmWLFihl97O3tTbO9FDILwv7+/qZJz83d3R2FQkGpUqWwtLQ0TX7pJCcn07FjR9RqNbt37wbA0dGRokWL4uTkhLOzs+lXcu1FHKsXub2vijRtGsvW/caazVs4fSGYNG2aaRbxkgi7foO/9x1k3tKVJCT+N4X/33fsYtGqdZw8e57EpCTT5NdCTGwcR4JOMOfXZQSHXDFNFkKIPPXaBCC2trYsXbqUQ4cOGX06d+5smvW116FDB0JDQ/nmm2+wsLAwTX4luLi4sHXrVo4fP07FihVNk3PNXMcqr7b3VfNOrbcZ0KMLBQsUME0iLj6BlRt/56upM0jRaEyTAdgfcIxPx36TbXqaVsv+gGMMHz+RS1fCTJOfS1R0DOO//4mGrTtTv2VHug36jMuhV02zATBpxs+s2LDZaJler+d/+w/Rqmd/6rfsSJN23fhlyUrStFqjfM8jt9uYotHw6dhv2B9wzHh5ioZZC5bQpF036rfsSKue/Tl87LhRHoAPmzSiW/vWWFtbmSaZVaUK5RnWrxfFi7qZJr3Qa+FREfej6DboMybN+Nk06blE3I9iyOivaNiqEw1bd+bbH2aTmGTcOuzpXo7PBnxCqRLFjZa/KtK0WqJjY/P0HsmPgkNC6TVsJPdzaMV6ksSkpNc2CBfm9doEIE9Lq9WyfPlyvL29UavVVK9enUWLFqHNeHjt3r0btVpN+/bt8ff3p3r16ob/X7t2jWnTpuHp6YlarWbYsGEkJCQY1n316lV69uxp6AbWvn17rl59+MP+aO334sWL6dSpE2q1mkqVKrFq1SqSkpLo2LEjmzZtAmDatGn4+fkRERFhWP+jkpOT6dKli1Ft+qFDh3B3d+fLL78EICYmhiZNmlC+fHmCgoKy7cJ09OhRmjRpYtjm1q1bc/78ecPfedLxMvWsxy+7lh/TblGPioyMpHHjxhw9ehSAPn360LFjR65fv46fn5/huDx63GfOnMl7772HWq2mXr16HDhwwHS1Btkdq8jISEaNGoWHh4dhHX/99Zdh7IZGo2HBggWGffb09GTSpEkkJycTERGRq+3N9Oh58fDwYMiQIdy7d8+QnnlspkyZwrBhw/Dw8MDDw4Np06bleG5edolJSYyb8iMd+33Kmk1biImPN0rX6/VGTfT2BQtgZWlc+F27eSutevRj+s8LuHL1Oro8HHej1aYz59dl2KpUbFv5K3+tXUbtmjX4fvYvxMU/vM51Op3RWJ8iLsatXueCL7Fo5Vq+GjGUPZtWM2fKwwBgx+69RvmelVabzoIVa9CkprJlxSJ2/7aK+n61mOH/q6Hg+ug2WltZ4WjSmrxx2w5OXwhmyezp7Nm0mv7dOzN3yQpu3ws3ypffvchr4VFabTrL1v3GzTt3TZOei1abzrwlKyhe1I0/1yxltf8s7oZHsOq331+r8WRXrl5n4MjxXLl63TTplaDVphv+7VCwIDY2NkbpuTVzwRJmLlhiuliIPCcBSDb0ej1z587l66+/JjY2Fjc3NxITE5k8eTKzZ882emgHBgby008/oVKpDP9v2LAhixYtMnSV2bJlC4sXLwbgxo0bdOnShX379uHo6IijoyOBgYGGQuajJk2axOXLl3F0dESj0fDtt99y9uxZ6tevT8mSJQGoXLkyH374oeHvm7Kzs6N69eoAXLp0CYCzZ8+i1+sJDg4mLi6Oe/fucefOHUqUKEHZsmVN1gDnz5+nX79+hIaG0rRpU959911OnjxJt27dCAkJearjZeppj9/TUqlUNGvWjEKFCgHg5+dH/fr1H9taMXv2bGJiYrCzs+PGjRsMGTLEKNh6nISEBIYPH86GDRtQqVS4urpy48YNBg8ezO7du9Hr9UyfPp3vv/8enU5HixYtUKlULF68mClTpmBlZZXr7f3f//5H586dCQkJwdnZGZVKxfbt2+nUqRO3b982yrtw4UL27duHk5MTOp0Of39/duzYYZTnVdK0wTv8tvgXOrT8wDSJxKRkhoz5mkkzfiY6OpYCtrYcOhZEr2EjOXbyNAClSxRn0YzvmfbVaArY2Zqu4rlEx8YSdv0GLd6rj62tChsba96t7UtySgp3wh9WJJwNvkTnAcNYufF3VDbWaLValqzZwMBR44mNi+f4mXO4lyuDVwVPFAoFnu7l8HrDkzMXLpr+uWeS+uABzoWc6NOlAwXsbFEqlfh6v0VsfDx3MgKIXXsP0HXgcP7ed5ACdnbExMbx47yFjJ08nYTEJCwtLfikU3uKF3VDoVDwVhUvdDod12/cMv1zzyQ9PZ2oqCgiIiKyfHIa+/UsXuS18KjjZ84SEnaN6pUrmSY9l/DISMKu3+Cjpu9hY2ONW5HCdGz1AUcCTxgC3ldZauoDDh87TtCpM6RoNASdOpPtmKOUFA279x/il6WrOH7mnFElxdUbNzl38TJx8Qls2fk/Vm78nZu3jQNFnU5HcEgoC1esYfOfOwmPjMySfu7iZX5Zuoq/9uwjKTnFKD1zXFtkVDQ3b99l4Yo1rN28NVdjkrTadCb+OJsRX33H9Zu3KFDAjnMXLzFw5Dh+37HLNHu2rt64yZ4DhwmPiCQ8ItIwHujqjZuGPHq9nhu37hj28dFWltTUBxw9cYrYuHjOXbzMwhVrOBAQmGVcV1x8An/t2ccvS1cRdOpMlhapzGO8cMUaLodezVJ+iIyK5viZcySnpLDnwGFmL1zKybO5+30W+ctrE4CkpKTQo0cP6tSpY/hMmjTJNBsAoaGhLFu2DCsrK9asWcORI0fYuHEjtra2bN68mfDwf2vwnJ2d2bVrFwEBAXz99dcAlCpVij179hAQEMDAgQMho2CdnJzMkiVLuHv3Ls2bNycwMJDAwEDatGlDRERElgLhF198QWBgIHv27MHLy4u0tDTCwsLo27cvNWvWBKB58+aMHDkSBwcHo+8+KjMAuXz5MhqNhmPHHnaVuHLlCjdv3iQ8PJykpCQqVapkKPg+KiAggPj4eJo3b86cOXOYO3cuzZo1Q6VScfHixac6Xqae9vg9LXt7e4YPH46npycA3bt3p2/fvlhbW5tmNejXrx+BgYEcOXIEHx8f4uPjs5ybnOzdu5fDhw/j7u7O3r17OXLkCF988QU6nY5t27aRmJhIgQIF6NChAytXrmTOnDnMmTMHhULBgQMHSE9Pz9X2ajQaVq5ciU6nY/DgwUbbe+3aNTZu3GiUv02bNgQGBhIQEEDjxo0BOHHihFGeV0XBAgXwe9sHW9vsg/ICdraMGNiHsqVKsn7LdnYfOMxfe/bRudVHVPIsD0DtmjVwK1LE9Kt5wrWwC8t//olqXv92pUtOTsba2goH+4IAvOHhzrB+vQiPvM+eg0dYsGINcfEJDOjRhQIF7OjRoQ3fjR6BpeXDwDRNqyUpKRm3IoUN63weBexs6detE57u5QzLbt+9h61KhYtzRnD8tg99u3fixJlzHA4Mwn/Zauzs7PgkI2jp2PJDatesYfj+vcj7KJVK3FzzZhujoqL46KOP8PX1zfJZvny5afZn9iKvhUzRsbH8umo9vTu3MxzfvBKfmMSDB2koHpmWtEjhwmjT04mJizPK+ypK06Zx+kIwFy6FkJam5cKlEAJPnTEaO3Y3PIJ+I8aw+c9dxMTGMf3nBUyfu8BQOD54NIgps+YxauL3nAu+TEDQSYaM+crQHU+rTWfG/MV8+8MsIqNiOBJ0gp6fjmTPwSMZ26Bl+twFTPrpZ2Ji49i2aw9dBw0n+PK/Y20yx7VN/HE2n479mt0HDrM/4FiuZnSysFDSr3sn6rztzW/bdhAQeIJVG/+gacN61PV9WFZ4krv3Igg8dYaomFiiYmIJPHWGwFNnuHvvYaWIXq9n1W9/MGTMV4Tfj+JI0An6fD6a85cuA5CQmMi8xSsY8fVkVm7YTPj9KKbPnc/sRUsNrTOXQ6/Se9hI9hw8TExsHD/MW8TIb6YYWlXPX7pMj09HcPBoIOH3o/jim8n8MG+hUZASHHKF6T8vYMAX45i3dCWHA48TEnbNkC5eHq9NAAIQHR3N3bt3DZ/Y2FjTLJAxR3Jm2qpVqxgzZgxLly5Fq9USHR3N/fv3DXlVKhV2dnYAlChRAoBixYoZau8LFnxYoEhPTyc5OZmLFx/WUN64cYMJEyYwYcIEw7IrV4wH/nl6PqzdtLGxMawn3qQ7yaMmTZpkFGB9+umnJCcnU7ZsWZycnLh69SpXrlzh/PnzlC5dmgcPHnDmzBnD369atWq2Ne0eHh4oFAr++usvJk2aREhICD/99BOHDh3igw8+eKrjZeppjp+5ODo6olAosLe359133wXgwoULuZrlKrNQX61aNQoXLoxCoWDAgAGEhYUxc+ZM7O3t+eyzz5g8eTJVq1aFjPEdKpUKrVab69k7bt26xZkzZ1CpVDRq1MiwvfXr14dsAja1Wo2lpSWWlpaGY/pot8DXiVKppFzpUvhUr0oBO1s8ypXB6w1PGtStTcECD69Fc0pMSmblxt+pU9Ob4m6uANjYWFPzzWoUc3PFvUxpCjk58l49P6pUrIBVNpMdHAgI5MbtOzSt//B6zSuJSUn8snQlX06cysIVaxjYswsuhZwAKFjAjtreNShgZ0fVShWxL2jHx83eo1zpUoY5+FNTH7AqYxzOV1Nn0Ln1R6jLlDb5K8/G1dWVgwcPEhYWluXTv39/0+z5ll6vZ8OWPymvLkuNqlVMk59bYedCWFhYcOvOHcOy23fvkZiUhCaHWcdeJQULFGBAjy50a98aB/uCdGvfmlFD+hvGjmm16cxfvpoa1aowZ8rXjBk2kOlfPSxYX3wkQLBVqfh+/CjGDBvIj9+Mxb1sGY4EPXzex8bFcfr8Bb4Y1JcxwwYybcJoOrb6kICgkzxIS2PvoSOcDb7ET9+OZcywgcyYNJ4aVSuz7o9tRl2nACwsLFgxdwZrF8xh3tSJFDbpfpkdhUJB8aJu1KnpjZWlJVW9KlKqRDGaNaxnuF+fpHbNGowa0p9KFcpTqUJ5Rg3pz6gh/Q2VCOeCL7Fj915mTBzPuOGDmTr+S5o2eJcNW/407EPqgzQ+bt6Y78ePYtzwwYweOpBT5y4QnVE+OHriFOXV5fhuzBcPj8PEcaSlaQm9dp3EpGR+XrScls2bMHX8l4wbPpjvxnzB0ROnjM4DQExsLN07tGHjr/NYu2AO7T5qYZQuXg6vTQBia2vLli1bjH6kfvjhB9NsAISEhACQlpbGli1bWLt2LVu2bCEt7flm2klKSuLmzYfNmefOnWPt2rWsXbs2z6b+jY2NNQqwIjOagIsVK4aHhwc3b97k2LFjREVFMWDAANRqNUePHiU4OBiFQkGVKtn/+Pn5+TF+/HgAli1bRsuWLalSpQoLFixAq9W+sOOVH2QWpFJSUnIVBOWmUH/v3j1Gjx5N5cqVUavVfPjhh6SkGDfHP4lGoyE1NRWFQmH0wqXy5R/W4OdmW19n8QmJ+C9bRbOG9Rg1pD9/7z3AhcsPr2NzStNqmbv4YW1959Yfo1AoDGlnLlxk5559DO/fm4+avsfCFWuzDBwmo9Zw3uLl9O7cnlIlipkmPxcrSyuqVapIRU8PlEolAcdPGmoj9Xo9ew8HEBJ2jTHDBlH5jQosX7/JqLbSwsKCNzw9qFrpDewLFuBw4IksXU9ed6fPBxN06gxd2nxsaNHKS4WdC9GsYT1+/nU5azZv4ddV65i9cAkqG1WuC6evsti4OC6GhGFlZck/B4+w58BhQ63+lWv/dou2s7PFJqMl2sbGmkJOjty6+3C8nX3BghRzdWX5+k3sDzhGbHw8Xdu2ZMywgVhbWRF06iye6nIUy6hgsLK05L16dbly9TqxJq1QLVs0eaaKkNTUB/y6ah0VPNwZ99kQQq/d4EBAoGm2Z3bqfDAWFkouh15lz4HD/HPwCOnp6Vy9cdNo0HpmKy6Ak6Pjw66SMQ8DEE/3clwMCWX5ut8Iu36Dwi7O/Pz9N1Tzqside+HExMXjXa2K4TlYvlxZypUuxanzwYZ1AlQo704t7zeNlomXz2sTgDyNcuUedjuoUqUKJ0+eNApazp8/T+XKlU2/kit2dnYUL/5whpEZM2ZkqbXLKSDKrR9++MFofWvWrMHOzo4CBQrg5eVFXFwca9aswcXFBV9fX6pVq8bhw4c5efIkbm5uuLu7m64SMgoRPXr04MKFC/zxxx9069YNnU7H999/z969e1/Y8coPMlskbG1ts20dMvWkaZ0TEhIYOHAg69ato2nTpmzevJmlS5fmOIYnJyqVChsbmywDqjODwdxs6+vMxtqa999rQON671CudCk6tPwAO9WL69+fHZ1Ox5pNW7h99x7jhg/OUuhwK1KYXp3aoS5TmoZ161DXt6ZRgAJw8/Zdfpy3iB4d21K/jq9RWl6wsbGmds0adG/fmkmjP+dI0EnDIF6FQkGZkiUMrSLtPmpBJc/y6NL/vR4tLS2oUbUyrT9oxo/fjuPmnTucOHP2kb/w7CIiIgwTM5h+XsT05C9CYlIyv65aR7nSpQm+fMWoD77pGIVnpVAo6NTqQ4b27cWNW3dQKBQM7t0d50KO2D7lc+dVZWlpwc3bdw3djk6fD8argiduhXPXXdDGxppvR31Gs4b1WPPbFjr1G0q/EWO4cethq1O6TofSQml0/9oXLJinM79ZWVlS521vOrb6EJdCTvTu1A6HggWyjKF4HlptOqfPBxuOU0JiEr413sx14Pz2W9WZ+d0EomJi+XLiVD7q2odVG38nTaslXacD9EZdBW1srHF0ePxvqnh5SQCSjXLlyuHg4MC5c+fYv38/er0evV7PiRMnDAW8Z2FnZ2eYQnXVqlWGbkuJiYn89ddfzzQrUWIu582vXr06er2e0NBQvLy8KFq0KHXq1CEqKopbt27xxhtvZDv+g0e6dm3evJkqVaowfvx4mjdvDhnd1V7U8cpO5rs2zp07h1arRavV5voYkMvjFRcXh16vJyEhgX379kFGl6rczCry1ltvAXD69Gnu37+PXq/nl19+QZ0xm9e1a9e4dOkSKpWKbt26Ua1aNaysrHJsLcppe0uWLEnVqlXRaDQcOnTIsL3//PMPAD4+PoaubSIrGxtrGr5Th4IF7FAoFDRrWI9yZUqZZnth9Ho9qzdt4X/7DjJ66MBs+/27FSnMu7XfBsDRwZ7W7zc1GgR9NzyCsZOn06BubVo0qp8lOHkeiUlJzF++2mgAqqO9PTqdjpiM2kyA8uqyhkHTxdxc+aBJQ2xsrA1drx4dHGpnq8LRwSHPZsFycXHhjz/+ICAgIMunW7duptnzpfiEBNzLlsHCQmko1GX2wc/L99solUoa+NVi1JD+dGvXmuOnz+JetkyWoPd1lFngbVD34fF59PPoGKbHSU19QFJKMu+968cv0yexeel8KnmWZ8b8X0nRaHApVIgUjcaou9X1m7dIT0/Ps/dHKZVK3vGtiWthFwDerlEd7+pV8+y5YGlpgaO9PYN6dTM6RjlNg25Kr9cTGx+Pa2EXRg7ux/pFc/lp4jg2bd9J4InTOBQsgKWFhdGYl4TEJG7cuiPX6SvqtQlAshuEXqdOHVatWmWalfLlyzNgwAD0ej1Dhw7Fx8cHHx8f2rRpw7hx40h6xjmyFQoFffv2pWzZsgQFBVGzZk3q1KnDW2+9xcCBA42mV32SUqUeFpb8/f1p0qSJYYarnHh6elIg4yFRs2ZNbGxs8PLywsnpYRN8pUqVcixg+/r6Eh4eztixYxk0aBB9+/Zl27ZtODg44Ovr+8KOV3bq1KkDwJ9//omvry/Vq1dn167Hz/JhY2ODq+vDpu8vvviCdu3aERMTY5rNYP78+fj4+FCrVi0CAwMpVKiQIeB6knr16lG7dm1CQ0OpV68ePj4+TJ8+HaVSyfvvv0/x4sUpWbIkGo2GXr160aZNG7p27Up6ejo6nQ6dTper7VWpVHTp0gWlUsn06dONtrds2bK0adPGKL/Ie5mz6+T01ujH+edQAHsOHOa7MV8YumU8jcSkZKbO8afRu350avVhjoWM+IREDh0LytVMOo+ysrQi7NoN1m7eSmrqg4cVCmfPo1QqKVP64Qx8j2NtbcX96BiWrfvN8LcvXQnjzr1wKld4OMHC87KwsMDFxQVXV9csH3MH3896nIsXdWNYv15GBbrMPvimBbtzFy9z7uLDrkHPIjEpiRu37/DjLwsJvnzlsdfNq8i1sAuWlpaEXruOXq8nPT2d9PR0nJ0cqevrw/L1mw0zW8UnJDJr4RKuXv83AH+cW3fv0vfzMew5eAS9Xo+VlSXWVlZYWlqiVDwM/i6FhLL3cAB6vZ6o6Bj+2PE3fm/74OSY8wQy/wX3sqW5cesOMbEPu4ZltsL51fQhOjaWTdv/QpcxBfeBgECWr9+U67GLv65az+hJ0wz3icrGBmtrKyytLHErUoRqlSuxZM0G4hMS0ev1/HPoCEnJydR86+FEOuLV8toEIGQzCP3u3bvZ9tlXKBR88sknzJo1Czc3N6Kjo4mNjaVFixbMmjXLUJB/FiVKlGD16tW0aNECnU7H3bt3cXFxYdasWTRq1Mg0e47at2+Pj48POp2OqKgo0+QsihcvjlqtxsLCAm9vb8OyChUqABiWZadhw4asWLGCcuXKsWPHDv755x/efPNNfv31V7y8vF7o8TLVrFkzBg4ciKWlJdHR0dSrV4/u3bubZjNiYWFBv379cHd3R6vVEveEmV+aNGlCoUKFSE5Oxt3dnXnz5hnGVjyJvb09M2bMoH379jx48IDo6GjKly/PihUraNiwoeFcV61alejoaK5du8awYcNwdnYmMjKSW7du5Xp7GzVqxKpVqyhfvjzR0dFoNBpatGjB6tWrDQP6xYuTkJjI7EVP/9boFI2G33fs4uqNm3Qb/Bn1W3Y0fHL7AroTZ89x+nwwS9ZsMLwosH7LjrzfuRfBIaGGfLfvhTNn0bKnbnWwsbFmaN+e3Lxzlw+7fkKzjj1YtHItw/v1okQ2L+ozpVAo6NmxLfYFC9K6V3+ad+rJ2Mk/0LtTOypXfPjMeZU863F+Gr/v2JXrKVWzM3PBEvqPGIter2f612OeKfB9mbkUcqL1+02Zt3gFDVp14uPu/bh0JQyFQkGP9m2o5f0mnwwfRYtOvWjXZxAOBQtSMpdjqtRlSjO0T0/mLVlBs449aNahB8dOnmZgzy7Y2FhTwUPNZ/0/YfbCJTTr2IMO/Ybg6V6OLq0/Nl3Vf+69d/ywsrI0vOT0x18WotPpKFWiGF+NGMr/9h2kWYceNOvYg8Wr11PX18doHGJOFAoFfbp0wMnRgda9+tOiUy/6fT6GxvXq8mYVLywtLRjQowuODg/Tm7Trxvrft/H5gE9y9cwRLx+FXp+HHQSf0/Xr1ylTpozpYiFeuOTkZHr37s3Ro0cZOXLkSzWLzqssp6mXUzQaRk2cik/1qnRt29I02Swi7kcxfPxEhvbtSc03q5km5wsXLoXw3cy5TBr9OeVKP1sXsxSNhvT09Fx1s8hOauoDUlI1ONrb51jjHhwSyvS585k2/sscZ/3Ji1aNnK6nzMBv3PDBpkm5khfH+XH0ej0Tf5yDfcECDO/f2zQ5z2TeV20+aMY7OUzfmhfn4UXK6Rxnyuwu5eTgkKXgnDmdtYN9wSxpuaHX64lLSMDG2jrb8TWZ6bY2D9//k189aT8Sk5KwsLDINi03HncOMtOf9Mx4kvx+nf6X8ktZO+uZF0KIl8Ti1evp0PdToxdimcvp8xdwK1KYKvm4Rv9Q4HGqV65EqYzJL56FrUr1zMEHGa0pTg4OORYkJs34mYEjx5GcrDFNMqvd+w9laUHKrbw4zo9zJzyC67du07zRw2m2X4T9Acdo3rEnZ/PoZZb5lY2NNc5OTtkWfK0sLXFyzL5QnBsKhQInB4ccC+aZ6fk5+CAX+1GwQIEc03LjceeAXDwzxKtBWkCEkBaQfEuj0WTbvzizhk6bpkVpocyxJu1FStNq0ev1WFvl3Uw2ee1BWhoKhSLbd4fkF4lJSWg0qY89j0ql8qlnistOTtdT5jYolEoc7As+9fF60cdZr9ejSU19rkLfk6SmPiAhY9IL+4IFsy0k59V5eJFyOsfi9fEyXKf/pfxS1pYARAiRb+l0Oh48eCAFiteYUqnE2to628Dkacn19Ozy8jy8SHKOX28vy3X6X8ovZW0JQIQQQgghhHgN5JeytoSIQgghhBBCCLORAEQIIYQQQghhNhKACCGEEEIIIcxGAhAhhBBCCCGE2UgAIoQQQgghhDAbCUCEEEIIIYQQZiMBiBBCCCGEEMJsJAARQgghhBBCmI0EIEIIIYQQQgizkQBECCGEEEIIYTYSgAghhBBCCCHMRgIQIYQQQgghhNlIACKEEEIIIYQwGwlAhBBCCCGEEGYjAYgQQgghhBDCbCQAEUIIIYQQQpiNBCBCCCGEEEIIs1Ho9Xq96cL/yvXr100XCSGEEEIIIZ5DmTJlIKOsnfnv/1K+C0Dyw0ERQgghhBDiVZNfytrSBUsIIYQQQghhNhKACCGEEEIIIcxGAhAhhBBCCCGE2UgAIoQQQgghhDAbCUCEEEIIIYQQZiMBiBBCCCGEEMJsJAARQgghhBBCmI0EIEIIIYQQQgizkQBECCGEEEIIYTYSgAghhBBCCCHMRgIQIYQQQgghhNlIACKEEEIIIYQwGwlAhBBCCCGEEGYjAYgQQgghhBDCbCQAEUIIIYQQQpiNBCBCCCGEEEIIs5EARAghhBBCCGE2EoAIIYQQQgghzEah1+v1pgv/K9evX6dMmTKmi4UQrymdTseDBw/Q6XSmSULkilKpxNraGqXy+evb8uv1mJf7+LLLr+dIiNx60fdzfilrv5i9E1lotVru379PamqqadJLI6/2IT4+npiYGF507JtX2yv+O1KQEM8rs0CaF/Lr9ZiX+/iyy6/nSIjcel3u51c+ADl37hxeXl6o1Wrefvttbty4YZqFP/74A7VajVqtpmPHjiQnJ5tmeW5Tp06lZs2aDBgwIN8ViDOPkZeXF+fOnTNNNniWfTBdd1hYGA0bNsTb25vDhw+bZs9Tz7K9In/JqSCh1aZz/Mw59hw4zOFjx0lNffUf1iJ78QmJ7Dt8lD0HDnP1xk3TZHjMdfS0clpPZFQ0ew4cfuw2PI9Hr/fjZ86h1aabZslx2143chxeHQ/S0l54ReV/IU2rfeJ1+qT0V8ErH4A8KjIykpMnTxotS09PZ+fOnUbLcmv37t25Dlrc3d1RKBSUKlUKS0tL0+R8Z8SIEajVavz9/Q3L8mIfHB0dKVq0KE5OTjg7O5smP7MXtb0if0rTprFs3W+s2byF0xeCSdOmmWYRr4nEpCROnj3PolXrOHg0yDTZLIJDrvDDLws5eDSIu/ciTJOfW3p6OhcvX2Hrrt0sW/ebXO/ipXTu4mVDoL7v8FHiExJNsxgEX77CyG+mEBefYJr00tt/+CiTZ80jJUVjmvRaea0CEICdO3eSnv5v7dHt27c5fvy4UZ4XoUOHDoSGhvLNN99gYWFhmvxSyIt9cHFxYevWrRw/fpyKFSuaJuepvNhekb+9U+ttBvToQsECBUyTiItPYOXG3/lq6gxSNNk/6PcHHOPTsd9km56m1bI/4BjDx0/k0pUw0+QXKiVFw6wFS2jSrhv1W3akVc/+HD6W/XMqu33Q6/X8b/8hWvXsT/2WHWnSrhu/LFlJmlZr9N0X6Wn2YdKMn1mxYbPRstzuQ/Gibgzr14tKFcobLTc3h4L2DOzZhdo1a5gmodPpOH0+mBFffcehYzkHSRH3o+g26DMmzfjZaLmNjTWd23xMyxZNjJaL3EvTaomOjc1y/QhjiUlJJCYlmS7OE2HXbxB46gx/7zvIjPm/cvteuGkWyLgP5ixayiddOuDk6GCUptfriY2Pz/aZ/bJ4t7YvNtbWLN+w6ZVs4cmt1yYAsbKywtnZmePHj3P79m3D8pMnTxIZGUnp0qWN8gOEhITQvn17Q/esJk2acPToUQD8/f3p06cPAEePHqVy5crs3r3b0CrSvn17Zs2ahYeHB/7+/vj7+xtaS5KSkpg4cSJqtZpPPvkEjUZDTEwMH3/8cZZa/EyZXZn8/PxYt24dtWrVQq1W895773Hu3DmWL19O9erVDX/73r17kEMrTeYyPz8/IiKMa+s0Gg0dO3Zk06ZNAEybNs2Q79F9SE5ONqynVatWjB8/Hg8PDzw8PBg3bhwJCdnXWkRERODn54darWb37t0AJCcnM23aNCpVqoRarcbb25vly5ejzfihSE9PZ+vWrYZ99vDwYMiQIURGRpKcnJzr7c38W5MmTcLT0xO1Wk2tWrXYunWrISjN3Kd27doxb968bI+pyN8Sk5IYN+VHOvb7lDWbthATH2+UrtfrjZq37QsWwMrSyijP2s1badWjH9N/XsCVq9fRPeOPhE6nIzYu/qkLPSt/+52rN26yZsFsdv+2im5tWzF70VKu33r47HrSPpwLvsSilWv5asRQ9mxazZwp37A/4Bg7du815MmtZ92Hjdt2cPpCMEtmT2fPptX0796ZuUtWGAodOp3O6Me3iItxi+jFK2H4L1vF0D492bNpNYtmTuVQ4HH2HjpilC+/23f4KG16D2TclB85ee4C6Tl0rdBq01m27jdu3rlrmiTywJWr1xk4cjxXrl43TRKPmLlgCTMXLDFdnCc+bNKIUUP60619a1Q2NqbJBn/89Tfu5crilU2lgiY1lQlTZ7Bx6w7TpJeGpaUFHT7+gKMnThF2PeuwgNfFaxOAFClShIYNGxp1w8rsfmVlZUWTJsY1SyEhIXTo0IHAwEC8vb3x9vYmJCSEfv36cf78ed544w38/PwAKFSoEG3atKFYsWKG7wcFBTFr1qxs+/EpFAq6deuGq6sr//zzD0ePHuXPP//kzJkzlC9fnrZt25p+xeDOnTuMHTsWMmZKCA0N5aOPPmLixInY2tqiVCoJDAxkypQpRi09uaVUKqlfvz4lS5YEoHLlynz44YeoVCrTrAanTp1i3bp1FC5cGJ1Ox+rVq5k2bVqu/r5Wq2XSpEn4+/uj1WopWrQosbGxfP311yxduhSAtWvXMnToUKKiomjSpAlFixZl+/btfP7556SmpuZ6e5OTk+nfvz+LFy8GwNXVlfDwcIYOHcqiRYuMCkNBQUHMnDkTOzu75z6mwvyaNniH3xb/QoeWH5gmkZiUzJAxXzNpxs9ER8dSwNaWQ8eC6DVsJMdOngagdIniLJrxPdO+Gk0BO1vTVeRadEwsn3016akKPckpKZw+F0zTBu/i7OSEUqnE721vQGEIQJ60D8fPnMO9XBm8KniiUCjwdC+H1xuenLlw0fTPPdGz7MODtDQsLS34pFN7ihd1Q6FQ8FYVL3Q6Hddv3ALgbPAlOg8YxsqNv6OysUar1bJkzQYGjhpPbFw88QkJtGzWGN8abz7sSlm8GG+Udyfo1FnTP/dM9Ho9MTExREREZPnEmwStz8PJ0YEfvx7L4lnTKOLiYppscPzMWULCrlG9ciXTJPEcUlMfcPjYcYJOnSFFoyHo1Jlsx46lpGjYvf8QvyxdxfEz54x+u6/euMm5i5eJi09gy87/sXLj79y8bRwo6nQ6gkNCWbhiDZv/3El4ZGSW9HMXL/PL0lX8tWcfSckpRumZ43wio6K5efsuC1esYe3mrY/tppQpMiqaoFNn2B9wjGXrfuNueAS79h5g/R/bjP5OSoqG/QHHmLt4BfsDjhl1Abp64yZ7DhwmPCKS8IhIozFNmdt2OfQqy9b9xsGjgdy4fYeFK9Zw7uJl9Hq94ThHRkUb1hmfkMjRE6eeaoxeVEwsx06cotE7dVAoFEZp5y5eZt/ho8TGxXH1+sPt3XPgsNHffNxxjoyK5viZcyQmJbF7/yEWr17P5dCrWVohwiMj2fznThauWENwSGiWclx4ZCSrN23J9jogYzuv3rjJ/ahoVm/awsIVa4y2EaBk8aJ4VfBkz8GXq0IlL702AQhAvXr1sLKyMnTDyux+5eXlxRtvvGGUNzw8nCZNmjBy5EiWL1/O8uXLeeedd4iPjycgIIB69erRvXt3ADw9Pfn666+pVOnfHw6FQsGkSZMICAigW7duj6z5oTJlytCxY0f0ej1Tp05l/vz5AAwYMACXx/xIWVhYsGLFCo4cOcKvv/6KQqFApVKxYcMGjhw5wo8//gjA6dOniYmJMf36E1lbW9O3b19q1qwJQPPmzRk5ciQODsbNoI9ydnZm165dBAQEMHv2bBQKBbt27TJqacrJmTNn+O2333BwcGDbtm0cPnyYmTNnGtYRGxuLRqOhQ4cOzJs3j19++YXFixfj4ODAyZMnuXfvXq63NzAwkEOHDuHq6srff/9ttL3Lli3j1q2HBSOA0qVLs2fPHg4fPsz3338PwMWLF/O0YCJejIIFCuD3tg+2tlmDUIACdraMGNiHsqVKsn7LdnYfOMxfe/bRudVHVPJ8WONWu2YN3IoUMf2qWdjZ2vLz99/QtMG7hmUpqalYWigplHFdP2kfenRow3ejR2Bp+bDrYZpWS1JSMm5FChvW+SJZW1nRseWHRt2R7kXeR6lU4ub6cBve8HBnWL9ehEfeZ8/BIyxYsYa4+AQG9OhCgQJ2vP1WdTq3+RgbG2vICLrCIyLxKFfWsM7nkZKSwsCBA/H19c3y+fbbb02zP7NqXhUpV6YUxkUpY9Gxsfy6aj29O7fDxbmQabJ4DmnaNE5fCObCpRDS0rRcuBRC4KkzRmPH7oZH0G/EGDb/uYuY2Dim/7yA6XMXGFr9Dh4NYsqseYya+D3ngi8TEHSSIWO+MnTN1GrTmTF/Md/+MIvIqBiOBJ2g56cjDYXLNK2W6XMXMOmnn4mJjWPbrj10HTSc4MtXjLZz2brfmPjjbD4d+zW7Dxxmf8CxXM2GFBxyhQlTZ7DrnwPsPnCIvp+PZv+RY2z7ew8Llq+GjH0c9OUEftu6g4IF7Fi7aQv9Rowh4n7Uw/R7EQSeOkNUTCxRMbEEnjpD4Kkz3L0XYdi2yTPncjnsKpNnzuPraTO5dus23/4wi2s3b5GQmMjsRcsIDvl3n27fC2f+8tUkJD45iMoUeu06Op2eMiVLmCYRdv0Gx0+fJSExiZt37hi2MSY2DnI4zgO+GMvd8Ic9PYJDrjBl1jyGjv2WI8dPcvFKKMPGfcuBgGOGv7E/4Bj9R4zj+OlzhN+PYtS3U4yuhT0Hj9Dns9FcuBTCxZBQ+n8xltWbthgFMb/v2MW0OfPpN2IsW/76m4PHggzbmEmhUOBVoTynzwWTnGIcjL4uXpsAJCYmhkKFCvHWW28ZumFldr9q3Lgx4eHGfRH9/PyYPHky/fv3R6VSoVKpKFz44Q9nWtqTBwAWLVqURo0a4erqip2dnWkyAO3ataNMmTJcvHiRW7du8fbbb9O4cWPTbEasra2xt7eHjPEUKpWKQoUKUbx4cQAKFiwIGS0LplH7i6JSqQz76O3tjZubG/fv3+fmzSfPBnPx4kXS0tKoWLGioRXj/fffJzQ0lPXr1+Pk5ETv3r2ZPHkyjRo1AsDJyYmCBQui0+meqkVi79696PV6fH19DV3uatasSbFixbh37x6hoaGGvMWKFTMMki9U6GGBICkpKVfnXuRvSqWScqVL4VO9KgXsbPEoVwavNzxpULc2BQtkf68+jUdnLDp4LIikpOQca11zI02rZfVvf1CuTGne8PSAZ9iHAwEPayyb1v83qHmcvNqH1NQHrMoYh/PV1Bl0bv0R6jIP7z0bG2tqvlmNYm6uuJcpTSEnR96r50eVihWwemTSiMPHjjN55jwGjBxHUdcivP9eg0f+wrOzs7NjzZo1hIWFZfn88MMPptlfGL1ez4Ytf1JeXZYaVauYJovnVLBAAQb06EK39q1xsC9It/atGTWkv2HsmFabzvzlq6lRrQpzpnzNmGEDmf7VaM5fuszFRwIEW5WK78ePYsywgfz4zVjcy5bhSNAJAGLj4jh9/gJfDOrLmGEDmTZhNB1bfUhA0EkepKWx99ARzgZf4qdvxzJm2EBmTBpPjaqVWffHtiwzmllYWLBi7gzWLpjDvKkTKWzSNTEnHuqyjB0+iJ4d21KuTGnGDh/Ee+/W5erNW6RoNIRH3qdeHV+mTRhN9/atmTphNCqVihNnHs58WbtmDUYN6U+lCuWpVKE8o4b0Z9SQ/kaVCL06t2PssEGoy5SmR8c2DO/bC6XSIk+7DYZeu46DfUFDxcOjPmzSiM8GfEKpEsV5p9bbhm30dC8HwN5DR7h0JYx50741HOcypUqy7e89hnXodDq+HjmMccMHM3X8lzR8pw57Dx01BBD7jxyj4bt1mDT6c8YNH8yUcSO5efsu98IjuX0vnF9XrePTPj2ZNPpzJo3+nOH9e7P97z3cyQhyMiUmJ/Pz99+wdsEcls350bCNjypdonjGmJvHT2L0qnptAhAyCufvvvsukZGRHDt2jJ07d2Jra2voSvWo9PR0tm/fTpMmTVBnjAHJHGeQVzKDlEyNGzfOMVh5WSiVSpRKJXq9Hk0uBonlpkUhMTGRqVOn4uPjg1qtxtfXlzt37phme6LMcSmWlpaGpt2CBQtSqlQpyDjn4vUQn5CI/7JVNGtYj1FD+vP33gNcuBximu2ZGGoyf5rDrAVLiLgfxeLV65n40xxmL1r2VLWBer2edb9v4/zFywzs2cWoYJ7bfTh/6TLzFi+nd+f2lCrxbzfRx8mrfbCwsOANTw+qVnoD+4IFOBx4wqhLxJkLF9m5Zx/D+/fmo6bvsXDF2iw/xsWKuvJWVS/KlCzB+UsheVrYyQ9Onw8m6NQZurT52NBiJcwnNi6OiyFhWFlZ8s/BI+w5cJjzly4DcOXav90O7exssbF+WCi2sbGmkJMjt+4+HBdoX7AgxVxdWb5+E/sDjhEbH0/Xti0ZM2wg1lZWBJ06i6e6HMXcXAGwsrTkvXp1uXL1OrFxxjXjLVs0ybYSIbdymnCleuVKtP/ofc5dejgT1aFjQWhSNVm6Bj2JQqFAafHiio5abTouzoWwzaYb9ZMcPXGaAna2nDp7gT0HDnPgyDGsLC25HHrVUGlibWWNbcb4E4VCgWthF+7HxKDJmKq/kqcH+w8f5betO7h15y4Vy3vw8/ffUKpEMa7fuEV6uo6qlf7tMeNdrQqWlhaEPnKtADSuV9dwvnOiUCrRpKYSFRNrmvRaeHFXUT7l5+eHra0t/v7+HD58mKpVq6JWq02z8eeffzJkyBDi4uKYNm0aBw4coFmzZqbZnsuVK1eMgpq1a9cSFfWwOfRlpdPp0Ol0hq5hT5JdV6lHpaenM3bsWObPn0/FihVZsWIF27dvx83NzTTrE2W2HGm1WkNtR2JioqGlJqcHt3j12Fhb8/57DWhc7x3KlS5Fh5YfYKd69rEej7JVqZj93Vf8s3kNGxbNpVyZUsybNol/Nq9h7YLZua7R1Ov17D5wmL/3HuCbUcOz/JjlZh9u3r7Lj/MW0aNjW+rX8TVKe5y82gdLSwtqVK1M6w+a8eO347h55w4nzvw7hsOtSGF6dWqHukxpGtatQ13fmln6fZcrXYqmDd5l4pefUaNaFTZs2Z6lz/azyJzAIrOC6dHPiBEjTLO/EIlJyfy6ah3lSpcm+PIVoz74T9PSJJ6PpaUFN2/fNXTpOX0+GK8Knrhl9Hp4Ehsba74d9RnNGtZjzW9b6NRvKP1GjOHGrYcVZek6HUoLpdG1bV+wINbWxpNfvEhXrl6n59Av2Lx9Jw9e4ZZ8TWqq4TwGnjqDjY011b1yP+Nmy+ZNmDBiKGeCLzF49Fd83L0v/9t/CL1ej1b3sJJS+ch5tLGxxvEJ5RiRvdcuAFGr1VStWpWwsDDi4+N59913s2112LdvHwC+vr60bt0aNze3HGvIk5OTn7prjl6vZ+3atcTExFC3bl2qV69OSEgIGzZsMM36XDIL1VevXiUyY1Dc04wNScxFTadGozHMMhUUFER4eDhubm7Zzixm6o033sDKyorg4GDDGIxt27bh7u5Ou3btuHnzpmGa5M6dO1OnTh1sbW1zPN6P29569eqhUCg4deqUYXzKsWPHuHv3LkWLFsXd3d30K+IVZWNjTcN36lCwgB0KhYJmDetRrszDlrD84p9DAfgvXcnIIf0oVzrrtj1pH+6GRzB28nQa1K1Ni0b1sxTsX6TMrlcnz543LLOzVeHo4GA09aZbkcK8W/ttABwd7Gn9flPDoP/Dx46zfst2QxcVQ21ldIyhtvJ52NraMm/ePAICArJ8JkyYYJr9hYhPSMC9bBksLJSGAlNmH3x5v415KJQPi0EN6tYydOnJrvvR46SmPiApJZn33vXjl+mT2Lx0PpU8yzNj/q+kaDS4FCpEikZj1N3q+s1bpKenm+0dVX/vO0i5MqX4+othNG3wLu/WfhsnR0fTbM/MxsYGB/uHXcCfh6WlBVHRMc80za6FUkmJYkX5fEAfo/P46Fiyx9HpdMTExVG+XFm+GTmMzUvn8/mAPixcsYaQsGs42ttjaaEk9ZFxOdExsURERj12Vq+c6HU6bFUqirym475euwDEzs7O0JLh4OBAgwbZ9yd+8803AdiyZQutW7embt267Nq1Cx55Q2WhQoWwsrLi7NmzNGzYkFWrVhmt43HOnz/P2rVrsbKyYvDgwfTr1w+FQsHSpUu5fj33s808ibu7O0WLFiUiIoIWLVrg7e3NyJEjTbNlkdktyd/fnyZNmnDp0iXTLAbR0dE0btwYX19fPv30U/R6Pc2aNTOM6XicqlWr0rp1a+Lj43n//feN1tG4cWOKFi1qmCBg+PDhdOzYkcaNGxMdHY3+kalIc7O9Pj4+1KlThxs3btCgQQOjv9W9e/dcba8Q5nD+0mWWrNnAhBFD8argaZr8RIlJyUyd40+jd/3o1OpDswYfANbWVtyPjmHZut8Ms/hcuhLGnXvhVM7l/lhYWrD+922GbmXxCYkcPX6KShXKP1P3DFMKhYJChQrh6uqa5fOkltm8kvkOk0cLS5l98HN6v414Nq6FXbC0tCT02nX0ej3p6emkp6fj7ORIXV8flq/fbJjRKD4hkVkLl3D1+pPHMQLcunuXvp+PYc/BI+j1eqysLLG2ssLS0hKlQkkDv1pcCgll7+EA9Ho9UdEx/LHjb/ze9snynosnOXg0kAFfjHuqWekAChawI/J+NAmJieh0Ov7ed5BLIf+Oe8zkXrY0N27dMQyazm0rnK1KRfGirhw4cow0rZbU1Af8/udOkpOfLpBwL1uG+ITEHP+urUpFMdciXLwSSmrqA/R6vaFFp1nDepw8e95wnHU6HZu2/8Wf//vHdDXZSkvT8t2Mufzkv4jU1AcoFAoK2D2cXdTKyhJP93IUKezC8vWbSE19QJpWy7a/91DI0cEwgcnTCL9/H3v7ghR4ji53L7PXLgAho1XDwcGB6tWr51hL3759e4YNG4ZKpeLUqVPUqFGDVq1aQcY7OdLT06latSq9e/dGqVQSHR2d60HfWq0Wf39/UlJSaNmyJW+99RbvvvsudevWJSIiguXLl+dJFwMyCuaTJ0/Gzc2N5ORkChUqxKhRo7C1fXx3k/bt2+Pj44NOp3titzBnZ2eaN2/O/fsPZ7np2bMnn3/+ea4KPZaWlowbN47+/ftjZ2dHREQEbm5uzJo1i549e6JSqZg0aRINGjRAo9Fw+vRp+vbtS/ny5dFoNFy9ehVyub12dnb4+/vTq1cvyHgnSebf+uSTT3K1vUI8jcIuziyeOY2K5Z+udW3zn7u4decuQ8d+Q/2WHQ0f0xcO5uTE2XOcPh/MkjUbaNi6s+H773fuRXA2hY7HeZZ9UCgU9OzYFvuCBWndqz/NO/Vk7OQf6N2pHZUrVjDNni2f6lVp9/H7fDlxKi069aJ1r/6UKOZGl9Yfm2YV4olcCjnR+v2mzFu8ggatOvFx935cuhKGQqGgR/s21PJ+k0+Gj6JFp1606zMIh4IFKZnLMVPqMqUZ2qcn85asoFnHHjTr0INjJ08zsGcXbGysqeCh5rP+nzB74RKadexBh35D8HQv90zXcnBIKGHXbxCXw7u2ctK8YT0K2NnSqmd/3mvThcPHjqMuU5r7JmNA3nvHDysrS8MLQH/8ZWGuyjaWlhZ0avURwZev0LhtV1r26IeDvT12dv9WFkya8TP1W3Zk4MhxhEfeZ+DIcdRv2dHoJaTuZcugVP475Xh22n7Ygus3btG0Q3cate7M2s1bIWPGuRED+xrOQ/NOPTl4NIi336puuops2dhY8/mAT7hzL5z3u/SieaeefDVtJt3ataJsqZLYqlSMHjqQm3fuPkzv2IMTZ84xeujApx63o9frOXHmPFUqVsiTCpWXkUKfVyXdPHD9+nXKlCljuljkU7t376ZPnz4UL16cTZs24er6+AFXQjytzK59plI0GkZNnIpP9ap0bdvSNFnkI6mpD0hJ1eBob/9MQb5OpyM+IZECBeyMBuGbmjTjZ8qULJHj9ZBdV9unldP1uD/gGPMWr+TnKV/nenzMs9gfcIyNW3cwdfyobAstebGPL7uczlGmzO5STg4OKDO6X2XKnK7awb5glrTc0Ov1xCUkYGNtne35yUy3tVHlqktQdvR6PZrU1GzXnxuZFRiP+/6T9uNx9Ho9CYlJ2NqqHnu/Ps7ClWuJT0jks/69c3xm6HQ6YuPjKWBrl+VY5sVxTtFoSH3wIMfnVopGQ3p6+jO3Ut6+F86E739izLCBuJfNvtz7ou7n/FLWfvo7TAgh8onFq9fToe+nWWrxRP5hY2ONk4NDtj/iuaFUKnFydMixMBMcEsr7nXuxe/8h0ySzCo+MpO0ng4xqc/NKikbDp2O/4aupM0yTxFOysbE2vODTlJWlJU6OWQOT3FIoFDg5OORYaM9Mf9ZCMRnryGn9uWGrUj3x+0/aj8dRKBQ42BfM8X7NjY+avsfV6zezndUvk1KpxNnJKdtjmRfH2Valeuxzy1aleubgQ6/Xs3HLn7xb+23DtOSvI2kBEc9MWkDEi6bRaLJt/s+s4dKmaVFaKLOtzRSvhzStlviERPQ6HQUK2GVbaFIqlbmale9JcroeU1MfGKYmzmkbnsej17ullWW2tbJ5tY8vu5zOkXi5BF++wq+r1zPh80/zZHB7frJ7/yGCTp9lWN9eOQZJL/J+zi9lbQlAhBD5lk6n48GDB1KgEM9MqVRibW2dJwFqfr0e83IfX3b59RyJp6fLmNLfNNh+2aVptVhkvDMtOy/6fs4vZW0JQIQQQgghhHgN5Jey9osJr4QQQgghhBAiGxKACCGEEEIIIcxGAhAhhBBCCCGE2UgAIoQQQgghhDAbCUCEEEIIIYQQZiMBiBBCCCGEEMJsJAARQgghhBBCmI0EIEIIIYQQQgizkQBECCGEEEIIYTYSgAghhBBCCCHMRgIQIYQQQgghhNlIACKEEEIIIYQwGwlAhBBCCCGEEGYjAYgQQgghhBDCbCQAEUIIIYQQQpiNBCBCCCGEEEIIs8l3AYherzddJIQQQgghhHgO+amMna8CEBsbGxITE00XCyGEEEIIIZ5DYmIiNjY2pov/Ewp9PgqHHjx4QHR0NKmpqaZJQgghhBBCiGdkY2ODs7Mz1tbWpklml68CECGEEEIIIcSrLV91wRJCCCGEEEK82iQAEUIIIYQQQpiNBCBCCCGEEEIIs5EARAghhBBCCGE2EoAIIYQQQgghzEYCECGEEEIIIYTZSAAihBBCCCGEMBsJQIQQQgghhBBmIwGIEEIIIYQQwmwkABFCCCGEEEKYjQQgQgghhBBCCLORAEQIIYQQQghhNhKACCGEEEIIIcxGAhAhhBBCCCGE2fwfNJZ4IxCnUjQAAAAASUVORK5CYII=)"
      ]
    },
    {
      "cell_type": "code",
      "execution_count": 30,
      "metadata": {
        "colab": {
          "base_uri": "https://localhost:8080/"
        },
        "id": "XETrbe0E5aKv",
        "outputId": "f859b52b-2434-405b-caa5-856100414e04"
      },
      "outputs": [
        {
          "data": {
            "text/plain": [
              "tensor([1, 4, 9])"
            ]
          },
          "execution_count": 30,
          "metadata": {},
          "output_type": "execute_result"
        }
      ],
      "source": [
        "# Element-wise matrix multiplication\n",
        "tensor * tensor"
      ]
    },
    {
      "cell_type": "code",
      "execution_count": 31,
      "metadata": {
        "colab": {
          "base_uri": "https://localhost:8080/"
        },
        "id": "9HDUyO7p588m",
        "outputId": "f2189f80-702d-496b-c031-1e0065695031"
      },
      "outputs": [
        {
          "data": {
            "text/plain": [
              "tensor(14)"
            ]
          },
          "execution_count": 31,
          "metadata": {},
          "output_type": "execute_result"
        }
      ],
      "source": [
        "# Matrix multiplication\n",
        "torch.matmul(tensor, tensor)"
      ]
    },
    {
      "cell_type": "code",
      "execution_count": 32,
      "metadata": {
        "colab": {
          "base_uri": "https://localhost:8080/"
        },
        "id": "owQmtJNV6yOu",
        "outputId": "3e069b97-62e4-439e-df90-2b4daa6e16a6"
      },
      "outputs": [
        {
          "data": {
            "text/plain": [
              "tensor(14)"
            ]
          },
          "execution_count": 32,
          "metadata": {},
          "output_type": "execute_result"
        }
      ],
      "source": [
        "tensor @ tensor\n"
      ]
    },
    {
      "cell_type": "markdown",
      "metadata": {
        "id": "_x5QuKRZ-Qdo"
      },
      "source": [
        "Because much of deep learning is multiplying and performing operations on matrices and matrices have a strict rule about what shapes and sizes can be combined, one of the most common errors you'll run into in deep learning is shape mismatches."
      ]
    },
    {
      "cell_type": "code",
      "execution_count": 33,
      "metadata": {
        "colab": {
          "base_uri": "https://localhost:8080/",
          "height": 176
        },
        "id": "9Veb6QkP-RQf",
        "outputId": "71581a12-f8b4-405a-a46f-dc64d06f367f"
      },
      "outputs": [
        {
          "ename": "RuntimeError",
          "evalue": "mat1 and mat2 shapes cannot be multiplied (3x2 and 3x2)",
          "output_type": "error",
          "traceback": [
            "\u001b[0;31m---------------------------------------------------------------------------\u001b[0m",
            "\u001b[0;31mRuntimeError\u001b[0m                              Traceback (most recent call last)",
            "\u001b[0;32m/tmp/ipython-input-33-1027713099.py\u001b[0m in \u001b[0;36m<cell line: 0>\u001b[0;34m()\u001b[0m\n\u001b[1;32m      9\u001b[0m                          [9, 12]], dtype=torch.float32) #(3,2)\n\u001b[1;32m     10\u001b[0m \u001b[0;34m\u001b[0m\u001b[0m\n\u001b[0;32m---> 11\u001b[0;31m \u001b[0mtorch\u001b[0m\u001b[0;34m.\u001b[0m\u001b[0mmatmul\u001b[0m\u001b[0;34m(\u001b[0m\u001b[0mtensor_A\u001b[0m\u001b[0;34m,\u001b[0m \u001b[0mtensor_B\u001b[0m\u001b[0;34m)\u001b[0m \u001b[0;31m# (this will error)\u001b[0m\u001b[0;34m\u001b[0m\u001b[0;34m\u001b[0m\u001b[0m\n\u001b[0m",
            "\u001b[0;31mRuntimeError\u001b[0m: mat1 and mat2 shapes cannot be multiplied (3x2 and 3x2)"
          ]
        }
      ],
      "source": [
        "#error\n",
        "# Shapes need to be in the right way\n",
        "tensor_A = torch.tensor([[1, 2],\n",
        "                         [3, 4],\n",
        "                         [5, 6]], dtype=torch.float32) #(3,2)\n",
        "\n",
        "tensor_B = torch.tensor([[7, 10],\n",
        "                         [8, 11],\n",
        "                         [9, 12]], dtype=torch.float32) #(3,2)\n",
        "\n",
        "torch.matmul(tensor_A, tensor_B) # (this will error)"
      ]
    },
    {
      "cell_type": "markdown",
      "metadata": {
        "id": "XdOfSm0N-uqv"
      },
      "source": [
        "to fix this we use the transpose ( switch dim of tensor ) using torch.transpose(input,dim0,dim1)"
      ]
    },
    {
      "cell_type": "code",
      "execution_count": 34,
      "metadata": {
        "colab": {
          "base_uri": "https://localhost:8080/"
        },
        "id": "OE1EcYsh-s4H",
        "outputId": "e31b1195-42f1-4b54-bc62-7ff1cff03b8d"
      },
      "outputs": [
        {
          "name": "stdout",
          "output_type": "stream",
          "text": [
            "tensor([[1., 2.],\n",
            "        [3., 4.],\n",
            "        [5., 6.]])\n",
            "tensor([[ 7., 10.],\n",
            "        [ 8., 11.],\n",
            "        [ 9., 12.]])\n"
          ]
        }
      ],
      "source": [
        "# View tensor_A and tensor_B\n",
        "print(tensor_A)\n",
        "print(tensor_B)"
      ]
    },
    {
      "cell_type": "code",
      "execution_count": 35,
      "metadata": {
        "colab": {
          "base_uri": "https://localhost:8080/"
        },
        "id": "iAR9rflV_N5K",
        "outputId": "9eb33b93-409d-47a9-974b-0ccfe276119d"
      },
      "outputs": [
        {
          "name": "stdout",
          "output_type": "stream",
          "text": [
            "tensor([[1., 2.],\n",
            "        [3., 4.],\n",
            "        [5., 6.]])\n",
            "tensor([[ 7.,  8.,  9.],\n",
            "        [10., 11., 12.]])\n"
          ]
        }
      ],
      "source": [
        "# View tensor_A and tensor_B\n",
        "print(tensor_A)\n",
        "print(tensor_B.T)"
      ]
    },
    {
      "cell_type": "code",
      "execution_count": 36,
      "metadata": {
        "colab": {
          "base_uri": "https://localhost:8080/"
        },
        "id": "FMpeNYP6_QJI",
        "outputId": "29f40d7a-3581-4309-cc22-81065da533d3"
      },
      "outputs": [
        {
          "name": "stdout",
          "output_type": "stream",
          "text": [
            "Original shapes: tensor_A = torch.Size([3, 2]), tensor_B = torch.Size([3, 2])\n",
            "\n",
            "New shapes: tensor_A = torch.Size([3, 2]) (same as above), tensor_B.T = torch.Size([2, 3])\n",
            "\n",
            "Multiplying: torch.Size([3, 2]) * torch.Size([2, 3]) <- inner dimensions match\n",
            "\n",
            "Output:\n",
            "\n",
            "tensor([[ 27.,  30.,  33.],\n",
            "        [ 61.,  68.,  75.],\n",
            "        [ 95., 106., 117.]])\n",
            "\n",
            "Output shape: torch.Size([3, 3])\n"
          ]
        }
      ],
      "source": [
        "# The operation works when tensor_B is transposed\n",
        "print(f\"Original shapes: tensor_A = {tensor_A.shape}, tensor_B = {tensor_B.shape}\\n\")\n",
        "print(f\"New shapes: tensor_A = {tensor_A.shape} (same as above), tensor_B.T = {tensor_B.T.shape}\\n\")\n",
        "print(f\"Multiplying: {tensor_A.shape} * {tensor_B.T.shape} <- inner dimensions match\\n\")\n",
        "print(\"Output:\\n\")\n",
        "output = torch.matmul(tensor_A, tensor_B.T)\n",
        "print(output)\n",
        "print(f\"\\nOutput shape: {output.shape}\")"
      ]
    },
    {
      "cell_type": "markdown",
      "metadata": {
        "id": "BjInNPtHA3_S"
      },
      "source": [
        "Finding the min the max , sum ....( tensor aggregation)"
      ]
    },
    {
      "cell_type": "code",
      "execution_count": 37,
      "metadata": {
        "colab": {
          "base_uri": "https://localhost:8080/"
        },
        "id": "CO9LRAgpA9ds",
        "outputId": "c27e79f0-a475-4637-ec88-bfb791e30cab"
      },
      "outputs": [
        {
          "data": {
            "text/plain": [
              "(tensor([ 0, 10, 20, 30, 40, 50, 60, 70, 80, 90]), torch.int64)"
            ]
          },
          "execution_count": 37,
          "metadata": {},
          "output_type": "execute_result"
        }
      ],
      "source": [
        "x=torch.arange(0,100,10)\n",
        "x , x.dtype #long"
      ]
    },
    {
      "cell_type": "code",
      "execution_count": 38,
      "metadata": {
        "colab": {
          "base_uri": "https://localhost:8080/"
        },
        "id": "6-WcpqAWBMJi",
        "outputId": "945a1376-7bea-4f85-ec9e-785815912e32"
      },
      "outputs": [
        {
          "data": {
            "text/plain": [
              "(tensor(0), tensor(0))"
            ]
          },
          "execution_count": 38,
          "metadata": {},
          "output_type": "execute_result"
        }
      ],
      "source": [
        "x.min() , torch.min(x)"
      ]
    },
    {
      "cell_type": "code",
      "execution_count": 39,
      "metadata": {
        "colab": {
          "base_uri": "https://localhost:8080/"
        },
        "id": "Atv5JGsABWHT",
        "outputId": "c5dea85c-4d82-4c03-914b-4d7611796202"
      },
      "outputs": [
        {
          "data": {
            "text/plain": [
              "(tensor(90), tensor(90))"
            ]
          },
          "execution_count": 39,
          "metadata": {},
          "output_type": "execute_result"
        }
      ],
      "source": [
        "x.max() , torch.max(x)"
      ]
    },
    {
      "cell_type": "code",
      "execution_count": 40,
      "metadata": {
        "colab": {
          "base_uri": "https://localhost:8080/",
          "height": 141
        },
        "id": "4xvkkdnOCa_T",
        "outputId": "be80a365-d075-4dcf-e18a-e82807b49f7d"
      },
      "outputs": [
        {
          "ename": "RuntimeError",
          "evalue": "mean(): could not infer output dtype. Input dtype must be either a floating point or complex dtype. Got: Long",
          "output_type": "error",
          "traceback": [
            "\u001b[0;31m---------------------------------------------------------------------------\u001b[0m",
            "\u001b[0;31mRuntimeError\u001b[0m                              Traceback (most recent call last)",
            "\u001b[0;32m/tmp/ipython-input-40-3791599204.py\u001b[0m in \u001b[0;36m<cell line: 0>\u001b[0;34m()\u001b[0m\n\u001b[0;32m----> 1\u001b[0;31m \u001b[0mx\u001b[0m\u001b[0;34m.\u001b[0m\u001b[0mmean\u001b[0m\u001b[0;34m(\u001b[0m\u001b[0;34m)\u001b[0m\u001b[0;34m\u001b[0m\u001b[0;34m\u001b[0m\u001b[0m\n\u001b[0m",
            "\u001b[0;31mRuntimeError\u001b[0m: mean(): could not infer output dtype. Input dtype must be either a floating point or complex dtype. Got: Long"
          ]
        }
      ],
      "source": [
        "x.mean()"
      ]
    },
    {
      "cell_type": "code",
      "execution_count": 41,
      "metadata": {
        "colab": {
          "base_uri": "https://localhost:8080/"
        },
        "id": "gpid5lxgBav7",
        "outputId": "6d894b21-3cc3-4cd9-9450-32b4854c47c4"
      },
      "outputs": [
        {
          "data": {
            "text/plain": [
              "(tensor(45.), tensor(45.))"
            ]
          },
          "execution_count": 41,
          "metadata": {},
          "output_type": "execute_result"
        }
      ],
      "source": [
        "torch.mean(x.type(torch.float32))  , x.type(torch.float32).mean()"
      ]
    },
    {
      "cell_type": "code",
      "execution_count": 42,
      "metadata": {
        "colab": {
          "base_uri": "https://localhost:8080/"
        },
        "id": "rLd-bNgoCdtL",
        "outputId": "f5a2bcc8-789b-4940-cc3d-f236fcfdec28"
      },
      "outputs": [
        {
          "data": {
            "text/plain": [
              "(tensor(450), tensor(450))"
            ]
          },
          "execution_count": 42,
          "metadata": {},
          "output_type": "execute_result"
        }
      ],
      "source": [
        "torch.sum(x) , x.sum()"
      ]
    },
    {
      "cell_type": "markdown",
      "metadata": {
        "id": "BwiUPUP0Dq_Y"
      },
      "source": [
        "Finding positionl min and max"
      ]
    },
    {
      "cell_type": "code",
      "execution_count": 43,
      "metadata": {
        "colab": {
          "base_uri": "https://localhost:8080/"
        },
        "id": "TAu2IuDvDwTz",
        "outputId": "5c51fbed-ff6c-4a09-eb56-3655ebf4b783"
      },
      "outputs": [
        {
          "data": {
            "text/plain": [
              "tensor([ 0, 10, 20, 30, 40, 50, 60, 70, 80, 90])"
            ]
          },
          "execution_count": 43,
          "metadata": {},
          "output_type": "execute_result"
        }
      ],
      "source": [
        "x"
      ]
    },
    {
      "cell_type": "code",
      "execution_count": null,
      "metadata": {
        "id": "Hf0JbrnHDxmz"
      },
      "outputs": [],
      "source": [
        "x.argmin()"
      ]
    },
    {
      "cell_type": "code",
      "execution_count": null,
      "metadata": {
        "id": "AvespHidD9Us"
      },
      "outputs": [],
      "source": [
        "x[0]"
      ]
    },
    {
      "cell_type": "code",
      "execution_count": null,
      "metadata": {
        "id": "MZwjpee8ES64"
      },
      "outputs": [],
      "source": [
        "x.argmax()"
      ]
    },
    {
      "cell_type": "code",
      "execution_count": 44,
      "metadata": {
        "colab": {
          "base_uri": "https://localhost:8080/"
        },
        "id": "MEIgHpZz1Jlu",
        "outputId": "560beb55-2e0a-41de-b298-78bef3b7d269"
      },
      "outputs": [
        {
          "name": "stdout",
          "output_type": "stream",
          "text": [
            "Input shape: torch.Size([3, 2])\n",
            "\n",
            "Output:\n",
            "tensor([[2.2368, 1.2292, 0.4714, 0.3864, 0.1309, 0.9838],\n",
            "        [4.4919, 2.1970, 0.4469, 0.5285, 0.3401, 2.4777],\n",
            "        [6.7469, 3.1648, 0.4224, 0.6705, 0.5493, 3.9716]],\n",
            "       grad_fn=<AddmmBackward0>)\n",
            "\n",
            "Output shape: torch.Size([3, 6])\n"
          ]
        }
      ],
      "source": [
        "#NN multi\n",
        "torch.manual_seed(42) #randome matrix weight\n",
        "linear = torch.nn.Linear(in_features=2, # in_features = matches inner dimension of input\n",
        "                         out_features=6) # out_features = describes outer value\n",
        "x = tensor_A\n",
        "output = linear(x)\n",
        "print(f\"Input shape: {x.shape}\\n\")\n",
        "print(f\"Output:\\n{output}\\n\\nOutput shape: {output.shape}\")"
      ]
    },
    {
      "cell_type": "markdown",
      "metadata": {
        "id": "k-PkE4QE7bF2"
      },
      "source": [
        "Reshaping, stacking, squeezing and unsqueezing\n",
        "![image.png](data:image/png;base64,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)\n"
      ]
    },
    {
      "cell_type": "code",
      "execution_count": 45,
      "metadata": {
        "colab": {
          "base_uri": "https://localhost:8080/"
        },
        "id": "DJ_krRJw665A",
        "outputId": "a9ed30d9-c202-4ed4-be01-2b6aa9162419"
      },
      "outputs": [
        {
          "data": {
            "text/plain": [
              "(tensor([1., 2., 3., 4., 5., 6., 7.]), torch.Size([7]))"
            ]
          },
          "execution_count": 45,
          "metadata": {},
          "output_type": "execute_result"
        }
      ],
      "source": [
        "# Create a tensor\n",
        "import torch\n",
        "x = torch.arange(1., 8.)\n",
        "x, x.shape"
      ]
    },
    {
      "cell_type": "code",
      "execution_count": 46,
      "metadata": {
        "colab": {
          "base_uri": "https://localhost:8080/"
        },
        "id": "YEhdFEGjAe_1",
        "outputId": "b42e81e6-000b-45fe-d664-18b836de621c"
      },
      "outputs": [
        {
          "data": {
            "text/plain": [
              "(tensor([[1., 2., 3., 4., 5., 6., 7.]]), torch.Size([1, 7]))"
            ]
          },
          "execution_count": 46,
          "metadata": {},
          "output_type": "execute_result"
        }
      ],
      "source": [
        "# Add an extra dimension\n",
        "x_reshaped = x.reshape(1, 7)\n",
        "x_reshaped, x_reshaped.shape"
      ]
    },
    {
      "cell_type": "code",
      "execution_count": 47,
      "metadata": {
        "colab": {
          "base_uri": "https://localhost:8080/"
        },
        "id": "_sDISpIxAhUZ",
        "outputId": "7cfecb9f-120e-4c21-d00e-a9fae622dff9"
      },
      "outputs": [
        {
          "data": {
            "text/plain": [
              "(tensor([[1., 2., 3., 4., 5., 6., 7.]]), torch.Size([1, 7]))"
            ]
          },
          "execution_count": 47,
          "metadata": {},
          "output_type": "execute_result"
        }
      ],
      "source": [
        "# Change view (keeps same data as original but changes view)\n",
        "# See more: https://stackoverflow.com/a/54507446/7900723\n",
        "z = x.view(1, 7)\n",
        "z, z.shape"
      ]
    },
    {
      "cell_type": "code",
      "execution_count": 48,
      "metadata": {
        "colab": {
          "base_uri": "https://localhost:8080/"
        },
        "id": "rzohBRkuA6Cz",
        "outputId": "9f907a6a-05fc-434c-860b-b26b19862fa6"
      },
      "outputs": [
        {
          "data": {
            "text/plain": [
              "(tensor([[5., 2., 3., 4., 5., 6., 7.]]), tensor([5., 2., 3., 4., 5., 6., 7.]))"
            ]
          },
          "execution_count": 48,
          "metadata": {},
          "output_type": "execute_result"
        }
      ],
      "source": [
        "# Changing z changes x so z has same memo as x changing z changes x\n",
        "z[:, 0] = 5\n",
        "z, x"
      ]
    },
    {
      "cell_type": "code",
      "execution_count": 49,
      "metadata": {
        "colab": {
          "base_uri": "https://localhost:8080/"
        },
        "id": "sFQv8S8WEexN",
        "outputId": "22195022-2a08-42b4-b4b0-e653ea1f6dae"
      },
      "outputs": [
        {
          "data": {
            "text/plain": [
              "1"
            ]
          },
          "execution_count": 49,
          "metadata": {},
          "output_type": "execute_result"
        }
      ],
      "source": [
        "x.ndim"
      ]
    },
    {
      "cell_type": "code",
      "execution_count": 50,
      "metadata": {
        "colab": {
          "base_uri": "https://localhost:8080/"
        },
        "id": "X0CueQUXBEhn",
        "outputId": "03017163-8ffb-4652-958a-7a13a1493a79"
      },
      "outputs": [
        {
          "data": {
            "text/plain": [
              "tensor([[5., 2., 3., 4., 5., 6., 7.],\n",
              "        [5., 2., 3., 4., 5., 6., 7.],\n",
              "        [5., 2., 3., 4., 5., 6., 7.],\n",
              "        [5., 2., 3., 4., 5., 6., 7.]])"
            ]
          },
          "execution_count": 50,
          "metadata": {},
          "output_type": "execute_result"
        }
      ],
      "source": [
        "# Stack tensors on top of each other\n",
        "x_stacked = torch.stack([x, x, x, x], dim=0) # try changing dim to dim=1 and see what happens\n",
        "x_stacked"
      ]
    },
    {
      "cell_type": "code",
      "execution_count": 52,
      "metadata": {
        "colab": {
          "base_uri": "https://localhost:8080/"
        },
        "id": "B00ZgHCJBMvt",
        "outputId": "f4f4f49e-999a-4de6-aff7-952d035280b1"
      },
      "outputs": [
        {
          "data": {
            "text/plain": [
              "(tensor([[5., 5., 5., 5.],\n",
              "         [2., 2., 2., 2.],\n",
              "         [3., 3., 3., 3.],\n",
              "         [4., 4., 4., 4.],\n",
              "         [5., 5., 5., 5.],\n",
              "         [6., 6., 6., 6.],\n",
              "         [7., 7., 7., 7.]]),\n",
              " torch.Size([7, 4]))"
            ]
          },
          "execution_count": 52,
          "metadata": {},
          "output_type": "execute_result"
        }
      ],
      "source": [
        "# Stack tensors on top of each other for dim there is a rule 0 ≤ dim ≤ current_tensor.ndim\n",
        "\n",
        "x_stacked = torch.stack([x, x, x, x], dim=1) # try changing dim to dim=1 and see what happens\n",
        "x_stacked ,x_stacked.size()"
      ]
    },
    {
      "cell_type": "code",
      "execution_count": 53,
      "metadata": {
        "colab": {
          "base_uri": "https://localhost:8080/"
        },
        "id": "3Ji1Sa2RU7OA",
        "outputId": "82174eae-3dfa-46f4-c242-434953ba5388"
      },
      "outputs": [
        {
          "name": "stdout",
          "output_type": "stream",
          "text": [
            "Previous tensor: tensor([[5., 2., 3., 4., 5., 6., 7.]])\n",
            "Previous shape: torch.Size([1, 7])\n",
            "\n",
            "New tensor: tensor([5., 2., 3., 4., 5., 6., 7.])\n",
            "New shape: torch.Size([7])\n"
          ]
        }
      ],
      "source": [
        "print(f\"Previous tensor: {x_reshaped}\")\n",
        "print(f\"Previous shape: {x_reshaped.shape}\")\n",
        "\n",
        "# Remove extra dimension from x_reshaped\n",
        "x_squeezed = x_reshaped.squeeze()\n",
        "print(f\"\\nNew tensor: {x_squeezed}\")\n",
        "print(f\"New shape: {x_squeezed.shape}\")"
      ]
    },
    {
      "cell_type": "code",
      "execution_count": 54,
      "metadata": {
        "colab": {
          "base_uri": "https://localhost:8080/"
        },
        "id": "VqCUMTPIVir3",
        "outputId": "d235937e-8ce6-4203-88f4-60aa96962e25"
      },
      "outputs": [
        {
          "name": "stdout",
          "output_type": "stream",
          "text": [
            "Previous tensor: tensor([5., 2., 3., 4., 5., 6., 7.])\n",
            "Previous shape: torch.Size([7])\n",
            "\n",
            "New tensor: tensor([[5., 2., 3., 4., 5., 6., 7.]])\n",
            "New shape: torch.Size([1, 7])\n"
          ]
        }
      ],
      "source": [
        "print(f\"Previous tensor: {x_squeezed}\")\n",
        "print(f\"Previous shape: {x_squeezed.shape}\")\n",
        "\n",
        "## Add an extra dimension with unsqueeze\n",
        "x_unsqueezed = x_squeezed.unsqueeze(dim=0)\n",
        "print(f\"\\nNew tensor: {x_unsqueezed}\")\n",
        "print(f\"New shape: {x_unsqueezed.shape}\")"
      ]
    },
    {
      "cell_type": "code",
      "execution_count": 55,
      "metadata": {
        "colab": {
          "base_uri": "https://localhost:8080/"
        },
        "id": "_gVaJoLlVrJd",
        "outputId": "fe08130f-4b58-4b4c-e4e6-c6f7cf0e4fc4"
      },
      "outputs": [
        {
          "name": "stdout",
          "output_type": "stream",
          "text": [
            "Previous shape: torch.Size([224, 224, 3])\n",
            "New shape: torch.Size([3, 224, 224])\n"
          ]
        }
      ],
      "source": [
        "# Create tensor with specific shape\n",
        "x_original = torch.rand(size=(224, 224, 3))\n",
        "\n",
        "# Permute the original tensor to rearrange the axis order\n",
        "x_permuted = x_original.permute(2, 0, 1) # shifts axis 0->1, 1->2, 2->0\n",
        "\n",
        "print(f\"Previous shape: {x_original.shape}\")\n",
        "print(f\"New shape: {x_permuted.shape}\")"
      ]
    },
    {
      "cell_type": "markdown",
      "metadata": {
        "id": "r3O8DGKtWPP7"
      },
      "source": [
        "Indexing (selecting data from tensors)\n",
        "Sometimes you'll want to select specific data from tensors (for example, only the first column or second row)."
      ]
    },
    {
      "cell_type": "code",
      "execution_count": 58,
      "metadata": {
        "colab": {
          "base_uri": "https://localhost:8080/"
        },
        "id": "Hz_uwTU8WO9C",
        "outputId": "a902e664-0ce7-4b3d-df3b-f6ca8d0eba34"
      },
      "outputs": [
        {
          "data": {
            "text/plain": [
              "(tensor([[[1, 2, 3],\n",
              "          [4, 5, 6],\n",
              "          [7, 8, 9]]]),\n",
              " torch.Size([1, 3, 3]),\n",
              " 3)"
            ]
          },
          "execution_count": 58,
          "metadata": {},
          "output_type": "execute_result"
        }
      ],
      "source": [
        "# Create a tensor\n",
        "import torch\n",
        "x = torch.arange(1, 10).reshape(1, 3, 3)\n",
        "x, x.shape , x.ndim"
      ]
    },
    {
      "cell_type": "code",
      "execution_count": 61,
      "metadata": {
        "colab": {
          "base_uri": "https://localhost:8080/"
        },
        "id": "H02ELLl3X73f",
        "outputId": "49235dbc-ec32-424f-ebff-fd1696dbcbfa"
      },
      "outputs": [
        {
          "data": {
            "text/plain": [
              "tensor([[1, 2, 3],\n",
              "        [4, 5, 6],\n",
              "        [7, 8, 9]])"
            ]
          },
          "execution_count": 61,
          "metadata": {},
          "output_type": "execute_result"
        }
      ],
      "source": [
        "x[0]"
      ]
    },
    {
      "cell_type": "code",
      "execution_count": 62,
      "metadata": {
        "colab": {
          "base_uri": "https://localhost:8080/"
        },
        "id": "AUHfSKkBYlbV",
        "outputId": "d0ad6046-7c93-4115-b40b-146ba6b57252"
      },
      "outputs": [
        {
          "data": {
            "text/plain": [
              "tensor([1, 2, 3])"
            ]
          },
          "execution_count": 62,
          "metadata": {},
          "output_type": "execute_result"
        }
      ],
      "source": [
        "x[0,0]"
      ]
    },
    {
      "cell_type": "code",
      "execution_count": 64,
      "metadata": {
        "colab": {
          "base_uri": "https://localhost:8080/"
        },
        "id": "begZqHntY2Kv",
        "outputId": "3c2bc259-23b7-4387-9d20-09cb280b50df"
      },
      "outputs": [
        {
          "data": {
            "text/plain": [
              "tensor(4)"
            ]
          },
          "execution_count": 64,
          "metadata": {},
          "output_type": "execute_result"
        }
      ],
      "source": [
        "x[0,1,0]"
      ]
    },
    {
      "cell_type": "code",
      "execution_count": 65,
      "metadata": {
        "colab": {
          "base_uri": "https://localhost:8080/"
        },
        "id": "BQ_KebNhZR1m",
        "outputId": "8aa99736-e079-400a-bf13-b573e21b74ff"
      },
      "outputs": [
        {
          "data": {
            "text/plain": [
              "tensor(9)"
            ]
          },
          "execution_count": 65,
          "metadata": {},
          "output_type": "execute_result"
        }
      ],
      "source": [
        "x[0,2,2]"
      ]
    },
    {
      "cell_type": "code",
      "execution_count": 67,
      "metadata": {
        "colab": {
          "base_uri": "https://localhost:8080/"
        },
        "id": "QChbr7nIZcpw",
        "outputId": "190d9e43-5541-4dc7-a548-8a751488f8ca"
      },
      "outputs": [
        {
          "data": {
            "text/plain": [
              "torch.Size([2, 2, 2, 2])"
            ]
          },
          "execution_count": 67,
          "metadata": {},
          "output_type": "execute_result"
        }
      ],
      "source": [
        "x = torch.tensor([\n",
        "    [  # Box 0\n",
        "        [[1, 2], [3, 4]],   # Row 0\n",
        "        [[5, 6], [7, 8]]    # Row 1\n",
        "    ],\n",
        "    [  # Box 1\n",
        "        [[9, 10], [11, 12]],   # Row 0\n",
        "        [[13, 14], [15, 16]]   # Row 1\n",
        "    ]\n",
        "])\n",
        "x.shape\n"
      ]
    },
    {
      "cell_type": "code",
      "execution_count": 68,
      "metadata": {
        "colab": {
          "base_uri": "https://localhost:8080/"
        },
        "id": "VEo-enUFbacw",
        "outputId": "412da345-5e42-40ac-c22f-e96ba8c2b2f6"
      },
      "outputs": [
        {
          "data": {
            "text/plain": [
              "tensor([[[1, 2],\n",
              "         [3, 4]],\n",
              "\n",
              "        [[5, 6],\n",
              "         [7, 8]]])"
            ]
          },
          "execution_count": 68,
          "metadata": {},
          "output_type": "execute_result"
        }
      ],
      "source": [
        "x[0]"
      ]
    },
    {
      "cell_type": "code",
      "execution_count": 69,
      "metadata": {
        "colab": {
          "base_uri": "https://localhost:8080/"
        },
        "id": "rui_DTtybeGX",
        "outputId": "f10b4c82-18ec-4231-d4f5-22510faffef5"
      },
      "outputs": [
        {
          "data": {
            "text/plain": [
              "tensor([[[ 1,  2],\n",
              "         [ 3,  4]],\n",
              "\n",
              "        [[ 9, 10],\n",
              "         [11, 12]]])"
            ]
          },
          "execution_count": 69,
          "metadata": {},
          "output_type": "execute_result"
        }
      ],
      "source": [
        "x[:, 0]"
      ]
    },
    {
      "cell_type": "code",
      "execution_count": 70,
      "metadata": {
        "colab": {
          "base_uri": "https://localhost:8080/"
        },
        "id": "AmMszLTtbhGQ",
        "outputId": "003664d5-2666-49de-873e-11435c7f492d"
      },
      "outputs": [
        {
          "data": {
            "text/plain": [
              "tensor([[[ 3,  4],\n",
              "         [ 7,  8]],\n",
              "\n",
              "        [[11, 12],\n",
              "         [15, 16]]])"
            ]
          },
          "execution_count": 70,
          "metadata": {},
          "output_type": "execute_result"
        }
      ],
      "source": [
        "x[:, :, 1]"
      ]
    },
    {
      "cell_type": "code",
      "execution_count": 71,
      "metadata": {
        "colab": {
          "base_uri": "https://localhost:8080/"
        },
        "id": "S5ow14xAbiNY",
        "outputId": "06f1d260-03d1-40f4-80f0-f9c2a75b5d0f"
      },
      "outputs": [
        {
          "data": {
            "text/plain": [
              "tensor([[[ 2,  4],\n",
              "         [ 6,  8]],\n",
              "\n",
              "        [[10, 12],\n",
              "         [14, 16]]])"
            ]
          },
          "execution_count": 71,
          "metadata": {},
          "output_type": "execute_result"
        }
      ],
      "source": [
        "x[:, :, :, 1]"
      ]
    },
    {
      "cell_type": "markdown",
      "metadata": {
        "id": "GAbkbe8rbwfJ"
      },
      "source": [
        "PyTorch tensors & NumPy¶\n",
        "Since NumPy is a popular Python numerical computing library, PyTorch has functionality to interact with it nicely.\n",
        "\n",
        "The two main methods you'll want to use for NumPy to PyTorch (and back again) are:\n",
        "\n",
        "**torch.from_numpy(ndarray) - NumPy array -> PyTorch tensor.**\n",
        "\n",
        "**torch.Tensor.numpy() - PyTorch tensor -> NumPy array.**"
      ]
    },
    {
      "cell_type": "code",
      "execution_count": 72,
      "metadata": {
        "colab": {
          "base_uri": "https://localhost:8080/"
        },
        "id": "zc4f4NWjbjzA",
        "outputId": "69933136-7b9a-4885-e368-5afed5c68a25"
      },
      "outputs": [
        {
          "data": {
            "text/plain": [
              "(array([1., 2., 3., 4., 5., 6., 7.]),\n",
              " tensor([1., 2., 3., 4., 5., 6., 7.], dtype=torch.float64))"
            ]
          },
          "execution_count": 72,
          "metadata": {},
          "output_type": "execute_result"
        }
      ],
      "source": [
        "# NumPy array to tensor\n",
        "import torch\n",
        "import numpy as np\n",
        "array = np.arange(1.0, 8.0) #by default in numpy float64\n",
        "tensor = torch.from_numpy(array)\n",
        "array, tensor"
      ]
    },
    {
      "cell_type": "code",
      "execution_count": 73,
      "metadata": {
        "colab": {
          "base_uri": "https://localhost:8080/"
        },
        "id": "7uy6Tte8fGei",
        "outputId": "e545f310-6db8-472e-c1b5-4e2fa5f450a1"
      },
      "outputs": [
        {
          "data": {
            "text/plain": [
              "(array([2., 3., 4., 5., 6., 7., 8.]),\n",
              " tensor([1., 2., 3., 4., 5., 6., 7.], dtype=torch.float64))"
            ]
          },
          "execution_count": 73,
          "metadata": {},
          "output_type": "execute_result"
        }
      ],
      "source": [
        "# Change the array, keep the tensor\n",
        "array = array + 1\n",
        "array, tensor"
      ]
    },
    {
      "cell_type": "code",
      "execution_count": 74,
      "metadata": {
        "colab": {
          "base_uri": "https://localhost:8080/"
        },
        "id": "JTSQrRX2gTCB",
        "outputId": "4138c525-29d3-4c4a-cc0e-02e434a34520"
      },
      "outputs": [
        {
          "data": {
            "text/plain": [
              "(tensor([1., 1., 1., 1., 1., 1., 1.]),\n",
              " array([1., 1., 1., 1., 1., 1., 1.], dtype=float32))"
            ]
          },
          "execution_count": 74,
          "metadata": {},
          "output_type": "execute_result"
        }
      ],
      "source": [
        "# Tensor to NumPy array\n",
        "tensor = torch.ones(7) # create a tensor of ones with dtype=float32\n",
        "numpy_tensor = tensor.numpy() # will be dtype=float32 unless changed\n",
        "tensor, numpy_tensor"
      ]
    },
    {
      "cell_type": "code",
      "execution_count": 75,
      "metadata": {
        "colab": {
          "base_uri": "https://localhost:8080/"
        },
        "id": "RFC0lRjjgXCB",
        "outputId": "68b569a8-6c40-4fbd-badf-9775a6c169a7"
      },
      "outputs": [
        {
          "data": {
            "text/plain": [
              "(tensor([2., 2., 2., 2., 2., 2., 2.]),\n",
              " array([1., 1., 1., 1., 1., 1., 1.], dtype=float32))"
            ]
          },
          "execution_count": 75,
          "metadata": {},
          "output_type": "execute_result"
        }
      ],
      "source": [
        "# Change the tensor, keep the array the same\n",
        "tensor = tensor + 1\n",
        "tensor, numpy_tensor"
      ]
    },
    {
      "cell_type": "markdown",
      "metadata": {
        "id": "zrYBI42Fga1N"
      },
      "source": [
        "# Reproducibility\n",
        "trying to take the random out of random\n",
        "\n",
        "start with random numbers -> tensor operations -> try to make better (again and again and again)\n",
        "\n",
        "control randomness in PyTorch : random seed\n",
        "\n",
        "[The PyTorch reproducibility documentation](https://)"
      ]
    },
    {
      "cell_type": "code",
      "execution_count": null,
      "metadata": {
        "colab": {
          "base_uri": "https://localhost:8080/"
        },
        "id": "XNeVcguhimHL",
        "outputId": "677bdfca-7964-4f63-f5be-ad813618c124"
      },
      "outputs": [
        {
          "name": "stdout",
          "output_type": "stream",
          "text": [
            "Tensor C:\n",
            "tensor([[0.8823, 0.9150, 0.3829, 0.9593],\n",
            "        [0.3904, 0.6009, 0.2566, 0.7936],\n",
            "        [0.9408, 0.1332, 0.9346, 0.5936]])\n",
            "\n",
            "Tensor D:\n",
            "tensor([[0.8823, 0.9150, 0.3829, 0.9593],\n",
            "        [0.3904, 0.6009, 0.2566, 0.7936],\n",
            "        [0.9408, 0.1332, 0.9346, 0.5936]])\n",
            "\n",
            "Does Tensor C equal Tensor D? (anywhere)\n"
          ]
        },
        {
          "data": {
            "text/plain": [
              "tensor([[True, True, True, True],\n",
              "        [True, True, True, True],\n",
              "        [True, True, True, True]])"
            ]
          },
          "execution_count": 79,
          "metadata": {},
          "output_type": "execute_result"
        }
      ],
      "source": [
        "import torch\n",
        "import random\n",
        "# # Set the random seed\n",
        "RANDOM_SEED=42 # try changing this to different values and see what happens to the numbers below\n",
        "torch.manual_seed(seed=RANDOM_SEED)\n",
        "random_tensor_C = torch.rand(3, 4)\n",
        "\n",
        "# Have to reset the seed every time a new rand() is called\n",
        "# Without this, tensor_D would be different to tensor_C\n",
        "torch.random.manual_seed(seed=RANDOM_SEED) # try commenting this line out and seeing what happens\n",
        "random_tensor_D = torch.rand(3, 4)\n",
        "print(f\"Tensor C:\\n{random_tensor_C}\\n\")\n",
        "print(f\"Tensor D:\\n{random_tensor_D}\\n\")\n",
        "print(f\"Does Tensor C equal Tensor D? (anywhere)\")\n",
        "random_tensor_C == random_tensor_D"
      ]
    }
  ],
  "metadata": {
    "colab": {
      "provenance": []
    },
    "kernelspec": {
      "display_name": "Python 3",
      "name": "python3"
    },
    "language_info": {
      "name": "python"
    }
  },
  "nbformat": 4,
  "nbformat_minor": 0
}
