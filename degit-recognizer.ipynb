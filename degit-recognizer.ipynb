{
 "cells": [
  {
   "cell_type": "code",
   "execution_count": 1,
   "id": "f7ac5d35",
   "metadata": {
    "_cell_guid": "b1076dfc-b9ad-4769-8c92-a6c4dae69d19",
    "_uuid": "8f2839f25d086af736a60e9eeb907d3b93b6e0e5",
    "execution": {
     "iopub.execute_input": "2025-07-18T19:13:59.735033Z",
     "iopub.status.busy": "2025-07-18T19:13:59.733863Z",
     "iopub.status.idle": "2025-07-18T19:14:01.708482Z",
     "shell.execute_reply": "2025-07-18T19:14:01.707745Z"
    },
    "papermill": {
     "duration": 1.981856,
     "end_time": "2025-07-18T19:14:01.710149",
     "exception": false,
     "start_time": "2025-07-18T19:13:59.728293",
     "status": "completed"
    },
    "tags": []
   },
   "outputs": [],
   "source": [
    "import numpy as np \n",
    "import pandas as pd \n",
    "from matplotlib import pyplot as plt"
   ]
  },
  {
   "cell_type": "code",
   "execution_count": 2,
   "id": "8c59df23",
   "metadata": {
    "execution": {
     "iopub.execute_input": "2025-07-18T19:14:01.716542Z",
     "iopub.status.busy": "2025-07-18T19:14:01.716151Z",
     "iopub.status.idle": "2025-07-18T19:14:04.902685Z",
     "shell.execute_reply": "2025-07-18T19:14:04.901904Z"
    },
    "papermill": {
     "duration": 3.191368,
     "end_time": "2025-07-18T19:14:04.904429",
     "exception": false,
     "start_time": "2025-07-18T19:14:01.713061",
     "status": "completed"
    },
    "tags": []
   },
   "outputs": [],
   "source": [
    "data = pd.read_csv('/kaggle/input/digit-recognizer/train.csv')"
   ]
  },
  {
   "cell_type": "code",
   "execution_count": 3,
   "id": "70a08b57",
   "metadata": {
    "execution": {
     "iopub.execute_input": "2025-07-18T19:14:04.910764Z",
     "iopub.status.busy": "2025-07-18T19:14:04.910452Z",
     "iopub.status.idle": "2025-07-18T19:14:04.937492Z",
     "shell.execute_reply": "2025-07-18T19:14:04.936679Z"
    },
    "papermill": {
     "duration": 0.031925,
     "end_time": "2025-07-18T19:14:04.939103",
     "exception": false,
     "start_time": "2025-07-18T19:14:04.907178",
     "status": "completed"
    },
    "tags": []
   },
   "outputs": [
    {
     "data": {
      "text/html": [
       "<div>\n",
       "<style scoped>\n",
       "    .dataframe tbody tr th:only-of-type {\n",
       "        vertical-align: middle;\n",
       "    }\n",
       "\n",
       "    .dataframe tbody tr th {\n",
       "        vertical-align: top;\n",
       "    }\n",
       "\n",
       "    .dataframe thead th {\n",
       "        text-align: right;\n",
       "    }\n",
       "</style>\n",
       "<table border=\"1\" class=\"dataframe\">\n",
       "  <thead>\n",
       "    <tr style=\"text-align: right;\">\n",
       "      <th></th>\n",
       "      <th>label</th>\n",
       "      <th>pixel0</th>\n",
       "      <th>pixel1</th>\n",
       "      <th>pixel2</th>\n",
       "      <th>pixel3</th>\n",
       "      <th>pixel4</th>\n",
       "      <th>pixel5</th>\n",
       "      <th>pixel6</th>\n",
       "      <th>pixel7</th>\n",
       "      <th>pixel8</th>\n",
       "      <th>...</th>\n",
       "      <th>pixel774</th>\n",
       "      <th>pixel775</th>\n",
       "      <th>pixel776</th>\n",
       "      <th>pixel777</th>\n",
       "      <th>pixel778</th>\n",
       "      <th>pixel779</th>\n",
       "      <th>pixel780</th>\n",
       "      <th>pixel781</th>\n",
       "      <th>pixel782</th>\n",
       "      <th>pixel783</th>\n",
       "    </tr>\n",
       "  </thead>\n",
       "  <tbody>\n",
       "    <tr>\n",
       "      <th>0</th>\n",
       "      <td>1</td>\n",
       "      <td>0</td>\n",
       "      <td>0</td>\n",
       "      <td>0</td>\n",
       "      <td>0</td>\n",
       "      <td>0</td>\n",
       "      <td>0</td>\n",
       "      <td>0</td>\n",
       "      <td>0</td>\n",
       "      <td>0</td>\n",
       "      <td>...</td>\n",
       "      <td>0</td>\n",
       "      <td>0</td>\n",
       "      <td>0</td>\n",
       "      <td>0</td>\n",
       "      <td>0</td>\n",
       "      <td>0</td>\n",
       "      <td>0</td>\n",
       "      <td>0</td>\n",
       "      <td>0</td>\n",
       "      <td>0</td>\n",
       "    </tr>\n",
       "    <tr>\n",
       "      <th>1</th>\n",
       "      <td>0</td>\n",
       "      <td>0</td>\n",
       "      <td>0</td>\n",
       "      <td>0</td>\n",
       "      <td>0</td>\n",
       "      <td>0</td>\n",
       "      <td>0</td>\n",
       "      <td>0</td>\n",
       "      <td>0</td>\n",
       "      <td>0</td>\n",
       "      <td>...</td>\n",
       "      <td>0</td>\n",
       "      <td>0</td>\n",
       "      <td>0</td>\n",
       "      <td>0</td>\n",
       "      <td>0</td>\n",
       "      <td>0</td>\n",
       "      <td>0</td>\n",
       "      <td>0</td>\n",
       "      <td>0</td>\n",
       "      <td>0</td>\n",
       "    </tr>\n",
       "    <tr>\n",
       "      <th>2</th>\n",
       "      <td>1</td>\n",
       "      <td>0</td>\n",
       "      <td>0</td>\n",
       "      <td>0</td>\n",
       "      <td>0</td>\n",
       "      <td>0</td>\n",
       "      <td>0</td>\n",
       "      <td>0</td>\n",
       "      <td>0</td>\n",
       "      <td>0</td>\n",
       "      <td>...</td>\n",
       "      <td>0</td>\n",
       "      <td>0</td>\n",
       "      <td>0</td>\n",
       "      <td>0</td>\n",
       "      <td>0</td>\n",
       "      <td>0</td>\n",
       "      <td>0</td>\n",
       "      <td>0</td>\n",
       "      <td>0</td>\n",
       "      <td>0</td>\n",
       "    </tr>\n",
       "    <tr>\n",
       "      <th>3</th>\n",
       "      <td>4</td>\n",
       "      <td>0</td>\n",
       "      <td>0</td>\n",
       "      <td>0</td>\n",
       "      <td>0</td>\n",
       "      <td>0</td>\n",
       "      <td>0</td>\n",
       "      <td>0</td>\n",
       "      <td>0</td>\n",
       "      <td>0</td>\n",
       "      <td>...</td>\n",
       "      <td>0</td>\n",
       "      <td>0</td>\n",
       "      <td>0</td>\n",
       "      <td>0</td>\n",
       "      <td>0</td>\n",
       "      <td>0</td>\n",
       "      <td>0</td>\n",
       "      <td>0</td>\n",
       "      <td>0</td>\n",
       "      <td>0</td>\n",
       "    </tr>\n",
       "    <tr>\n",
       "      <th>4</th>\n",
       "      <td>0</td>\n",
       "      <td>0</td>\n",
       "      <td>0</td>\n",
       "      <td>0</td>\n",
       "      <td>0</td>\n",
       "      <td>0</td>\n",
       "      <td>0</td>\n",
       "      <td>0</td>\n",
       "      <td>0</td>\n",
       "      <td>0</td>\n",
       "      <td>...</td>\n",
       "      <td>0</td>\n",
       "      <td>0</td>\n",
       "      <td>0</td>\n",
       "      <td>0</td>\n",
       "      <td>0</td>\n",
       "      <td>0</td>\n",
       "      <td>0</td>\n",
       "      <td>0</td>\n",
       "      <td>0</td>\n",
       "      <td>0</td>\n",
       "    </tr>\n",
       "  </tbody>\n",
       "</table>\n",
       "<p>5 rows × 785 columns</p>\n",
       "</div>"
      ],
      "text/plain": [
       "   label  pixel0  pixel1  pixel2  pixel3  pixel4  pixel5  pixel6  pixel7  \\\n",
       "0      1       0       0       0       0       0       0       0       0   \n",
       "1      0       0       0       0       0       0       0       0       0   \n",
       "2      1       0       0       0       0       0       0       0       0   \n",
       "3      4       0       0       0       0       0       0       0       0   \n",
       "4      0       0       0       0       0       0       0       0       0   \n",
       "\n",
       "   pixel8  ...  pixel774  pixel775  pixel776  pixel777  pixel778  pixel779  \\\n",
       "0       0  ...         0         0         0         0         0         0   \n",
       "1       0  ...         0         0         0         0         0         0   \n",
       "2       0  ...         0         0         0         0         0         0   \n",
       "3       0  ...         0         0         0         0         0         0   \n",
       "4       0  ...         0         0         0         0         0         0   \n",
       "\n",
       "   pixel780  pixel781  pixel782  pixel783  \n",
       "0         0         0         0         0  \n",
       "1         0         0         0         0  \n",
       "2         0         0         0         0  \n",
       "3         0         0         0         0  \n",
       "4         0         0         0         0  \n",
       "\n",
       "[5 rows x 785 columns]"
      ]
     },
     "execution_count": 3,
     "metadata": {},
     "output_type": "execute_result"
    }
   ],
   "source": [
    "data.head()"
   ]
  },
  {
   "cell_type": "code",
   "execution_count": 4,
   "id": "317235f5",
   "metadata": {
    "execution": {
     "iopub.execute_input": "2025-07-18T19:14:04.946110Z",
     "iopub.status.busy": "2025-07-18T19:14:04.945514Z",
     "iopub.status.idle": "2025-07-18T19:14:05.607412Z",
     "shell.execute_reply": "2025-07-18T19:14:05.606499Z"
    },
    "papermill": {
     "duration": 0.667207,
     "end_time": "2025-07-18T19:14:05.609129",
     "exception": false,
     "start_time": "2025-07-18T19:14:04.941922",
     "status": "completed"
    },
    "tags": []
   },
   "outputs": [],
   "source": [
    "data=np.array(data) #into numppy array\n",
    "m ,n =data.shape #(m rows n feaurues +1 label col col labels))\n",
    "np.random.shuffle(data) \n",
    "data_dev =data[0:1000].T # take the firdt 1000 rows for test \n",
    "Y_dev =data_dev[0] #extract the label\n",
    "X_dev =data_dev[1:n]\n",
    "\n",
    "data_train =data[1000:m].T\n",
    "Y_train =data_train[0] #extract the label \n",
    "X_train =data_train[1:n]\n",
    "\n"
   ]
  },
  {
   "cell_type": "code",
   "execution_count": 5,
   "id": "433b3e4a",
   "metadata": {
    "execution": {
     "iopub.execute_input": "2025-07-18T19:14:05.616097Z",
     "iopub.status.busy": "2025-07-18T19:14:05.615737Z",
     "iopub.status.idle": "2025-07-18T19:14:05.770150Z",
     "shell.execute_reply": "2025-07-18T19:14:05.769064Z"
    },
    "papermill": {
     "duration": 0.159775,
     "end_time": "2025-07-18T19:14:05.771799",
     "exception": false,
     "start_time": "2025-07-18T19:14:05.612024",
     "status": "completed"
    },
    "tags": []
   },
   "outputs": [],
   "source": [
    "X_train[:,0].shape\n",
    "X_train = X_train / 255. #normalization\n",
    "X_dev = X_dev / 255.\n"
   ]
  },
  {
   "cell_type": "code",
   "execution_count": 6,
   "id": "1aa0a750",
   "metadata": {
    "execution": {
     "iopub.execute_input": "2025-07-18T19:14:05.778471Z",
     "iopub.status.busy": "2025-07-18T19:14:05.778168Z",
     "iopub.status.idle": "2025-07-18T19:14:05.788127Z",
     "shell.execute_reply": "2025-07-18T19:14:05.787402Z"
    },
    "papermill": {
     "duration": 0.01488,
     "end_time": "2025-07-18T19:14:05.789439",
     "exception": false,
     "start_time": "2025-07-18T19:14:05.774559",
     "status": "completed"
    },
    "tags": []
   },
   "outputs": [],
   "source": [
    "def init_params():\n",
    "    w1 = np.random.randn(128, 784) * 0.01\n",
    "    b1 = np.zeros((128, 1))\n",
    "    w2 = np.random.randn(10, 128) * 0.01\n",
    "    b2 = np.zeros((10, 1))\n",
    "    return w1, b1, w2, b2\n",
    "\n",
    "\n",
    "    \n",
    "def ReLU(z):\n",
    "    return np.maximum(0,z)\n",
    "    \n",
    "def softmax(z):\n",
    "    exp = np.exp(z - np.max(z, axis=0))  # for numerical stability\n",
    "    return exp / np.sum(exp, axis=0)\n",
    "\n",
    "    \n",
    "def forward_prop(w1,b1,w2,b2,X):\n",
    "    z1 =w1.dot(X) +b1\n",
    "    a1=ReLU(z1)\n",
    "    z2=w2.dot(a1)+b2\n",
    "    a2=softmax(z2)\n",
    "    return z1 ,a1,z2,a2\n",
    "\n",
    "def one_hot(Y):\n",
    "    one_hot_Y =np.zeros((Y.size ,Y.max()+1))\n",
    "    one_hot_Y[np.arange(Y.size),Y] =1\n",
    "    one_hot_Y = one_hot_Y.T\n",
    "    return one_hot_Y\n",
    "    \n",
    "def ReLU_deriv(z):\n",
    "    return z >0\n",
    "\n",
    "\n",
    "def back_prop(z1, a1, a2, w2, w1, X, Y):\n",
    "    m = Y.size\n",
    "    one_hot_Y = one_hot(Y)\n",
    "    dz2 = a2 - one_hot_Y\n",
    "    dw2 = (1 / m) * dz2.dot(a1.T)\n",
    "    db2 = (1 / m) * np.sum(dz2, axis=1, keepdims=True)\n",
    "    dz1 = w2.T.dot(dz2) * ReLU_deriv(z1)\n",
    "    dw1 = (1 / m) * dz1.dot(X.T)\n",
    "    db1 = (1 / m) * np.sum(dz1, axis=1, keepdims=True)\n",
    "    return dw1, db1, dw2, db2\n",
    "    \n",
    "def update_params(w1,b1,w2,b2,dw1,dw2,db1,db2,alpha):\n",
    "    w1=w1-alpha*dw1\n",
    "    b1=b1-alpha*db1\n",
    "    w2=w2-alpha*dw2\n",
    "    b2=b2-alpha*db2\n",
    "    return w1 ,b1,w2,b2\n",
    "    \n",
    "    \n",
    "\n",
    "    "
   ]
  },
  {
   "cell_type": "code",
   "execution_count": 7,
   "id": "a4cacbe5",
   "metadata": {
    "execution": {
     "iopub.execute_input": "2025-07-18T19:14:05.795954Z",
     "iopub.status.busy": "2025-07-18T19:14:05.795672Z",
     "iopub.status.idle": "2025-07-18T19:14:05.802014Z",
     "shell.execute_reply": "2025-07-18T19:14:05.801229Z"
    },
    "papermill": {
     "duration": 0.011067,
     "end_time": "2025-07-18T19:14:05.803334",
     "exception": false,
     "start_time": "2025-07-18T19:14:05.792267",
     "status": "completed"
    },
    "tags": []
   },
   "outputs": [],
   "source": [
    "\n",
    "def get_predictions(a2):\n",
    "    return np.argmax(a2, 0)\n",
    "\n",
    "def get_accuracy(predictions, Y):\n",
    "    print(predictions, Y)\n",
    "    return np.sum(predictions == Y) / Y.size\n",
    "    \n",
    "def gradient_decent(X,Y,alpha ,iterations):\n",
    "    w1,b1,w2,b2 =init_params()\n",
    "    for i in range (iterations):\n",
    "        z1,a1,z2,a2=forward_prop(w1,b1,w2,b2,X)\n",
    "        dw1, db1, dw2, db2 = back_prop( z1, a1, a2, w2, w1, X, Y)\n",
    "        w1, b1, w2, b2 = update_params(w1,b1,w2,b2,dw1,dw2,db1,db2,alpha)\n",
    "        if i % 10 == 0:\n",
    "            print(\"Iteration: \", i)\n",
    "            predictions = get_predictions(a2)\n",
    "            print(get_accuracy(predictions, Y))\n",
    "    return w1, b1, w2, b2\n",
    "        "
   ]
  },
  {
   "cell_type": "code",
   "execution_count": 8,
   "id": "4278175c",
   "metadata": {
    "execution": {
     "iopub.execute_input": "2025-07-18T19:14:05.809769Z",
     "iopub.status.busy": "2025-07-18T19:14:05.809459Z",
     "iopub.status.idle": "2025-07-18T19:16:55.422630Z",
     "shell.execute_reply": "2025-07-18T19:16:55.421557Z"
    },
    "papermill": {
     "duration": 169.618888,
     "end_time": "2025-07-18T19:16:55.424957",
     "exception": false,
     "start_time": "2025-07-18T19:14:05.806069",
     "status": "completed"
    },
    "tags": []
   },
   "outputs": [
    {
     "name": "stdout",
     "output_type": "stream",
     "text": [
      "Iteration:  0\n",
      "[9 9 3 ... 6 6 6] [9 2 6 ... 1 7 5]\n",
      "0.08392682926829269\n",
      "Iteration:  10\n",
      "[9 0 3 ... 1 1 0] [9 2 6 ... 1 7 5]\n",
      "0.4410731707317073\n",
      "Iteration:  20\n",
      "[9 0 6 ... 1 1 0] [9 2 6 ... 1 7 5]\n",
      "0.4812439024390244\n",
      "Iteration:  30\n",
      "[9 0 6 ... 1 7 0] [9 2 6 ... 1 7 5]\n",
      "0.4907073170731707\n",
      "Iteration:  40\n",
      "[9 0 6 ... 1 7 0] [9 2 6 ... 1 7 5]\n",
      "0.5293414634146342\n",
      "Iteration:  50\n",
      "[9 0 6 ... 1 7 0] [9 2 6 ... 1 7 5]\n",
      "0.6106829268292683\n",
      "Iteration:  60\n",
      "[9 0 6 ... 1 7 0] [9 2 6 ... 1 7 5]\n",
      "0.6764146341463415\n",
      "Iteration:  70\n",
      "[9 3 6 ... 1 7 0] [9 2 6 ... 1 7 5]\n",
      "0.7125853658536585\n",
      "Iteration:  80\n",
      "[9 2 6 ... 1 7 0] [9 2 6 ... 1 7 5]\n",
      "0.7485609756097561\n",
      "Iteration:  90\n",
      "[4 2 6 ... 1 7 0] [9 2 6 ... 1 7 5]\n",
      "0.7765121951219512\n",
      "Iteration:  100\n",
      "[4 2 6 ... 1 7 0] [9 2 6 ... 1 7 5]\n",
      "0.7955121951219513\n",
      "Iteration:  110\n",
      "[4 2 6 ... 1 7 0] [9 2 6 ... 1 7 5]\n",
      "0.8099268292682927\n",
      "Iteration:  120\n",
      "[9 2 6 ... 1 7 5] [9 2 6 ... 1 7 5]\n",
      "0.8219756097560975\n",
      "Iteration:  130\n",
      "[9 2 6 ... 1 7 5] [9 2 6 ... 1 7 5]\n",
      "0.832390243902439\n",
      "Iteration:  140\n",
      "[9 2 6 ... 1 7 5] [9 2 6 ... 1 7 5]\n",
      "0.8405121951219512\n",
      "Iteration:  150\n",
      "[9 2 6 ... 1 7 5] [9 2 6 ... 1 7 5]\n",
      "0.8470975609756097\n",
      "Iteration:  160\n",
      "[9 2 6 ... 1 7 5] [9 2 6 ... 1 7 5]\n",
      "0.853\n",
      "Iteration:  170\n",
      "[9 2 6 ... 1 7 5] [9 2 6 ... 1 7 5]\n",
      "0.8583414634146341\n",
      "Iteration:  180\n",
      "[9 2 6 ... 1 7 5] [9 2 6 ... 1 7 5]\n",
      "0.8638780487804878\n",
      "Iteration:  190\n",
      "[9 2 6 ... 1 7 5] [9 2 6 ... 1 7 5]\n",
      "0.8680487804878049\n",
      "Iteration:  200\n",
      "[9 2 6 ... 1 7 5] [9 2 6 ... 1 7 5]\n",
      "0.8710487804878049\n",
      "Iteration:  210\n",
      "[9 2 6 ... 1 7 5] [9 2 6 ... 1 7 5]\n",
      "0.8748536585365854\n",
      "Iteration:  220\n",
      "[9 2 6 ... 1 7 5] [9 2 6 ... 1 7 5]\n",
      "0.8775365853658537\n",
      "Iteration:  230\n",
      "[9 2 6 ... 1 7 5] [9 2 6 ... 1 7 5]\n",
      "0.8799024390243902\n",
      "Iteration:  240\n",
      "[9 2 6 ... 1 7 5] [9 2 6 ... 1 7 5]\n",
      "0.8819268292682927\n",
      "Iteration:  250\n",
      "[9 2 6 ... 1 7 5] [9 2 6 ... 1 7 5]\n",
      "0.8835609756097561\n",
      "Iteration:  260\n",
      "[9 2 6 ... 1 7 5] [9 2 6 ... 1 7 5]\n",
      "0.8853658536585366\n",
      "Iteration:  270\n",
      "[9 2 6 ... 1 7 5] [9 2 6 ... 1 7 5]\n",
      "0.8868048780487805\n",
      "Iteration:  280\n",
      "[9 2 6 ... 1 7 5] [9 2 6 ... 1 7 5]\n",
      "0.8882439024390244\n",
      "Iteration:  290\n",
      "[9 2 6 ... 1 7 5] [9 2 6 ... 1 7 5]\n",
      "0.8894634146341464\n",
      "Iteration:  300\n",
      "[9 2 6 ... 1 7 5] [9 2 6 ... 1 7 5]\n",
      "0.890390243902439\n",
      "Iteration:  310\n",
      "[9 2 6 ... 1 7 5] [9 2 6 ... 1 7 5]\n",
      "0.8914878048780488\n",
      "Iteration:  320\n",
      "[9 2 6 ... 1 7 5] [9 2 6 ... 1 7 5]\n",
      "0.8927073170731707\n",
      "Iteration:  330\n",
      "[9 2 6 ... 1 7 5] [9 2 6 ... 1 7 5]\n",
      "0.8939512195121951\n",
      "Iteration:  340\n",
      "[9 2 6 ... 1 7 5] [9 2 6 ... 1 7 5]\n",
      "0.8950975609756098\n",
      "Iteration:  350\n",
      "[9 2 6 ... 1 7 5] [9 2 6 ... 1 7 5]\n",
      "0.8962439024390244\n",
      "Iteration:  360\n",
      "[9 2 6 ... 1 7 5] [9 2 6 ... 1 7 5]\n",
      "0.8969268292682927\n",
      "Iteration:  370\n",
      "[9 2 6 ... 1 7 5] [9 2 6 ... 1 7 5]\n",
      "0.8976585365853659\n",
      "Iteration:  380\n",
      "[9 2 6 ... 1 7 5] [9 2 6 ... 1 7 5]\n",
      "0.8985853658536586\n",
      "Iteration:  390\n",
      "[9 2 6 ... 1 7 5] [9 2 6 ... 1 7 5]\n",
      "0.8992439024390244\n",
      "Iteration:  400\n",
      "[9 2 6 ... 1 7 5] [9 2 6 ... 1 7 5]\n",
      "0.9000487804878049\n",
      "Iteration:  410\n",
      "[9 2 6 ... 1 7 5] [9 2 6 ... 1 7 5]\n",
      "0.9005121951219512\n",
      "Iteration:  420\n",
      "[9 2 6 ... 1 7 5] [9 2 6 ... 1 7 5]\n",
      "0.9012682926829269\n",
      "Iteration:  430\n",
      "[9 2 6 ... 1 7 5] [9 2 6 ... 1 7 5]\n",
      "0.9018536585365854\n",
      "Iteration:  440\n",
      "[9 2 6 ... 1 7 5] [9 2 6 ... 1 7 5]\n",
      "0.9023170731707317\n",
      "Iteration:  450\n",
      "[9 2 6 ... 1 7 5] [9 2 6 ... 1 7 5]\n",
      "0.9029512195121951\n",
      "Iteration:  460\n",
      "[9 2 6 ... 1 7 5] [9 2 6 ... 1 7 5]\n",
      "0.9035365853658537\n",
      "Iteration:  470\n",
      "[9 2 6 ... 1 7 5] [9 2 6 ... 1 7 5]\n",
      "0.9038780487804878\n",
      "Iteration:  480\n",
      "[9 3 6 ... 1 7 5] [9 2 6 ... 1 7 5]\n",
      "0.9044146341463415\n",
      "Iteration:  490\n",
      "[9 3 6 ... 1 7 5] [9 2 6 ... 1 7 5]\n",
      "0.9048780487804878\n"
     ]
    }
   ],
   "source": [
    "w1, b1, w2, b2 = gradient_decent(X_train, Y_train, 0.1, 500)\n"
   ]
  },
  {
   "cell_type": "code",
   "execution_count": 9,
   "id": "edea23e0",
   "metadata": {
    "execution": {
     "iopub.execute_input": "2025-07-18T19:16:55.438190Z",
     "iopub.status.busy": "2025-07-18T19:16:55.437835Z",
     "iopub.status.idle": "2025-07-18T19:16:55.444328Z",
     "shell.execute_reply": "2025-07-18T19:16:55.443481Z"
    },
    "papermill": {
     "duration": 0.014172,
     "end_time": "2025-07-18T19:16:55.445853",
     "exception": false,
     "start_time": "2025-07-18T19:16:55.431681",
     "status": "completed"
    },
    "tags": []
   },
   "outputs": [],
   "source": [
    "def make_predictions(X, w1, b1, w2, b2):\n",
    "    _, _, _, a2 = forward_prop(w1, b1, w2, b2, X)\n",
    "    predictions = get_predictions(a2)\n",
    "    return predictions\n",
    "\n",
    "def test_prediction(index, w1, b1, w2, b2):\n",
    "    current_image = X_train[:, index, None]\n",
    "    prediction = make_predictions(X_train[:, index, None], w1, b1, w2, b2)\n",
    "    label = Y_train[index]\n",
    "    print(\"Prediction: \", prediction)\n",
    "    print(\"Label: \", label)\n",
    "    \n",
    "    current_image = current_image.reshape((28, 28)) * 255\n",
    "    plt.gray()\n",
    "    plt.imshow(current_image, interpolation='nearest')\n",
    "    plt.show()"
   ]
  },
  {
   "cell_type": "code",
   "execution_count": 10,
   "id": "e0cd4bf5",
   "metadata": {
    "execution": {
     "iopub.execute_input": "2025-07-18T19:16:55.457917Z",
     "iopub.status.busy": "2025-07-18T19:16:55.457086Z",
     "iopub.status.idle": "2025-07-18T19:16:56.040449Z",
     "shell.execute_reply": "2025-07-18T19:16:56.039622Z"
    },
    "papermill": {
     "duration": 0.590982,
     "end_time": "2025-07-18T19:16:56.041935",
     "exception": false,
     "start_time": "2025-07-18T19:16:55.450953",
     "status": "completed"
    },
    "tags": []
   },
   "outputs": [
    {
     "name": "stdout",
     "output_type": "stream",
     "text": [
      "Prediction:  [9]\n",
      "Label:  9\n"
     ]
    },
    {
     "data": {
      "image/png": "[encoded data removed]",
      "text/plain": [
       "<Figure size 640x480 with 1 Axes>"
      ]
     },
     "metadata": {},
     "output_type": "display_data"
    },
    {
     "name": "stdout",
     "output_type": "stream",
     "text": [
      "Prediction:  [3]\n",
      "Label:  2\n"
     ]
    },
    {
     "data": {
      "image/png": "[encoded data removed]",
      "text/plain": [
       "<Figure size 640x480 with 1 Axes>"
      ]
     },
     "metadata": {},
     "output_type": "display_data"
    },
    {
     "name": "stdout",
     "output_type": "stream",
     "text": [
      "Prediction:  [6]\n",
      "Label:  6\n"
     ]
    },
    {
     "data": {
      "image/png": "[encoded data removed]",
      "text/plain": [
       "<Figure size 640x480 with 1 Axes>"
      ]
     },
     "metadata": {},
     "output_type": "display_data"
    },
    {
     "name": "stdout",
     "output_type": "stream",
     "text": [
      "Prediction:  [5]\n",
      "Label:  5\n"
     ]
    },
    {
     "data": {
      "image/png": "[encoded data removed]",
      "text/plain": [
       "<Figure size 640x480 with 1 Axes>"
      ]
     },
     "metadata": {},
     "output_type": "display_data"
    }
   ],
   "source": [
    "test_prediction(0, w1, b1, w2, b2)\n",
    "test_prediction(1,w1, b1, w2, b2)\n",
    "test_prediction(2, w1, b1, w2, b2)\n",
    "test_prediction(3, w1, b1, w2, b2)"
   ]
  }
 ],
 "metadata": {
  "kaggle": {
   "accelerator": "none",
   "dataSources": [
    {
     "databundleVersionId": 861823,
     "sourceId": 3004,
     "sourceType": "competition"
    }
   ],
   "dockerImageVersionId": 31089,
   "isGpuEnabled": false,
   "isInternetEnabled": false,
   "language": "python",
   "sourceType": "notebook"
  },
  "kernelspec": {
   "display_name": "Python 3",
   "language": "python",
   "name": "python3"
  },
  "language_info": {
   "codemirror_mode": {
    "name": "ipython",
    "version": 3
   },
   "file_extension": ".py",
   "mimetype": "text/x-python",
   "name": "python",
   "nbconvert_exporter": "python",
   "pygments_lexer": "ipython3",
   "version": "3.11.13"
  },
  "papermill": {
   "default_parameters": {},
   "duration": 182.760662,
   "end_time": "2025-07-18T19:16:56.668843",
   "environment_variables": {},
   "exception": null,
   "input_path": "__notebook__.ipynb",
   "output_path": "__notebook__.ipynb",
   "parameters": {},
   "start_time": "2025-07-18T19:13:53.908181",
   "version": "2.6.0"
  }
 },
 "nbformat": 4,
 "nbformat_minor": 5
}
